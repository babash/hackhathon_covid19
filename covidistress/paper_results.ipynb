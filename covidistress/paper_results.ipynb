{
  "cells": [
    {
      "cell_type": "code",
      "metadata": {
        "tags": [],
        "cell_id": "00000-af5b2ef2-2359-44da-a677-6c01bf432e42",
        "deepnote_cell_type": "code"
      },
      "source": "# Start writing code here...",
      "execution_count": null,
      "outputs": []
    },
    {
      "cell_type": "markdown",
      "source": "Hypothesis 3a tested if trustin government efforts negatively predicted perceivedstress. In Model 3, the individual-level variables together accounted for 12.33% and 51.83% of the level-1 within-country and level-2 between-country variance, respectively (0.85 and 0.04 versus 0.97 and 0.07 in Model 2; see electronic supplementary material, table S8). Trustin government efforts to slow the spread of coronavirus was negatively associated with stress(B=−0.06, s.e. = 0.00,t98431= 49.35,p< 0.001), such that individuals with a higher level of trust in government efforts showed a lower level of stress.\nAge gender and education significantly predicted perceived stress: individuals with younger age(B=−0.02,s.e. = 0.00,t100589= 83.68,p< 0.001), female (B= 0.34, s.e. = 0.01,t101012= 50.19,p< 0.001) or with lower education level (B=−0.07, s.e. = 0.02,t101000= 4.62,p< 0.001;B=−0.14, s.e. = 0.02,t101008= 9.47,p<0.001) tended to report greater perceivedstress.",
      "metadata": {
        "tags": [],
        "cell_id": "00001-57696a23-e9f8-4254-9560-b3fcca9a1ad0",
        "deepnote_cell_type": "markdown"
      }
    },
    {
      "cell_type": "markdown",
      "source": "In Model 5, the random slope fortrustin government efforts was statistically significant (B= 0.00,s.e. = 0.00, WaldZ= 3.36,p= 0.001), suggesting that the association between governmenttrustandstresssignificantly varied across countrie",
      "metadata": {
        "tags": [],
        "cell_id": "00002-74b9b033-ebef-4991-a288-c92454821ee0",
        "deepnote_cell_type": "markdown"
      }
    },
    {
      "cell_type": "markdown",
      "source": "Concernover the coronavirus was positively associated withperceivedstress(B= 0.18, s.e. = 0.00,t102284= 77.92,p< 0.001). In Model 4, the positive relationshipbetweenconcernandstress(B= 0.18, s.e. = 0.00,t102385= 77.88,p< 0.001) was still statistically significantafter country-level variables were controlled for.\n\nn Model 5, random slopes ofconcernwere statistically significant (B= 0.00, s.e. = 0.00, WaldZ= 4.08,p< 0.001), suggesting that the association betweenconcernandstresssignificantly varied across countries.",
      "metadata": {
        "tags": [],
        "cell_id": "00003-92ed4966-3285-45e4-b406-80967b525911",
        "deepnote_cell_type": "markdown"
      }
    },
    {
      "cell_type": "markdown",
      "source": " we found thatwhile concern about the disease itself was a source of mental distress and perceived pressure, otherfactors including, for example, working conditions and children’s education during lockdown mustalso be taken into consideration to fully understand the psychological impact of COVID-19 [97]. Ourfindings add to the existing findings from studies that have highlighted the negative economic impactof the pandemic and its association with anxiety or depression [98], as well as the overall negativepsychological effects of the pandemic on parents [99].Third, we found that the more stressed people felt, the less compliant they were with behaviouralguidelines; but also that more concerned individuals tended to display more behavioural compliance.These associations between compliance with local behavioural guidelines, and the psychologicalfactors of perceived stress and concern, respectively, differed across countries. Again, the earlyCOVID-19 period conformed to previous research showing that perceived stress and concern over apandemic related to people’s compliance (e.g. [17–19,31–33]). ",
      "metadata": {
        "tags": [],
        "cell_id": "00004-1aca0d7e-fdf6-4cfb-b762-9335465d9cd6",
        "deepnote_cell_type": "markdown"
      }
    },
    {
      "cell_type": "markdown",
      "source": "Fourth, the results showed that the more trust people had in government efforts to slow the spread ofcoronavirus, the less stress they experienced",
      "metadata": {
        "tags": [],
        "cell_id": "00005-f6ff81fc-1c28-486a-b63d-e948c5be7300",
        "deepnote_cell_type": "markdown"
      }
    },
    {
      "cell_type": "markdown",
      "source": "<a style='text-decoration:none;line-height:16px;display:flex;color:#5B5B62;padding:10px;justify-content:end;' href='https://deepnote.com?utm_source=created-in-deepnote-cell&projectId=ee440d56-15d8-47e2-9125-c7817d63a1b6' target=\"_blank\">\n<img alt='Created in deepnote.com' style='display:inline;max-height:16px;margin:0px;margin-right:7.5px;' src='data:image/svg+xml;base64,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' > </img>\nCreated in <span style='font-weight:600;margin-left:4px;'>Deepnote</span></a>",
      "metadata": {
        "tags": [],
        "created_in_deepnote_cell": true,
        "deepnote_cell_type": "markdown"
      }
    }
  ],
  "nbformat": 4,
  "nbformat_minor": 2,
  "metadata": {
    "orig_nbformat": 2,
    "deepnote": {
      "is_reactive": false
    },
    "deepnote_notebook_id": "7d077df3-f452-478a-9e72-1ead395a481a",
    "deepnote_execution_queue": []
  }
}