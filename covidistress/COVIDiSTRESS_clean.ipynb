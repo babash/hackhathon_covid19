{
  "cells": [
    {
      "cell_type": "code",
      "metadata": {
        "tags": [],
        "cell_id": "00000-334e5a4f-7771-47dd-b4db-a43d5a471a0b",
        "deepnote_to_be_reexecuted": false,
        "source_hash": "dee8f6ef",
        "execution_millis": 3002,
        "execution_start": 1619255316147,
        "deepnote_cell_type": "code"
      },
      "source": "import pandas as pd\nimport pprint\nimport plotly.express as px\nimport numpy as np\nfrom sklearn.manifold import TSNE\nfrom scipy.stats import ttest_ind_from_stats\nimport re",
      "execution_count": 1,
      "outputs": []
    },
    {
      "cell_type": "code",
      "metadata": {
        "tags": [],
        "cell_id": "00001-9dec78ce-8d64-4198-9cd9-ac38ff690bcf",
        "deepnote_to_be_reexecuted": false,
        "source_hash": "dbf1345f",
        "execution_millis": 11674,
        "execution_start": 1619255319150,
        "deepnote_cell_type": "code"
      },
      "source": "! pip install unidecode\n! pip install python-Levenshtein",
      "execution_count": 2,
      "outputs": [
        {
          "name": "stdout",
          "text": "Requirement already satisfied: unidecode in /root/venv/lib/python3.7/site-packages (1.2.0)\nRequirement already satisfied: python-Levenshtein in /root/venv/lib/python3.7/site-packages (0.12.2)\nRequirement already satisfied: setuptools in /root/venv/lib/python3.7/site-packages (from python-Levenshtein) (54.1.2)\n",
          "output_type": "stream"
        }
      ]
    },
    {
      "cell_type": "code",
      "metadata": {
        "tags": [],
        "cell_id": "00002-eaf80d48-7693-4f28-8215-a4a1e75c8d0c",
        "deepnote_to_be_reexecuted": false,
        "source_hash": "406e3e0b",
        "execution_millis": 17,
        "execution_start": 1619255330837,
        "deepnote_cell_type": "code"
      },
      "source": "import unidecode\nimport Levenshtein as levenshtein",
      "execution_count": 3,
      "outputs": []
    },
    {
      "cell_type": "markdown",
      "source": "Data can be found in doc_covidstress",
      "metadata": {
        "tags": [],
        "cell_id": "00001-a49951cd-7632-437c-80b0-e95f5321e0a6",
        "deepnote_cell_type": "markdown"
      }
    },
    {
      "cell_type": "markdown",
      "source": "## Data Load",
      "metadata": {
        "tags": [],
        "cell_id": "00001-ad562588-fd45-4da5-9e1d-ba6d4818b1a3",
        "deepnote_cell_type": "markdown"
      }
    },
    {
      "cell_type": "code",
      "metadata": {
        "tags": [],
        "cell_id": "00001-d3e8c4a9-489b-4e9b-9296-909bad6dafb8",
        "deepnote_to_be_reexecuted": false,
        "source_hash": "e5cb39d",
        "execution_millis": 5703,
        "execution_start": 1619255330864,
        "deepnote_cell_type": "code"
      },
      "source": "df_global_fr = pd.read_csv(\"/work/COVIDiSTRESS_global_survey_May_30_2020(final_cleaned_file).csv\")\ndf_explain = pd.read_csv(\"/work/COVIDiSTRESS global survey May 30 2020 (numeric values).csv\", skiprows=lambda x: x > 2)",
      "execution_count": 4,
      "outputs": [
        {
          "name": "stderr",
          "text": "/shared-libs/python3.7/py-core/lib/python3.7/site-packages/IPython/core/interactiveshell.py:3166: DtypeWarning: Columns (54,55,56,57,58,59,60) have mixed types.Specify dtype option on import or set low_memory=False.\n  interactivity=interactivity, compiler=compiler, result=result)\n",
          "output_type": "stream"
        }
      ]
    },
    {
      "cell_type": "code",
      "metadata": {
        "tags": [],
        "cell_id": "00006-5da2ddb5-7da8-4774-a9f6-87f3e6778c58",
        "deepnote_to_be_reexecuted": false,
        "source_hash": "f07e21ab",
        "execution_millis": 732,
        "execution_start": 1619255336575,
        "deepnote_cell_type": "code"
      },
      "source": "df_explain.rename(columns={'$a':'a'})",
      "execution_count": 5,
      "outputs": [
        {
          "output_type": "execute_result",
          "execution_count": 5,
          "data": {
            "application/vnd.deepnote.dataframe.v2+json": {
              "row_count": 2,
              "column_count": 151,
              "columns": [
                {
                  "name": "StartDate",
                  "dtype": "object",
                  "stats": {
                    "unique_count": 2,
                    "nan_count": 0,
                    "categories": [
                      {
                        "name": "Start Date",
                        "count": 1
                      },
                      {
                        "name": "{\"ImportId\":\"startDate\",\"timeZone\":\"America/Denver\"}",
                        "count": 1
                      }
                    ]
                  }
                },
                {
                  "name": "EndDate",
                  "dtype": "object",
                  "stats": {
                    "unique_count": 2,
                    "nan_count": 0,
                    "categories": [
                      {
                        "name": "End Date",
                        "count": 1
                      },
                      {
                        "name": "{\"ImportId\":\"endDate\",\"timeZone\":\"America/Denver\"}",
                        "count": 1
                      }
                    ]
                  }
                },
                {
                  "name": "Status",
                  "dtype": "object",
                  "stats": {
                    "unique_count": 2,
                    "nan_count": 0,
                    "categories": [
                      {
                        "name": "Response Type",
                        "count": 1
                      },
                      {
                        "name": "{\"ImportId\":\"status\"}",
                        "count": 1
                      }
                    ]
                  }
                },
                {
                  "name": "Progress",
                  "dtype": "object",
                  "stats": {
                    "unique_count": 2,
                    "nan_count": 0,
                    "categories": [
                      {
                        "name": "Progress",
                        "count": 1
                      },
                      {
                        "name": "{\"ImportId\":\"progress\"}",
                        "count": 1
                      }
                    ]
                  }
                },
                {
                  "name": "Duration (in seconds)",
                  "dtype": "object",
                  "stats": {
                    "unique_count": 2,
                    "nan_count": 0,
                    "categories": [
                      {
                        "name": "Duration (in seconds)",
                        "count": 1
                      },
                      {
                        "name": "{\"ImportId\":\"duration\"}",
                        "count": 1
                      }
                    ]
                  }
                },
                {
                  "name": "Finished",
                  "dtype": "object",
                  "stats": {
                    "unique_count": 2,
                    "nan_count": 0,
                    "categories": [
                      {
                        "name": "Finished",
                        "count": 1
                      },
                      {
                        "name": "{\"ImportId\":\"finished\"}",
                        "count": 1
                      }
                    ]
                  }
                },
                {
                  "name": "RecordedDate",
                  "dtype": "object",
                  "stats": {
                    "unique_count": 2,
                    "nan_count": 0,
                    "categories": [
                      {
                        "name": "Recorded Date",
                        "count": 1
                      },
                      {
                        "name": "{\"ImportId\":\"recordedDate\",\"timeZone\":\"America/Denver\"}",
                        "count": 1
                      }
                    ]
                  }
                },
                {
                  "name": "ResponseId",
                  "dtype": "object",
                  "stats": {
                    "unique_count": 2,
                    "nan_count": 0,
                    "categories": [
                      {
                        "name": "Response ID",
                        "count": 1
                      },
                      {
                        "name": "{\"ImportId\":\"_recordId\"}",
                        "count": 1
                      }
                    ]
                  }
                },
                {
                  "name": "DistributionChannel",
                  "dtype": "object",
                  "stats": {
                    "unique_count": 2,
                    "nan_count": 0,
                    "categories": [
                      {
                        "name": "Distribution Channel",
                        "count": 1
                      },
                      {
                        "name": "{\"ImportId\":\"distributionChannel\"}",
                        "count": 1
                      }
                    ]
                  }
                },
                {
                  "name": "UserLanguage",
                  "dtype": "object",
                  "stats": {
                    "unique_count": 2,
                    "nan_count": 0,
                    "categories": [
                      {
                        "name": "User Language",
                        "count": 1
                      },
                      {
                        "name": "{\"ImportId\":\"userLanguage\"}",
                        "count": 1
                      }
                    ]
                  }
                },
                {
                  "name": "Consent",
                  "dtype": "object",
                  "stats": {
                    "unique_count": 2,
                    "nan_count": 0,
                    "categories": [
                      {
                        "name": "You are being invited to take part in a research study, shared by a scientist in your country. Before you decide to participate in this study, it is important that you understand why the research is being done and what it will involve. Please take the time to read the following information carefully. Please ask the researcher if there is anything that is not clear or if you need more information.\n\n\n\nTITLE OF RESEARCHPsychological stressors and behavioural implications of COVID-19\n\n\n\nPRINCIPAL INVESTIGATOR and CONTACT EMAIL\n\nAndreas Lieberoth, andreas@edu.au.dk Aarhus University, Denmark\n\n\n\nPURPOSE OF THE RESEARCH\n\nWe want to map out all the factors, that may affect people's psychological well-being and their ability to make good decisions during the COVID-19 (or \"Coronavirus\") outbreak all over the world. Researchers from all around the world are collaborating on this project, to help scientists and decision makers help and communicate.\n\n\n\nSTUDY PROCEDURE\n\nYou will be asked a series of questions in an online survey - mostly you will answer by clicking boxes to supply your opinion or experience. The survey is rather long, but you may stop any time. If there is a question you would rather not answer, you may at skip ahead to the next part.\n\n\n\nBENEFIT AND RISK\n\nThe study involves no risks beyond those encountered in normal everyday life or reading about Coronavirus on the internet. You can decide to withdraw from the data collection at any time, without the need to provide justification.\n\n\n\nCONFIDENTIALITY\n\nThis is carried out as an anonymous survey. We will not be collecting your name, email or IP address. The resulting global dataset will be made available to researchers and others via the Open Science Framework. \nDo you give your consent to the above?",
                        "count": 1
                      },
                      {
                        "name": "{\"ImportId\":\"QID4\"}",
                        "count": 1
                      }
                    ]
                  }
                },
                {
                  "name": "Dem_age",
                  "dtype": "object",
                  "stats": {
                    "unique_count": 2,
                    "nan_count": 0,
                    "categories": [
                      {
                        "name": "Age",
                        "count": 1
                      },
                      {
                        "name": "{\"ImportId\":\"QID7\"}",
                        "count": 1
                      }
                    ]
                  }
                },
                {
                  "name": "Dem_gender",
                  "dtype": "object",
                  "stats": {
                    "unique_count": 2,
                    "nan_count": 0,
                    "categories": [
                      {
                        "name": "Gender",
                        "count": 1
                      },
                      {
                        "name": "{\"ImportId\":\"QID1\"}",
                        "count": 1
                      }
                    ]
                  }
                },
                {
                  "name": "Dem_edu",
                  "dtype": "object",
                  "stats": {
                    "unique_count": 2,
                    "nan_count": 0,
                    "categories": [
                      {
                        "name": "What best describes your level of education?",
                        "count": 1
                      },
                      {
                        "name": "{\"ImportId\":\"QID8\"}",
                        "count": 1
                      }
                    ]
                  }
                },
                {
                  "name": "Dem_edu_mom",
                  "dtype": "object",
                  "stats": {
                    "unique_count": 2,
                    "nan_count": 0,
                    "categories": [
                      {
                        "name": "What best describes your mother's level of education?",
                        "count": 1
                      },
                      {
                        "name": "{\"ImportId\":\"QID9\"}",
                        "count": 1
                      }
                    ]
                  }
                },
                {
                  "name": "Dem_employment",
                  "dtype": "object",
                  "stats": {
                    "unique_count": 2,
                    "nan_count": 0,
                    "categories": [
                      {
                        "name": "Employment status",
                        "count": 1
                      },
                      {
                        "name": "{\"ImportId\":\"QID10\"}",
                        "count": 1
                      }
                    ]
                  }
                },
                {
                  "name": "Country",
                  "dtype": "object",
                  "stats": {
                    "unique_count": 2,
                    "nan_count": 0,
                    "categories": [
                      {
                        "name": "Country of residence",
                        "count": 1
                      },
                      {
                        "name": "{\"ImportId\":\"QID11\"}",
                        "count": 1
                      }
                    ]
                  }
                },
                {
                  "name": "Dem_Expat",
                  "dtype": "object",
                  "stats": {
                    "unique_count": 2,
                    "nan_count": 0,
                    "categories": [
                      {
                        "name": "Are you currently living outside of what you consider your home country?",
                        "count": 1
                      },
                      {
                        "name": "{\"ImportId\":\"QID12\"}",
                        "count": 1
                      }
                    ]
                  }
                },
                {
                  "name": "Dem_state",
                  "dtype": "object",
                  "stats": {
                    "unique_count": 2,
                    "nan_count": 0,
                    "categories": [
                      {
                        "name": "State/province",
                        "count": 1
                      },
                      {
                        "name": "{\"ImportId\":\"QID13_TEXT\"}",
                        "count": 1
                      }
                    ]
                  }
                },
                {
                  "name": "Dem_maritalstatus",
                  "dtype": "object",
                  "stats": {
                    "unique_count": 2,
                    "nan_count": 0,
                    "categories": [
                      {
                        "name": "Marital status",
                        "count": 1
                      },
                      {
                        "name": "{\"ImportId\":\"QID14\"}",
                        "count": 1
                      }
                    ]
                  }
                },
                {
                  "name": "Dem_dependents",
                  "dtype": "object",
                  "stats": {
                    "unique_count": 2,
                    "nan_count": 0,
                    "categories": [
                      {
                        "name": "Number of dependents (i.e. family members relying on you for support. Usually children)",
                        "count": 1
                      },
                      {
                        "name": "{\"ImportId\":\"QID15\"}",
                        "count": 1
                      }
                    ]
                  }
                },
                {
                  "name": "Dem_riskgroup",
                  "dtype": "object",
                  "stats": {
                    "unique_count": 2,
                    "nan_count": 0,
                    "categories": [
                      {
                        "name": "Are you or any of your close relations (familiy, close friends) in a high-risk group for Coronavirus? (e.g. pregnant, elderly or due to a pre-existing medical condition)",
                        "count": 1
                      },
                      {
                        "name": "{\"ImportId\":\"QID16\"}",
                        "count": 1
                      }
                    ]
                  }
                },
                {
                  "name": "Dem_islolation",
                  "dtype": "object",
                  "stats": {
                    "unique_count": 2,
                    "nan_count": 0,
                    "categories": [
                      {
                        "name": "What best describes your current situation?",
                        "count": 1
                      },
                      {
                        "name": "{\"ImportId\":\"QID17\"}",
                        "count": 1
                      }
                    ]
                  }
                },
                {
                  "name": "Dem_isolation_adults",
                  "dtype": "object",
                  "stats": {
                    "unique_count": 2,
                    "nan_count": 0,
                    "categories": [
                      {
                        "name": "If in relative isolation, how many other adults are staying together in the same place as you are?",
                        "count": 1
                      },
                      {
                        "name": "{\"ImportId\":\"QID19\"}",
                        "count": 1
                      }
                    ]
                  }
                },
                {
                  "name": "Dem_isolation_kids",
                  "dtype": "object",
                  "stats": {
                    "unique_count": 2,
                    "nan_count": 0,
                    "categories": [
                      {
                        "name": "If in relative isolation, how many children under the age of 12 are staying together in the same place as you are?",
                        "count": 1
                      },
                      {
                        "name": "{\"ImportId\":\"QID26\"}",
                        "count": 1
                      }
                    ]
                  }
                },
                {
                  "name": "AD_gain",
                  "dtype": "object",
                  "stats": {
                    "unique_count": 2,
                    "nan_count": 0,
                    "categories": [
                      {
                        "name": "Imagine that [QID11-ChoiceGroup-SelectedChoices] is preparing for the outbreak of an unusual disease, which is expected to kill 600 people. Two alternative programs to combat the disease have been proposed. Assume that the exact scientific estimate of the consequences of the programs are as follows.\n\n\nWhich of the two programs would you favor?",
                        "count": 1
                      },
                      {
                        "name": "{\"ImportId\":\"QID23\"}",
                        "count": 1
                      }
                    ]
                  }
                },
                {
                  "name": "AD_loss",
                  "dtype": "object",
                  "stats": {
                    "unique_count": 2,
                    "nan_count": 0,
                    "categories": [
                      {
                        "name": "Imagine that [QID11-ChoiceGroup-SelectedChoices] is preparing for the outbreak of an unusual disease, which is expected to kill 600 people. Two alternative programs to combat the disease have been proposed. Assume that the exact scientific estimate of the consequences of the programs are as follows.\nWhich of the two programs would you favor?",
                        "count": 1
                      },
                      {
                        "name": "{\"ImportId\":\"QID24\"}",
                        "count": 1
                      }
                    ]
                  }
                },
                {
                  "name": "AD_check",
                  "dtype": "object",
                  "stats": {
                    "unique_count": 2,
                    "nan_count": 0,
                    "categories": [
                      {
                        "name": "The previous question has been used in other research too. Did you recognize it, and if so, did you remember what the original study was about? (choose \"yes\" for either)",
                        "count": 1
                      },
                      {
                        "name": "{\"ImportId\":\"QID27\"}",
                        "count": 1
                      }
                    ]
                  }
                },
                {
                  "name": "Scale_PSS10_UCLA_1",
                  "dtype": "object",
                  "stats": {
                    "unique_count": 2,
                    "nan_count": 0,
                    "categories": [
                      {
                        "name": "In the last week, how often have you... - been upset because of something that happened unexpectedly?",
                        "count": 1
                      },
                      {
                        "name": "{\"ImportId\":\"QID29_1\"}",
                        "count": 1
                      }
                    ]
                  }
                },
                {
                  "name": "Scale_PSS10_UCLA_2",
                  "dtype": "object",
                  "stats": {
                    "unique_count": 2,
                    "nan_count": 0,
                    "categories": [
                      {
                        "name": "In the last week, how often have you... - felt that you were unable to control the important things in your life?",
                        "count": 1
                      },
                      {
                        "name": "{\"ImportId\":\"QID29_2\"}",
                        "count": 1
                      }
                    ]
                  }
                },
                {
                  "name": "Scale_PSS10_UCLA_3",
                  "dtype": "object",
                  "stats": {
                    "unique_count": 2,
                    "nan_count": 0,
                    "categories": [
                      {
                        "name": "In the last week, how often have you... - felt nervous and “stressed”?",
                        "count": 1
                      },
                      {
                        "name": "{\"ImportId\":\"QID29_3\"}",
                        "count": 1
                      }
                    ]
                  }
                },
                {
                  "name": "Scale_PSS10_UCLA_4",
                  "dtype": "object",
                  "stats": {
                    "unique_count": 2,
                    "nan_count": 0,
                    "categories": [
                      {
                        "name": "In the last week, how often have you... - felt confident about your ability to handle your personal problems?",
                        "count": 1
                      },
                      {
                        "name": "{\"ImportId\":\"QID29_4\"}",
                        "count": 1
                      }
                    ]
                  }
                },
                {
                  "name": "Scale_PSS10_UCLA_5",
                  "dtype": "object",
                  "stats": {
                    "unique_count": 2,
                    "nan_count": 0,
                    "categories": [
                      {
                        "name": "In the last week, how often have you... - felt that things were going your way?",
                        "count": 1
                      },
                      {
                        "name": "{\"ImportId\":\"QID29_5\"}",
                        "count": 1
                      }
                    ]
                  }
                },
                {
                  "name": "Scale_PSS10_UCLA_6",
                  "dtype": "object",
                  "stats": {
                    "unique_count": 2,
                    "nan_count": 0,
                    "categories": [
                      {
                        "name": "In the last week, how often have you... - found that you could not cope with all the things that you had to do?",
                        "count": 1
                      },
                      {
                        "name": "{\"ImportId\":\"QID29_6\"}",
                        "count": 1
                      }
                    ]
                  }
                },
                {
                  "name": "Scale_PSS10_UCLA_7",
                  "dtype": "object",
                  "stats": {
                    "unique_count": 2,
                    "nan_count": 0,
                    "categories": [
                      {
                        "name": "In the last week, how often have you... - been able to control irritations in your life?",
                        "count": 1
                      },
                      {
                        "name": "{\"ImportId\":\"QID29_7\"}",
                        "count": 1
                      }
                    ]
                  }
                },
                {
                  "name": "Scale_PSS10_UCLA_8",
                  "dtype": "object",
                  "stats": {
                    "unique_count": 2,
                    "nan_count": 0,
                    "categories": [
                      {
                        "name": "In the last week, how often have you... - felt that you were on top of things?",
                        "count": 1
                      },
                      {
                        "name": "{\"ImportId\":\"QID29_8\"}",
                        "count": 1
                      }
                    ]
                  }
                },
                {
                  "name": "Scale_PSS10_UCLA_9",
                  "dtype": "object",
                  "stats": {
                    "unique_count": 2,
                    "nan_count": 0,
                    "categories": [
                      {
                        "name": "In the last week, how often have you... - been angered because of things that were outside of your control?",
                        "count": 1
                      },
                      {
                        "name": "{\"ImportId\":\"QID29_9\"}",
                        "count": 1
                      }
                    ]
                  }
                },
                {
                  "name": "Scale_PSS10_UCLA_10",
                  "dtype": "object",
                  "stats": {
                    "unique_count": 2,
                    "nan_count": 0,
                    "categories": [
                      {
                        "name": "In the last week, how often have you... - felt difficulties were piling up so high that you could not overcome them?",
                        "count": 1
                      },
                      {
                        "name": "{\"ImportId\":\"QID29_10\"}",
                        "count": 1
                      }
                    ]
                  }
                },
                {
                  "name": "Scale_PSS10_UCLA_11",
                  "dtype": "object",
                  "stats": {
                    "unique_count": 2,
                    "nan_count": 0,
                    "categories": [
                      {
                        "name": "In the last week, how often have you... - felt that you lacked companionship?",
                        "count": 1
                      },
                      {
                        "name": "{\"ImportId\":\"QID29_11\"}",
                        "count": 1
                      }
                    ]
                  }
                },
                {
                  "name": "Scale_PSS10_UCLA_12",
                  "dtype": "object",
                  "stats": {
                    "unique_count": 2,
                    "nan_count": 0,
                    "categories": [
                      {
                        "name": "In the last week, how often have you... - felt left out?",
                        "count": 1
                      },
                      {
                        "name": "{\"ImportId\":\"QID29_12\"}",
                        "count": 1
                      }
                    ]
                  }
                },
                {
                  "name": "Scale_PSS10_UCLA_13",
                  "dtype": "object",
                  "stats": {
                    "unique_count": 2,
                    "nan_count": 0,
                    "categories": [
                      {
                        "name": "In the last week, how often have you... - felt isolated from others?",
                        "count": 1
                      },
                      {
                        "name": "{\"ImportId\":\"QID29_13\"}",
                        "count": 1
                      }
                    ]
                  }
                },
                {
                  "name": "OECD_people_1",
                  "dtype": "object",
                  "stats": {
                    "unique_count": 2,
                    "nan_count": 0,
                    "categories": [
                      {
                        "name": "On a scale from zero to ten, where zero is not at all and ten is completely, in general how much do you trust most people? - Most people?",
                        "count": 1
                      },
                      {
                        "name": "{\"ImportId\":\"QID31_1\"}",
                        "count": 1
                      }
                    ]
                  }
                },
                {
                  "name": "OECD_people_2",
                  "dtype": "object",
                  "stats": {
                    "unique_count": 2,
                    "nan_count": 0,
                    "categories": [
                      {
                        "name": "On a scale from zero to ten, where zero is not at all and ten is completely, in general how much do you trust most people? - Most people you know personally?",
                        "count": 1
                      },
                      {
                        "name": "{\"ImportId\":\"QID31_2\"}",
                        "count": 1
                      }
                    ]
                  }
                },
                {
                  "name": "OECD_insititutions_1",
                  "dtype": "object",
                  "stats": {
                    "unique_count": 2,
                    "nan_count": 0,
                    "categories": [
                      {
                        "name": "Even if you have had very little or no contact with these institutions, please base your answer on your general impression of these institutions. \nPlease tell us, on a score of 0-10, how much you personally trust each of the institutions below 0 means you do not trust an institution at all, and 10 means you have complete trust. - The parliament/government of [QID11-ChoiceGroup-SelectedChoices]",
                        "count": 1
                      },
                      {
                        "name": "{\"ImportId\":\"QID34_1\"}",
                        "count": 1
                      }
                    ]
                  }
                },
                {
                  "name": "OECD_insititutions_2",
                  "dtype": "object",
                  "stats": {
                    "unique_count": 2,
                    "nan_count": 0,
                    "categories": [
                      {
                        "name": "Even if you have had very little or no contact with these institutions, please base your answer on your general impression of these institutions. \nPlease tell us, on a score of 0-10, how much you personally trust each of the institutions below 0 means you do not trust an institution at all, and 10 means you have complete trust. - [QID11-ChoiceGroup-SelectedChoices]'s police",
                        "count": 1
                      },
                      {
                        "name": "{\"ImportId\":\"QID34_2\"}",
                        "count": 1
                      }
                    ]
                  }
                },
                {
                  "name": "OECD_insititutions_3",
                  "dtype": "object",
                  "stats": {
                    "unique_count": 2,
                    "nan_count": 0,
                    "categories": [
                      {
                        "name": "Even if you have had very little or no contact with these institutions, please base your answer on your general impression of these institutions. \nPlease tell us, on a score of 0-10, how much you personally trust each of the institutions below 0 means you do not trust an institution at all, and 10 means you have complete trust. - [QID11-ChoiceGroup-SelectedChoices]'s civil service",
                        "count": 1
                      },
                      {
                        "name": "{\"ImportId\":\"QID34_3\"}",
                        "count": 1
                      }
                    ]
                  }
                },
                {
                  "name": "OECD_insititutions_4",
                  "dtype": "object",
                  "stats": {
                    "unique_count": 2,
                    "nan_count": 0,
                    "categories": [
                      {
                        "name": "Even if you have had very little or no contact with these institutions, please base your answer on your general impression of these institutions. \nPlease tell us, on a score of 0-10, how much you personally trust each of the institutions below 0 means you do not trust an institution at all, and 10 means you have complete trust. - [QID11-ChoiceGroup-SelectedChoices]'s health system",
                        "count": 1
                      },
                      {
                        "name": "{\"ImportId\":\"QID34_4\"}",
                        "count": 1
                      }
                    ]
                  }
                },
                {
                  "name": "OECD_insititutions_5",
                  "dtype": "object",
                  "stats": {
                    "unique_count": 2,
                    "nan_count": 0,
                    "categories": [
                      {
                        "name": "Even if you have had very little or no contact with these institutions, please base your answer on your general impression of these institutions. \nPlease tell us, on a score of 0-10, how much you personally trust each of the institutions below 0 means you do not trust an institution at all, and 10 means you have complete trust. - The World Health Organisation (WHO)",
                        "count": 1
                      },
                      {
                        "name": "{\"ImportId\":\"QID34_5\"}",
                        "count": 1
                      }
                    ]
                  }
                },
                {
                  "name": "OECD_insititutions_6",
                  "dtype": "object",
                  "stats": {
                    "unique_count": 2,
                    "nan_count": 0,
                    "categories": [
                      {
                        "name": "Even if you have had very little or no contact with these institutions, please base your answer on your general impression of these institutions. \nPlease tell us, on a score of 0-10, how much you personally trust each of the institutions below 0 means you do not trust an institution at all, and 10 means you have complete trust. - The govenment of [QID11-ChoiceGroup-SelectedChoices]'s  effort to handle Coronavirus",
                        "count": 1
                      },
                      {
                        "name": "{\"ImportId\":\"QID34_6\"}",
                        "count": 1
                      }
                    ]
                  }
                },
                {
                  "name": "Corona_concerns_1",
                  "dtype": "object",
                  "stats": {
                    "unique_count": 2,
                    "nan_count": 0,
                    "categories": [
                      {
                        "name": "To what extent do you agree that you are concerned about the consequences of the Coronavirus … - … for yourself?",
                        "count": 1
                      },
                      {
                        "name": "{\"ImportId\":\"QID35_1\"}",
                        "count": 1
                      }
                    ]
                  }
                },
                {
                  "name": "Corona_concerns_2",
                  "dtype": "object",
                  "stats": {
                    "unique_count": 2,
                    "nan_count": 0,
                    "categories": [
                      {
                        "name": "To what extent do you agree that you are concerned about the consequences of the Coronavirus … - … for your family?",
                        "count": 1
                      },
                      {
                        "name": "{\"ImportId\":\"QID35_2\"}",
                        "count": 1
                      }
                    ]
                  }
                },
                {
                  "name": "Corona_concerns_3",
                  "dtype": "object",
                  "stats": {
                    "unique_count": 2,
                    "nan_count": 0,
                    "categories": [
                      {
                        "name": "To what extent do you agree that you are concerned about the consequences of the Coronavirus … - … for your close friends?",
                        "count": 1
                      },
                      {
                        "name": "{\"ImportId\":\"QID35_3\"}",
                        "count": 1
                      }
                    ]
                  }
                },
                {
                  "name": "Corona_concerns_4",
                  "dtype": "object",
                  "stats": {
                    "unique_count": 2,
                    "nan_count": 0,
                    "categories": [
                      {
                        "name": "To what extent do you agree that you are concerned about the consequences of the Coronavirus … - … for your country?",
                        "count": 1
                      },
                      {
                        "name": "{\"ImportId\":\"QID35_4\"}",
                        "count": 1
                      }
                    ]
                  }
                },
                {
                  "name": "Corona_concerns_5",
                  "dtype": "object",
                  "stats": {
                    "unique_count": 2,
                    "nan_count": 0,
                    "categories": [
                      {
                        "name": "To what extent do you agree that you are concerned about the consequences of the Coronavirus … - ...For other countries across the globe?",
                        "count": 1
                      },
                      {
                        "name": "{\"ImportId\":\"QID35_5\"}",
                        "count": 1
                      }
                    ]
                  }
                },
                {
                  "name": "Trust_countrymeasure",
                  "dtype": "object",
                  "stats": {
                    "unique_count": 2,
                    "nan_count": 0,
                    "categories": [
                      {
                        "name": "All things considered, do you believe that [QID11-ChoiceGroup-SelectedChoices]'s government has taken the appropriate measures in response to Coronavirus?",
                        "count": 1
                      },
                      {
                        "name": "{\"ImportId\":\"QID43\"}",
                        "count": 1
                      }
                    ]
                  }
                },
                {
                  "name": "Compliance_1",
                  "dtype": "object",
                  "stats": {
                    "unique_count": 2,
                    "nan_count": 0,
                    "categories": [
                      {
                        "name": "Many countries as well as the World Health Organisation (WHO) have issued some guidelines for how to behave during the Coronavirus situation, including added hygiene, testing and social distancing by staying away from social events, standing away from others in public spaces, avoiding leaving your home unnecessarily, keeping your children home, etc.\nTo what extent do you agree with the following? - I feel well informed about steps I can take, to help reduce the spread of Coronavirus.",
                        "count": 1
                      },
                      {
                        "name": "{\"ImportId\":\"QID38_1\"}",
                        "count": 1
                      }
                    ]
                  }
                },
                {
                  "name": "Compliance_2",
                  "dtype": "object",
                  "stats": {
                    "unique_count": 2,
                    "nan_count": 0,
                    "categories": [
                      {
                        "name": "Many countries as well as the World Health Organisation (WHO) have issued some guidelines for how to behave during the Coronavirus situation, including added hygiene, testing and social distancing by staying away from social events, standing away from others in public spaces, avoiding leaving your home unnecessarily, keeping your children home, etc.\nTo what extent do you agree with the following? - I have done everything I could possibly do as an individual to reduce the spread of Coronavirus.",
                        "count": 1
                      },
                      {
                        "name": "{\"ImportId\":\"QID38_2\"}",
                        "count": 1
                      }
                    ]
                  }
                },
                {
                  "name": "Compliance_3",
                  "dtype": "object",
                  "stats": {
                    "unique_count": 2,
                    "nan_count": 0,
                    "categories": [
                      {
                        "name": "Many countries as well as the World Health Organisation (WHO) have issued some guidelines for how to behave during the Coronavirus situation, including added hygiene, testing and social distancing by staying away from social events, standing away from others in public spaces, avoiding leaving your home unnecessarily, keeping your children home, etc.\nTo what extent do you agree with the following? - I have done everything I could possibly do to keep physical distance to others.",
                        "count": 1
                      },
                      {
                        "name": "{\"ImportId\":\"QID38_3\"}",
                        "count": 1
                      }
                    ]
                  }
                },
                {
                  "name": "Compliance_4",
                  "dtype": "object",
                  "stats": {
                    "unique_count": 2,
                    "nan_count": 0,
                    "categories": [
                      {
                        "name": "Many countries as well as the World Health Organisation (WHO) have issued some guidelines for how to behave during the Coronavirus situation, including added hygiene, testing and social distancing by staying away from social events, standing away from others in public spaces, avoiding leaving your home unnecessarily, keeping your children home, etc.\nTo what extent do you agree with the following? - I feel that keeping a physical distance from others would have a high personal cost to me.",
                        "count": 1
                      },
                      {
                        "name": "{\"ImportId\":\"QID38_4\"}",
                        "count": 1
                      }
                    ]
                  }
                },
                {
                  "name": "Compliance_5",
                  "dtype": "object",
                  "stats": {
                    "unique_count": 2,
                    "nan_count": 0,
                    "categories": [
                      {
                        "name": "Many countries as well as the World Health Organisation (WHO) have issued some guidelines for how to behave during the Coronavirus situation, including added hygiene, testing and social distancing by staying away from social events, standing away from others in public spaces, avoiding leaving your home unnecessarily, keeping your children home, etc.\nTo what extent do you agree with the following? - I trust others around me to follow guidelines to stop the spread of Coronavirus.",
                        "count": 1
                      },
                      {
                        "name": "{\"ImportId\":\"QID38_5\"}",
                        "count": 1
                      }
                    ]
                  }
                },
                {
                  "name": "Compliance_6",
                  "dtype": "object",
                  "stats": {
                    "unique_count": 2,
                    "nan_count": 0,
                    "categories": [
                      {
                        "name": "Many countries as well as the World Health Organisation (WHO) have issued some guidelines for how to behave during the Coronavirus situation, including added hygiene, testing and social distancing by staying away from social events, standing away from others in public spaces, avoiding leaving your home unnecessarily, keeping your children home, etc.\nTo what extent do you agree with the following? - I have bought large extra supplies of food or grocery items.",
                        "count": 1
                      },
                      {
                        "name": "{\"ImportId\":\"QID38_6\"}",
                        "count": 1
                      }
                    ]
                  }
                },
                {
                  "name": "Q52",
                  "dtype": "object",
                  "stats": {
                    "unique_count": 2,
                    "nan_count": 0,
                    "categories": [
                      {
                        "name": "Were you born before or in 1992?",
                        "count": 1
                      },
                      {
                        "name": "{\"ImportId\":\"QID59\"}",
                        "count": 1
                      }
                    ]
                  }
                },
                {
                  "name": "Q50",
                  "dtype": "object",
                  "stats": {
                    "unique_count": 2,
                    "nan_count": 0,
                    "categories": [
                      {
                        "name": "Did you have first-hand experience of the war? - Selected Choice",
                        "count": 1
                      },
                      {
                        "name": "{\"ImportId\":\"QID57\"}",
                        "count": 1
                      }
                    ]
                  }
                },
                {
                  "name": "Q50_4_TEXT",
                  "dtype": "object",
                  "stats": {
                    "unique_count": 2,
                    "nan_count": 0,
                    "categories": [
                      {
                        "name": "Did you have first-hand experience of the war? - 4. Other (describe): - Text",
                        "count": 1
                      },
                      {
                        "name": "{\"ImportId\":\"QID57_4_TEXT\"}",
                        "count": 1
                      }
                    ]
                  }
                },
                {
                  "name": "Q60",
                  "dtype": "object",
                  "stats": {
                    "unique_count": 2,
                    "nan_count": 0,
                    "categories": [
                      {
                        "name": "Were you wounded during the war?",
                        "count": 1
                      },
                      {
                        "name": "{\"ImportId\":\"QID67\"}",
                        "count": 1
                      }
                    ]
                  }
                },
                {
                  "name": "Q61",
                  "dtype": "object",
                  "stats": {
                    "unique_count": 2,
                    "nan_count": 0,
                    "categories": [
                      {
                        "name": "Have you lost someone close during the war?",
                        "count": 1
                      },
                      {
                        "name": "{\"ImportId\":\"QID68\"}",
                        "count": 1
                      }
                    ]
                  }
                },
                {
                  "name": "Q62",
                  "dtype": "object",
                  "stats": {
                    "unique_count": 2,
                    "nan_count": 0,
                    "categories": [
                      {
                        "name": "During the 1992-1995 war in Bosnia and Herzegovina, you: - Selected Choice",
                        "count": 1
                      },
                      {
                        "name": "{\"ImportId\":\"QID69\"}",
                        "count": 1
                      }
                    ]
                  }
                },
                {
                  "name": "Q62_7_TEXT",
                  "dtype": "object",
                  "stats": {
                    "unique_count": 2,
                    "nan_count": 0,
                    "categories": [
                      {
                        "name": "During the 1992-1995 war in Bosnia and Herzegovina, you: - 5. Other (describe): - Text",
                        "count": 1
                      },
                      {
                        "name": "{\"ImportId\":\"QID69_7_TEXT\"}",
                        "count": 1
                      }
                    ]
                  }
                },
                {
                  "name": "Q59",
                  "dtype": "object",
                  "stats": {
                    "unique_count": 2,
                    "nan_count": 0,
                    "categories": [
                      {
                        "name": "How many times during the past month did restrictions on places that you can go during the COVID-19 pandemic remind you of the 1992-1995 war in Bosnia and Herzegovina?",
                        "count": 1
                      },
                      {
                        "name": "{\"ImportId\":\"QID66\"}",
                        "count": 1
                      }
                    ]
                  }
                },
                {
                  "name": "Q53",
                  "dtype": "object",
                  "stats": {
                    "unique_count": 2,
                    "nan_count": 0,
                    "categories": [
                      {
                        "name": "How upset (bothered, sad, scared) did you get when restrictions on places that you can go during the COVID-19 pandemic reminded you of the 1992-1995 war in Bosnia and Herzegovina?",
                        "count": 1
                      },
                      {
                        "name": "{\"ImportId\":\"QID60\"}",
                        "count": 1
                      }
                    ]
                  }
                },
                {
                  "name": "Q54",
                  "dtype": "object",
                  "stats": {
                    "unique_count": 2,
                    "nan_count": 0,
                    "categories": [
                      {
                        "name": "How many times during the past month did news of social and economic instability  and tensions during the COVID-19 pandemic remind you of the 1992-1995 war in Bosnia and Herzegovina?",
                        "count": 1
                      },
                      {
                        "name": "{\"ImportId\":\"QID61\"}",
                        "count": 1
                      }
                    ]
                  }
                },
                {
                  "name": "Q55",
                  "dtype": "object",
                  "stats": {
                    "unique_count": 2,
                    "nan_count": 0,
                    "categories": [
                      {
                        "name": "How upset (bothered, sad, scared) did you get when news of political instability and tensions during the COVID-19 pandemic reminded you of the 1992-1995 war in Bosnia and Herzegovina?",
                        "count": 1
                      },
                      {
                        "name": "{\"ImportId\":\"QID62\"}",
                        "count": 1
                      }
                    ]
                  }
                },
                {
                  "name": "Q58_1",
                  "dtype": "object",
                  "stats": {
                    "unique_count": 2,
                    "nan_count": 0,
                    "categories": [
                      {
                        "name": "The following questions are related to mood, emotions and feelings you experienced in the past month. Please respond by choosing either yes or no. \nIn the past month, have you… - Had nightmares about the 1992-1995 war in Bosnia and Herzegovina or thought about the war when you did not want to?",
                        "count": 1
                      },
                      {
                        "name": "{\"ImportId\":\"QID65_1\"}",
                        "count": 1
                      }
                    ]
                  }
                },
                {
                  "name": "Q58_2",
                  "dtype": "object",
                  "stats": {
                    "unique_count": 2,
                    "nan_count": 0,
                    "categories": [
                      {
                        "name": "The following questions are related to mood, emotions and feelings you experienced in the past month. Please respond by choosing either yes or no. \nIn the past month, have you… - Tried hard not to think about the 1992-1995 war in Bosnia and Herzegovina or went out of your way to avoid situations that reminded you of the war?",
                        "count": 1
                      },
                      {
                        "name": "{\"ImportId\":\"QID65_2\"}",
                        "count": 1
                      }
                    ]
                  }
                },
                {
                  "name": "Q58_3",
                  "dtype": "object",
                  "stats": {
                    "unique_count": 2,
                    "nan_count": 0,
                    "categories": [
                      {
                        "name": "The following questions are related to mood, emotions and feelings you experienced in the past month. Please respond by choosing either yes or no. \nIn the past month, have you… - Been constantly on guard, watchful, or easily startled?",
                        "count": 1
                      },
                      {
                        "name": "{\"ImportId\":\"QID65_3\"}",
                        "count": 1
                      }
                    ]
                  }
                },
                {
                  "name": "Q58_4",
                  "dtype": "object",
                  "stats": {
                    "unique_count": 2,
                    "nan_count": 0,
                    "categories": [
                      {
                        "name": "The following questions are related to mood, emotions and feelings you experienced in the past month. Please respond by choosing either yes or no. \nIn the past month, have you… - Felt numb or detached from people, activities, or your surroundings?",
                        "count": 1
                      },
                      {
                        "name": "{\"ImportId\":\"QID65_4\"}",
                        "count": 1
                      }
                    ]
                  }
                },
                {
                  "name": "Q58_5",
                  "dtype": "object",
                  "stats": {
                    "unique_count": 2,
                    "nan_count": 0,
                    "categories": [
                      {
                        "name": "The following questions are related to mood, emotions and feelings you experienced in the past month. Please respond by choosing either yes or no. \nIn the past month, have you… - Felt guilty or unable to stop blaming yourself or others for the 1992-1995 war in Bosnia and Herzegovina or any problems the war may have caused?",
                        "count": 1
                      },
                      {
                        "name": "{\"ImportId\":\"QID65_5\"}",
                        "count": 1
                      }
                    ]
                  }
                },
                {
                  "name": "BFF_15_1",
                  "dtype": "object",
                  "stats": {
                    "unique_count": 2,
                    "nan_count": 0,
                    "categories": [
                      {
                        "name": "Finally, to finish the first part of the survey, please forget the Coronavirus situation for a moment, and think about yourself on normal days. \nI see myself as a person who... - ... is often concerned.",
                        "count": 1
                      },
                      {
                        "name": "{\"ImportId\":\"QID39_1\"}",
                        "count": 1
                      }
                    ]
                  }
                },
                {
                  "name": "BFF_15_2",
                  "dtype": "object",
                  "stats": {
                    "unique_count": 2,
                    "nan_count": 0,
                    "categories": [
                      {
                        "name": "Finally, to finish the first part of the survey, please forget the Coronavirus situation for a moment, and think about yourself on normal days. \nI see myself as a person who... - ... easily gets nervous.",
                        "count": 1
                      },
                      {
                        "name": "{\"ImportId\":\"QID39_2\"}",
                        "count": 1
                      }
                    ]
                  }
                },
                {
                  "name": "BFF_15_3",
                  "dtype": "object",
                  "stats": {
                    "unique_count": 2,
                    "nan_count": 0,
                    "categories": [
                      {
                        "name": "Finally, to finish the first part of the survey, please forget the Coronavirus situation for a moment, and think about yourself on normal days. \nI see myself as a person who... - ... is good at staying cool in stressful situations.",
                        "count": 1
                      },
                      {
                        "name": "{\"ImportId\":\"QID39_3\"}",
                        "count": 1
                      }
                    ]
                  }
                },
                {
                  "name": "BFF_15_4",
                  "dtype": "object",
                  "stats": {
                    "unique_count": 2,
                    "nan_count": 0,
                    "categories": [
                      {
                        "name": "Finally, to finish the first part of the survey, please forget the Coronavirus situation for a moment, and think about yourself on normal days. \nI see myself as a person who... - ... likes to chat.",
                        "count": 1
                      },
                      {
                        "name": "{\"ImportId\":\"QID39_4\"}",
                        "count": 1
                      }
                    ]
                  }
                },
                {
                  "name": "BFF_15_5",
                  "dtype": "object",
                  "stats": {
                    "unique_count": 2,
                    "nan_count": 0,
                    "categories": [
                      {
                        "name": "Finally, to finish the first part of the survey, please forget the Coronavirus situation for a moment, and think about yourself on normal days. \nI see myself as a person who... - ... is extrovert and sociable.",
                        "count": 1
                      },
                      {
                        "name": "{\"ImportId\":\"QID39_5\"}",
                        "count": 1
                      }
                    ]
                  }
                },
                {
                  "name": "BFF_15_6",
                  "dtype": "object",
                  "stats": {
                    "unique_count": 2,
                    "nan_count": 0,
                    "categories": [
                      {
                        "name": "Finally, to finish the first part of the survey, please forget the Coronavirus situation for a moment, and think about yourself on normal days. \nI see myself as a person who... - ... is socially reserved.",
                        "count": 1
                      },
                      {
                        "name": "{\"ImportId\":\"QID39_6\"}",
                        "count": 1
                      }
                    ]
                  }
                },
                {
                  "name": "BFF_15_7",
                  "dtype": "object",
                  "stats": {
                    "unique_count": 2,
                    "nan_count": 0,
                    "categories": [
                      {
                        "name": "Finally, to finish the first part of the survey, please forget the Coronavirus situation for a moment, and think about yourself on normal days. \nI see myself as a person who... - ... gets lots of new ideas.",
                        "count": 1
                      },
                      {
                        "name": "{\"ImportId\":\"QID39_7\"}",
                        "count": 1
                      }
                    ]
                  }
                },
                {
                  "name": "BFF_15_8",
                  "dtype": "object",
                  "stats": {
                    "unique_count": 2,
                    "nan_count": 0,
                    "categories": [
                      {
                        "name": "Finally, to finish the first part of the survey, please forget the Coronavirus situation for a moment, and think about yourself on normal days. \nI see myself as a person who... - ... appreciates art and aesthetics.",
                        "count": 1
                      },
                      {
                        "name": "{\"ImportId\":\"QID39_8\"}",
                        "count": 1
                      }
                    ]
                  }
                },
                {
                  "name": "BFF_15_9",
                  "dtype": "object",
                  "stats": {
                    "unique_count": 2,
                    "nan_count": 0,
                    "categories": [
                      {
                        "name": "Finally, to finish the first part of the survey, please forget the Coronavirus situation for a moment, and think about yourself on normal days. \nI see myself as a person who... - ... has a vivid imagination and can think of things that do not yet exist.",
                        "count": 1
                      },
                      {
                        "name": "{\"ImportId\":\"QID39_9\"}",
                        "count": 1
                      }
                    ]
                  }
                },
                {
                  "name": "BFF_15_10",
                  "dtype": "object",
                  "stats": {
                    "unique_count": 2,
                    "nan_count": 0,
                    "categories": [
                      {
                        "name": "Finally, to finish the first part of the survey, please forget the Coronavirus situation for a moment, and think about yourself on normal days. \nI see myself as a person who... - … is sometimes impolite to others.",
                        "count": 1
                      },
                      {
                        "name": "{\"ImportId\":\"QID39_10\"}",
                        "count": 1
                      }
                    ]
                  }
                },
                {
                  "name": "BFF_15_11",
                  "dtype": "object",
                  "stats": {
                    "unique_count": 2,
                    "nan_count": 0,
                    "categories": [
                      {
                        "name": "Finally, to finish the first part of the survey, please forget the Coronavirus situation for a moment, and think about yourself on normal days. \nI see myself as a person who... - …is forgiving towards others.",
                        "count": 1
                      },
                      {
                        "name": "{\"ImportId\":\"QID39_11\"}",
                        "count": 1
                      }
                    ]
                  }
                },
                {
                  "name": "BFF_15_12",
                  "dtype": "object",
                  "stats": {
                    "unique_count": 2,
                    "nan_count": 0,
                    "categories": [
                      {
                        "name": "Finally, to finish the first part of the survey, please forget the Coronavirus situation for a moment, and think about yourself on normal days. \nI see myself as a person who... - …is kind and considerate towards almost everyone.",
                        "count": 1
                      },
                      {
                        "name": "{\"ImportId\":\"QID39_12\"}",
                        "count": 1
                      }
                    ]
                  }
                },
                {
                  "name": "BFF_15_13",
                  "dtype": "object",
                  "stats": {
                    "unique_count": 2,
                    "nan_count": 0,
                    "categories": [
                      {
                        "name": "Finally, to finish the first part of the survey, please forget the Coronavirus situation for a moment, and think about yourself on normal days. \nI see myself as a person who... - … is thorough and meticulous.",
                        "count": 1
                      },
                      {
                        "name": "{\"ImportId\":\"QID39_13\"}",
                        "count": 1
                      }
                    ]
                  }
                },
                {
                  "name": "BFF_15_14",
                  "dtype": "object",
                  "stats": {
                    "unique_count": 2,
                    "nan_count": 0,
                    "categories": [
                      {
                        "name": "Finally, to finish the first part of the survey, please forget the Coronavirus situation for a moment, and think about yourself on normal days. \nI see myself as a person who... - … is rather lazy.",
                        "count": 1
                      },
                      {
                        "name": "{\"ImportId\":\"QID39_14\"}",
                        "count": 1
                      }
                    ]
                  }
                },
                {
                  "name": "BFF_15_15",
                  "dtype": "object",
                  "stats": {
                    "unique_count": 2,
                    "nan_count": 0,
                    "categories": [
                      {
                        "name": "Finally, to finish the first part of the survey, please forget the Coronavirus situation for a moment, and think about yourself on normal days. \nI see myself as a person who... - … is effective when I do something.",
                        "count": 1
                      },
                      {
                        "name": "{\"ImportId\":\"QID39_15\"}",
                        "count": 1
                      }
                    ]
                  }
                },
                {
                  "name": "Expl_Distress_1",
                  "dtype": "object",
                  "stats": {
                    "unique_count": 2,
                    "nan_count": 0,
                    "categories": [
                      {
                        "name": "In the current situation, how much do you agree that you do feel distressed over... - My day-to-day income right now",
                        "count": 1
                      },
                      {
                        "name": "{\"ImportId\":\"QID40_1\"}",
                        "count": 1
                      }
                    ]
                  }
                },
                {
                  "name": "Expl_Distress_2",
                  "dtype": "object",
                  "stats": {
                    "unique_count": 2,
                    "nan_count": 0,
                    "categories": [
                      {
                        "name": "In the current situation, how much do you agree that you do feel distressed over... - Being able to perform my work well enough",
                        "count": 1
                      },
                      {
                        "name": "{\"ImportId\":\"QID40_2\"}",
                        "count": 1
                      }
                    ]
                  }
                },
                {
                  "name": "Expl_Distress_3",
                  "dtype": "object",
                  "stats": {
                    "unique_count": 2,
                    "nan_count": 0,
                    "categories": [
                      {
                        "name": "In the current situation, how much do you agree that you do feel distressed over... - My children’s education",
                        "count": 1
                      },
                      {
                        "name": "{\"ImportId\":\"QID40_3\"}",
                        "count": 1
                      }
                    ]
                  }
                },
                {
                  "name": "Expl_Distress_4",
                  "dtype": "object",
                  "stats": {
                    "unique_count": 2,
                    "nan_count": 0,
                    "categories": [
                      {
                        "name": "In the current situation, how much do you agree that you do feel distressed over... - Future job prospects",
                        "count": 1
                      },
                      {
                        "name": "{\"ImportId\":\"QID40_4\"}",
                        "count": 1
                      }
                    ]
                  }
                },
                {
                  "name": "Expl_Distress_5",
                  "dtype": "object",
                  "stats": {
                    "unique_count": 2,
                    "nan_count": 0,
                    "categories": [
                      {
                        "name": "In the current situation, how much do you agree that you do feel distressed over... - Access to everyday necessities like food and other grocery items",
                        "count": 1
                      },
                      {
                        "name": "{\"ImportId\":\"QID40_5\"}",
                        "count": 1
                      }
                    ]
                  }
                },
                {
                  "name": "Expl_Distress_6",
                  "dtype": "object",
                  "stats": {
                    "unique_count": 2,
                    "nan_count": 0,
                    "categories": [
                      {
                        "name": "In the current situation, how much do you agree that you do feel distressed over... - Not being able to take part in social activities and occasions",
                        "count": 1
                      },
                      {
                        "name": "{\"ImportId\":\"QID40_6\"}",
                        "count": 1
                      }
                    ]
                  }
                },
                {
                  "name": "Expl_Distress_7",
                  "dtype": "object",
                  "stats": {
                    "unique_count": 2,
                    "nan_count": 0,
                    "categories": [
                      {
                        "name": "In the current situation, how much do you agree that you do feel distressed over... - Not being able to take part in religious activities",
                        "count": 1
                      },
                      {
                        "name": "{\"ImportId\":\"QID40_7\"}",
                        "count": 1
                      }
                    ]
                  }
                },
                {
                  "name": "Expl_Distress_8",
                  "dtype": "object",
                  "stats": {
                    "unique_count": 2,
                    "nan_count": 0,
                    "categories": [
                      {
                        "name": "In the current situation, how much do you agree that you do feel distressed over... - Coping with the behavior of adults who I am in isolation with",
                        "count": 1
                      },
                      {
                        "name": "{\"ImportId\":\"QID40_8\"}",
                        "count": 1
                      }
                    ]
                  }
                },
                {
                  "name": "Expl_Distress_9",
                  "dtype": "object",
                  "stats": {
                    "unique_count": 2,
                    "nan_count": 0,
                    "categories": [
                      {
                        "name": "In the current situation, how much do you agree that you do feel distressed over... - Coping with the behavior of children under 12 who I am in isolation  with",
                        "count": 1
                      },
                      {
                        "name": "{\"ImportId\":\"QID40_9\"}",
                        "count": 1
                      }
                    ]
                  }
                },
                {
                  "name": "Expl_Distress_10",
                  "dtype": "object",
                  "stats": {
                    "unique_count": 2,
                    "nan_count": 0,
                    "categories": [
                      {
                        "name": "In the current situation, how much do you agree that you do feel distressed over... - The national economy",
                        "count": 1
                      },
                      {
                        "name": "{\"ImportId\":\"QID40_10\"}",
                        "count": 1
                      }
                    ]
                  }
                },
                {
                  "name": "Expl_Distress_11",
                  "dtype": "object",
                  "stats": {
                    "unique_count": 2,
                    "nan_count": 0,
                    "categories": [
                      {
                        "name": "In the current situation, how much do you agree that you do feel distressed over... - Civil services like police, sanitation, etc.",
                        "count": 1
                      },
                      {
                        "name": "{\"ImportId\":\"QID40_11\"}",
                        "count": 1
                      }
                    ]
                  }
                },
                {
                  "name": "Expl_Distress_12",
                  "dtype": "object",
                  "stats": {
                    "unique_count": 2,
                    "nan_count": 0,
                    "categories": [
                      {
                        "name": "In the current situation, how much do you agree that you do feel distressed over... - The risk of myself or others I know catching Coronavirus",
                        "count": 1
                      },
                      {
                        "name": "{\"ImportId\":\"QID40_12\"}",
                        "count": 1
                      }
                    ]
                  }
                },
                {
                  "name": "Expl_Distress_13",
                  "dtype": "object",
                  "stats": {
                    "unique_count": 2,
                    "nan_count": 0,
                    "categories": [
                      {
                        "name": "In the current situation, how much do you agree that you do feel distressed over... - The risk of myself or others I know getting hospitalized or dying from Coronavirus",
                        "count": 1
                      },
                      {
                        "name": "{\"ImportId\":\"QID40_13\"}",
                        "count": 1
                      }
                    ]
                  }
                },
                {
                  "name": "Expl_Distress_14",
                  "dtype": "object",
                  "stats": {
                    "unique_count": 2,
                    "nan_count": 0,
                    "categories": [
                      {
                        "name": "In the current situation, how much do you agree that you do feel distressed over... - Worry over friends or relatives, who live far away",
                        "count": 1
                      },
                      {
                        "name": "{\"ImportId\":\"QID40_14\"}",
                        "count": 1
                      }
                    ]
                  }
                },
                {
                  "name": "Expl_Distress_15",
                  "dtype": "object",
                  "stats": {
                    "unique_count": 2,
                    "nan_count": 0,
                    "categories": [
                      {
                        "name": "In the current situation, how much do you agree that you do feel distressed over... - Having to adapt my work to digital platforms",
                        "count": 1
                      },
                      {
                        "name": "{\"ImportId\":\"QID40_15\"}",
                        "count": 1
                      }
                    ]
                  }
                },
                {
                  "name": "Expl_Distress_16",
                  "dtype": "object",
                  "stats": {
                    "unique_count": 2,
                    "nan_count": 0,
                    "categories": [
                      {
                        "name": "In the current situation, how much do you agree that you do feel distressed over... - Having to adapt my social life to digital platforms",
                        "count": 1
                      },
                      {
                        "name": "{\"ImportId\":\"QID40_16\"}",
                        "count": 1
                      }
                    ]
                  }
                },
                {
                  "name": "Expl_Distress_17",
                  "dtype": "object",
                  "stats": {
                    "unique_count": 2,
                    "nan_count": 0,
                    "categories": [
                      {
                        "name": "In the current situation, how much do you agree that you do feel distressed over... - Feeling ashamed acting differently towards other people (e.g. at work, if out shopping)",
                        "count": 1
                      },
                      {
                        "name": "{\"ImportId\":\"QID40_17\"}",
                        "count": 1
                      }
                    ]
                  }
                },
                {
                  "name": "Expl_Distress_18",
                  "dtype": "object",
                  "stats": {
                    "unique_count": 2,
                    "nan_count": 0,
                    "categories": [
                      {
                        "name": "In the current situation, how much do you agree that you do feel distressed over... - Loneliness",
                        "count": 1
                      },
                      {
                        "name": "{\"ImportId\":\"QID40_18\"}",
                        "count": 1
                      }
                    ]
                  }
                },
                {
                  "name": "Expl_Distress_19",
                  "dtype": "object",
                  "stats": {
                    "unique_count": 2,
                    "nan_count": 0,
                    "categories": [
                      {
                        "name": "In the current situation, how much do you agree that you do feel distressed over... - How much time I spend inside",
                        "count": 1
                      },
                      {
                        "name": "{\"ImportId\":\"QID40_19\"}",
                        "count": 1
                      }
                    ]
                  }
                },
                {
                  "name": "Expl_Distress_20",
                  "dtype": "object",
                  "stats": {
                    "unique_count": 2,
                    "nan_count": 0,
                    "categories": [
                      {
                        "name": "In the current situation, how much do you agree that you do feel distressed over... - How much time I spend in close proximity with others",
                        "count": 1
                      },
                      {
                        "name": "{\"ImportId\":\"QID40_20\"}",
                        "count": 1
                      }
                    ]
                  }
                },
                {
                  "name": "Expl_Distress_21",
                  "dtype": "object",
                  "stats": {
                    "unique_count": 2,
                    "nan_count": 0,
                    "categories": [
                      {
                        "name": "In the current situation, how much do you agree that you do feel distressed over... - Not knowing about developments related to Coronavirus",
                        "count": 1
                      },
                      {
                        "name": "{\"ImportId\":\"QID40_21\"}",
                        "count": 1
                      }
                    ]
                  }
                },
                {
                  "name": "Expl_Distress_22",
                  "dtype": "object",
                  "stats": {
                    "unique_count": 2,
                    "nan_count": 0,
                    "categories": [
                      {
                        "name": "In the current situation, how much do you agree that you do feel distressed over... - Not knowing what I should do to limit the spread of Coronavirus",
                        "count": 1
                      },
                      {
                        "name": "{\"ImportId\":\"QID40_22\"}",
                        "count": 1
                      }
                    ]
                  }
                },
                {
                  "name": "Expl_Distress_23",
                  "dtype": "object",
                  "stats": {
                    "unique_count": 2,
                    "nan_count": 0,
                    "categories": [
                      {
                        "name": "In the current situation, how much do you agree that you do feel distressed over... - Not knowing about how long measures like social distancing or closed shops/schools/restaurants will be in effect",
                        "count": 1
                      },
                      {
                        "name": "{\"ImportId\":\"QID40_23\"}",
                        "count": 1
                      }
                    ]
                  }
                },
                {
                  "name": "Expl_Distress_24",
                  "dtype": "object",
                  "stats": {
                    "unique_count": 2,
                    "nan_count": 0,
                    "categories": [
                      {
                        "name": "In the current situation, how much do you agree that you do feel distressed over... - Not being able to travel outside [QID11-ChoiceGroup-SelectedChoices]",
                        "count": 1
                      },
                      {
                        "name": "{\"ImportId\":\"QID40_24\"}",
                        "count": 1
                      }
                    ]
                  }
                },
                {
                  "name": "Expl_Distress_txt",
                  "dtype": "object",
                  "stats": {
                    "unique_count": 2,
                    "nan_count": 0,
                    "categories": [
                      {
                        "name": "Other?",
                        "count": 1
                      },
                      {
                        "name": "{\"ImportId\":\"QID45_TEXT\"}",
                        "count": 1
                      }
                    ]
                  }
                },
                {
                  "name": "SPS_1",
                  "dtype": "object",
                  "stats": {
                    "unique_count": 2,
                    "nan_count": 0,
                    "categories": [
                      {
                        "name": "Now something very important: Coping with the Coronavirus situation.\n\nIn your current day to day life, to what extent do you agree with the following? - There are people I can depend on to help me if I really need it.",
                        "count": 1
                      },
                      {
                        "name": "{\"ImportId\":\"QID41_1\"}",
                        "count": 1
                      }
                    ]
                  }
                },
                {
                  "name": "SPS_2",
                  "dtype": "object",
                  "stats": {
                    "unique_count": 2,
                    "nan_count": 0,
                    "categories": [
                      {
                        "name": "Now something very important: Coping with the Coronavirus situation.\n\nIn your current day to day life, to what extent do you agree with the following? - There are people who enjoy the same social activities I do.",
                        "count": 1
                      },
                      {
                        "name": "{\"ImportId\":\"QID41_2\"}",
                        "count": 1
                      }
                    ]
                  }
                },
                {
                  "name": "SPS_3",
                  "dtype": "object",
                  "stats": {
                    "unique_count": 2,
                    "nan_count": 0,
                    "categories": [
                      {
                        "name": "Now something very important: Coping with the Coronavirus situation.\n\nIn your current day to day life, to what extent do you agree with the following? - I feel part of a group of people who share my attitudes and beliefs.",
                        "count": 1
                      },
                      {
                        "name": "{\"ImportId\":\"QID41_3\"}",
                        "count": 1
                      }
                    ]
                  }
                },
                {
                  "name": "SPS_4",
                  "dtype": "object",
                  "stats": {
                    "unique_count": 2,
                    "nan_count": 0,
                    "categories": [
                      {
                        "name": "Now something very important: Coping with the Coronavirus situation.\n\nIn your current day to day life, to what extent do you agree with the following? - I have close relationships that provide me with a sense of emotional security and well-being.",
                        "count": 1
                      },
                      {
                        "name": "{\"ImportId\":\"QID41_4\"}",
                        "count": 1
                      }
                    ]
                  }
                },
                {
                  "name": "SPS_5",
                  "dtype": "object",
                  "stats": {
                    "unique_count": 2,
                    "nan_count": 0,
                    "categories": [
                      {
                        "name": "Now something very important: Coping with the Coronavirus situation.\n\nIn your current day to day life, to what extent do you agree with the following? - There is someone I could talk to about important decisions in my life.",
                        "count": 1
                      },
                      {
                        "name": "{\"ImportId\":\"QID41_5\"}",
                        "count": 1
                      }
                    ]
                  }
                },
                {
                  "name": "SPS_6",
                  "dtype": "object",
                  "stats": {
                    "unique_count": 2,
                    "nan_count": 0,
                    "categories": [
                      {
                        "name": "Now something very important: Coping with the Coronavirus situation.\n\nIn your current day to day life, to what extent do you agree with the following? - I have relationships where my competence and skills are recognized.",
                        "count": 1
                      },
                      {
                        "name": "{\"ImportId\":\"QID41_6\"}",
                        "count": 1
                      }
                    ]
                  }
                },
                {
                  "name": "SPS_7",
                  "dtype": "object",
                  "stats": {
                    "unique_count": 2,
                    "nan_count": 0,
                    "categories": [
                      {
                        "name": "Now something very important: Coping with the Coronavirus situation.\n\nIn your current day to day life, to what extent do you agree with the following? - There is a trustworthy person I could turn to for advice if I were having problems.",
                        "count": 1
                      },
                      {
                        "name": "{\"ImportId\":\"QID41_7\"}",
                        "count": 1
                      }
                    ]
                  }
                },
                {
                  "name": "SPS_8",
                  "dtype": "object",
                  "stats": {
                    "unique_count": 2,
                    "nan_count": 0,
                    "categories": [
                      {
                        "name": "Now something very important: Coping with the Coronavirus situation.\n\nIn your current day to day life, to what extent do you agree with the following? - I feel a strong emotional bond with at least one other person.",
                        "count": 1
                      },
                      {
                        "name": "{\"ImportId\":\"QID41_8\"}",
                        "count": 1
                      }
                    ]
                  }
                },
                {
                  "name": "SPS_9",
                  "dtype": "object",
                  "stats": {
                    "unique_count": 2,
                    "nan_count": 0,
                    "categories": [
                      {
                        "name": "Now something very important: Coping with the Coronavirus situation.\n\nIn your current day to day life, to what extent do you agree with the following? - There are people who admire my talents and abilities.",
                        "count": 1
                      },
                      {
                        "name": "{\"ImportId\":\"QID41_9\"}",
                        "count": 1
                      }
                    ]
                  }
                },
                {
                  "name": "SPS_10",
                  "dtype": "object",
                  "stats": {
                    "unique_count": 2,
                    "nan_count": 0,
                    "categories": [
                      {
                        "name": "Now something very important: Coping with the Coronavirus situation.\n\nIn your current day to day life, to what extent do you agree with the following? - There are people I can count on in an emergency.",
                        "count": 1
                      },
                      {
                        "name": "{\"ImportId\":\"QID41_10\"}",
                        "count": 1
                      }
                    ]
                  }
                },
                {
                  "name": "Expl_Coping_1",
                  "dtype": "object",
                  "stats": {
                    "unique_count": 2,
                    "nan_count": 0,
                    "categories": [
                      {
                        "name": "I have found the following helpful for reducing feelings of discomfort during the Coronavirus situation - Information from the government",
                        "count": 1
                      },
                      {
                        "name": "{\"ImportId\":\"QID44_1\"}",
                        "count": 1
                      }
                    ]
                  }
                },
                {
                  "name": "Expl_Coping_2",
                  "dtype": "object",
                  "stats": {
                    "unique_count": 2,
                    "nan_count": 0,
                    "categories": [
                      {
                        "name": "I have found the following helpful for reducing feelings of discomfort during the Coronavirus situation - Face-to-face interactions with friends and family",
                        "count": 1
                      },
                      {
                        "name": "{\"ImportId\":\"QID44_2\"}",
                        "count": 1
                      }
                    ]
                  }
                },
                {
                  "name": "Expl_Coping_3",
                  "dtype": "object",
                  "stats": {
                    "unique_count": 2,
                    "nan_count": 0,
                    "categories": [
                      {
                        "name": "I have found the following helpful for reducing feelings of discomfort during the Coronavirus situation - Phone calls or other long-range interactions with friends and family",
                        "count": 1
                      },
                      {
                        "name": "{\"ImportId\":\"QID44_3\"}",
                        "count": 1
                      }
                    ]
                  }
                },
                {
                  "name": "Expl_Coping_4",
                  "dtype": "object",
                  "stats": {
                    "unique_count": 2,
                    "nan_count": 0,
                    "categories": [
                      {
                        "name": "I have found the following helpful for reducing feelings of discomfort during the Coronavirus situation - Face-to-face interactions with colleagues",
                        "count": 1
                      },
                      {
                        "name": "{\"ImportId\":\"QID44_4\"}",
                        "count": 1
                      }
                    ]
                  }
                },
                {
                  "name": "Expl_Coping_5",
                  "dtype": "object",
                  "stats": {
                    "unique_count": 2,
                    "nan_count": 0,
                    "categories": [
                      {
                        "name": "I have found the following helpful for reducing feelings of discomfort during the Coronavirus situation - Phone calls or other long-range interactions with colleagues",
                        "count": 1
                      },
                      {
                        "name": "{\"ImportId\":\"QID44_5\"}",
                        "count": 1
                      }
                    ]
                  }
                },
                {
                  "name": "Expl_Coping_6",
                  "dtype": "object",
                  "stats": {
                    "unique_count": 2,
                    "nan_count": 0,
                    "categories": [
                      {
                        "name": "I have found the following helpful for reducing feelings of discomfort during the Coronavirus situation - Social media",
                        "count": 1
                      },
                      {
                        "name": "{\"ImportId\":\"QID44_6\"}",
                        "count": 1
                      }
                    ]
                  }
                },
                {
                  "name": "Expl_Coping_7",
                  "dtype": "object",
                  "stats": {
                    "unique_count": 2,
                    "nan_count": 0,
                    "categories": [
                      {
                        "name": "I have found the following helpful for reducing feelings of discomfort during the Coronavirus situation - Video games (alone)",
                        "count": 1
                      },
                      {
                        "name": "{\"ImportId\":\"QID44_7\"}",
                        "count": 1
                      }
                    ]
                  }
                },
                {
                  "name": "Expl_Coping_8",
                  "dtype": "object",
                  "stats": {
                    "unique_count": 2,
                    "nan_count": 0,
                    "categories": [
                      {
                        "name": "I have found the following helpful for reducing feelings of discomfort during the Coronavirus situation - Video games (online)",
                        "count": 1
                      },
                      {
                        "name": "{\"ImportId\":\"QID44_8\"}",
                        "count": 1
                      }
                    ]
                  }
                },
                {
                  "name": "Expl_Coping_9",
                  "dtype": "object",
                  "stats": {
                    "unique_count": 2,
                    "nan_count": 0,
                    "categories": [
                      {
                        "name": "I have found the following helpful for reducing feelings of discomfort during the Coronavirus situation - Watching tv-shows or movies",
                        "count": 1
                      },
                      {
                        "name": "{\"ImportId\":\"QID44_9\"}",
                        "count": 1
                      }
                    ]
                  }
                },
                {
                  "name": "Expl_Coping_10",
                  "dtype": "object",
                  "stats": {
                    "unique_count": 2,
                    "nan_count": 0,
                    "categories": [
                      {
                        "name": "I have found the following helpful for reducing feelings of discomfort during the Coronavirus situation - Dedicating myself to helping others",
                        "count": 1
                      },
                      {
                        "name": "{\"ImportId\":\"QID44_10\"}",
                        "count": 1
                      }
                    ]
                  }
                },
                {
                  "name": "Expl_Coping_11",
                  "dtype": "object",
                  "stats": {
                    "unique_count": 2,
                    "nan_count": 0,
                    "categories": [
                      {
                        "name": "I have found the following helpful for reducing feelings of discomfort during the Coronavirus situation - Dedicating myself to preparing for the crisis",
                        "count": 1
                      },
                      {
                        "name": "{\"ImportId\":\"QID44_11\"}",
                        "count": 1
                      }
                    ]
                  }
                },
                {
                  "name": "Expl_Coping_12",
                  "dtype": "object",
                  "stats": {
                    "unique_count": 2,
                    "nan_count": 0,
                    "categories": [
                      {
                        "name": "I have found the following helpful for reducing feelings of discomfort during the Coronavirus situation - Dedicating myself to following the government’s advice",
                        "count": 1
                      },
                      {
                        "name": "{\"ImportId\":\"QID44_12\"}",
                        "count": 1
                      }
                    ]
                  }
                },
                {
                  "name": "Expl_Coping_13",
                  "dtype": "object",
                  "stats": {
                    "unique_count": 2,
                    "nan_count": 0,
                    "categories": [
                      {
                        "name": "I have found the following helpful for reducing feelings of discomfort during the Coronavirus situation - Dedicating myself to my work/vocation",
                        "count": 1
                      },
                      {
                        "name": "{\"ImportId\":\"QID44_13\"}",
                        "count": 1
                      }
                    ]
                  }
                },
                {
                  "name": "Expl_Coping_14",
                  "dtype": "object",
                  "stats": {
                    "unique_count": 2,
                    "nan_count": 0,
                    "categories": [
                      {
                        "name": "I have found the following helpful for reducing feelings of discomfort during the Coronavirus situation - Dedicating myself to an activity or hobby",
                        "count": 1
                      },
                      {
                        "name": "{\"ImportId\":\"QID44_14\"}",
                        "count": 1
                      }
                    ]
                  }
                },
                {
                  "name": "Expl_Coping_15",
                  "dtype": "object",
                  "stats": {
                    "unique_count": 2,
                    "nan_count": 0,
                    "categories": [
                      {
                        "name": "I have found the following helpful for reducing feelings of discomfort during the Coronavirus situation - God, religion or spirituality",
                        "count": 1
                      },
                      {
                        "name": "{\"ImportId\":\"QID44_15\"}",
                        "count": 1
                      }
                    ]
                  }
                },
                {
                  "name": "Expl_Coping_16",
                  "dtype": "object",
                  "stats": {
                    "unique_count": 2,
                    "nan_count": 0,
                    "categories": [
                      {
                        "name": "I have found the following helpful for reducing feelings of discomfort during the Coronavirus situation - Knowledge of actions taken by the government or civil services",
                        "count": 1
                      },
                      {
                        "name": "{\"ImportId\":\"QID44_16\"}",
                        "count": 1
                      }
                    ]
                  }
                },
                {
                  "name": "Expl_coping_txt",
                  "dtype": "object",
                  "stats": {
                    "unique_count": 2,
                    "nan_count": 0,
                    "categories": [
                      {
                        "name": "Other?",
                        "count": 1
                      },
                      {
                        "name": "{\"ImportId\":\"QID46_TEXT\"}",
                        "count": 1
                      }
                    ]
                  }
                },
                {
                  "name": "Expl_media_1",
                  "dtype": "object",
                  "stats": {
                    "unique_count": 2,
                    "nan_count": 0,
                    "categories": [
                      {
                        "name": "During the period where Corona Virus has impacted [QID11-ChoiceGroup-SelectedChoices]... - I have sought information from [QID11-ChoiceGroup-SelectedChoices]'s government more frequently than usual.",
                        "count": 1
                      },
                      {
                        "name": "{\"ImportId\":\"QID48_1\"}",
                        "count": 1
                      }
                    ]
                  }
                },
                {
                  "name": "Expl_media_2",
                  "dtype": "object",
                  "stats": {
                    "unique_count": 2,
                    "nan_count": 0,
                    "categories": [
                      {
                        "name": "During the period where Corona Virus has impacted [QID11-ChoiceGroup-SelectedChoices]... - I have sought information from independent news outlets in [QID11-ChoiceGroup-SelectedChoices] more frequently than usual.",
                        "count": 1
                      },
                      {
                        "name": "{\"ImportId\":\"QID48_2\"}",
                        "count": 1
                      }
                    ]
                  }
                },
                {
                  "name": "Expl_media_3",
                  "dtype": "object",
                  "stats": {
                    "unique_count": 2,
                    "nan_count": 0,
                    "categories": [
                      {
                        "name": "During the period where Corona Virus has impacted [QID11-ChoiceGroup-SelectedChoices]... - I have sought information from news outlets outside of [QID11-ChoiceGroup-SelectedChoices] more frequently than usual.",
                        "count": 1
                      },
                      {
                        "name": "{\"ImportId\":\"QID48_3\"}",
                        "count": 1
                      }
                    ]
                  }
                },
                {
                  "name": "Expl_media_4",
                  "dtype": "object",
                  "stats": {
                    "unique_count": 2,
                    "nan_count": 0,
                    "categories": [
                      {
                        "name": "During the period where Corona Virus has impacted [QID11-ChoiceGroup-SelectedChoices]... - I have sought information from friends and family more frequently than usual.",
                        "count": 1
                      },
                      {
                        "name": "{\"ImportId\":\"QID48_4\"}",
                        "count": 1
                      }
                    ]
                  }
                },
                {
                  "name": "Expl_media_5",
                  "dtype": "object",
                  "stats": {
                    "unique_count": 2,
                    "nan_count": 0,
                    "categories": [
                      {
                        "name": "During the period where Corona Virus has impacted [QID11-ChoiceGroup-SelectedChoices]... - I have sought information via social media more frequently than usual.",
                        "count": 1
                      },
                      {
                        "name": "{\"ImportId\":\"QID48_5\"}",
                        "count": 1
                      }
                    ]
                  }
                },
                {
                  "name": "Expl_media_6",
                  "dtype": "object",
                  "stats": {
                    "unique_count": 2,
                    "nan_count": 0,
                    "categories": [
                      {
                        "name": "During the period where Corona Virus has impacted [QID11-ChoiceGroup-SelectedChoices]... - I hear more positive stories than negative stories about people’s behaviors during Coronavirus.",
                        "count": 1
                      },
                      {
                        "name": "{\"ImportId\":\"QID48_6\"}",
                        "count": 1
                      }
                    ]
                  }
                },
                {
                  "name": "Final_open",
                  "dtype": "object",
                  "stats": {
                    "unique_count": 2,
                    "nan_count": 0,
                    "categories": [
                      {
                        "name": "Finally, if there is anything else in your life, that you feel impacts your security, wellbeing or generally has changed during Coronavirus, please write a few comments below to let international researchers know.",
                        "count": 1
                      },
                      {
                        "name": "{\"ImportId\":\"QID49_TEXT\"}",
                        "count": 1
                      }
                    ]
                  }
                },
                {
                  "name": "_deepnote_index_column",
                  "dtype": "int64"
                }
              ],
              "rows_top": [
                {
                  "StartDate": "Start Date",
                  "EndDate": "End Date",
                  "Status": "Response Type",
                  "Progress": "Progress",
                  "Duration (in seconds)": "Duration (in seconds)",
                  "Finished": "Finished",
                  "RecordedDate": "Recorded Date",
                  "ResponseId": "Response ID",
                  "DistributionChannel": "Distribution Channel",
                  "UserLanguage": "User Language",
                  "Consent": "You are being invited to take part in a research study, shared by a scientist in your country. Before you decide to participate in this study, it is important that you understand why the research is being done and what it will involve. Please take the time to read the following information carefully. Please ask the researcher if there is anything that is not clear or if you need more information.\n\n\n\nTITLE OF RESEARCHPsychological stressors and behavioural implications of COVID-19\n\n\n\nPRINCIPAL INVESTIGATOR and CONTACT EMAIL\n\nAndreas Lieberoth, andreas@edu.au.dk Aarhus University, Denmark\n\n\n\nPURPOSE OF THE RESEARCH\n\nWe want to map out all the factors, that may affect people's psychological well-being and their ability to make good decisions during the COVID-19 (or \"Coronavirus\") outbreak all over the world. Researchers from all around the world are collaborating on this project, to help scientists and decision makers help and communicate.\n\n\n\nSTUDY PROCEDURE\n\nYou will be asked a series of questions in an online survey - mostly you will answer by clicking boxes to supply your opinion or experience. The survey is rather long, but you may stop any time. If there is a question you would rather not answer, you may at skip ahead to the next part.\n\n\n\nBENEFIT AND RISK\n\nThe study involves no risks beyond those encountered in normal everyday life or reading about Coronavirus on the internet. You can decide to withdraw from the data collection at any time, without the need to provide justification.\n\n\n\nCONFIDENTIALITY\n\nThis is carried out as an anonymous survey. We will not be collecting your name, email or IP address. The resulting global dataset will be made available to researchers and others via the Open Science Framework. \nDo you give your consent to the above?",
                  "Dem_age": "Age",
                  "Dem_gender": "Gender",
                  "Dem_edu": "What best describes your level of education?",
                  "Dem_edu_mom": "What best describes your mother's level of education?",
                  "Dem_employment": "Employment status",
                  "Country": "Country of residence",
                  "Dem_Expat": "Are you currently living outside of what you consider your home country?",
                  "Dem_state": "State/province",
                  "Dem_maritalstatus": "Marital status",
                  "Dem_dependents": "Number of dependents (i.e. family members relying on you for support. Usually children)",
                  "Dem_riskgroup": "Are you or any of your close relations (familiy, close friends) in a high-risk group for Coronavirus? (e.g. pregnant, elderly or due to a pre-existing medical condition)",
                  "Dem_islolation": "What best describes your current situation?",
                  "Dem_isolation_adults": "If in relative isolation, how many other adults are staying together in the same place as you are?",
                  "Dem_isolation_kids": "If in relative isolation, how many children under the age of 12 are staying together in the same place as you are?",
                  "AD_gain": "Imagine that [QID11-ChoiceGroup-SelectedChoices] is preparing for the outbreak of an unusual disease, which is expected to kill 600 people. Two alternative programs to combat the disease have been proposed. Assume that the exact scientific estimate of the consequences of the programs are as follows.\n\n\nWhich of the two programs would you favor?",
                  "AD_loss": "Imagine that [QID11-ChoiceGroup-SelectedChoices] is preparing for the outbreak of an unusual disease, which is expected to kill 600 people. Two alternative programs to combat the disease have been proposed. Assume that the exact scientific estimate of the consequences of the programs are as follows.\nWhich of the two programs would you favor?",
                  "AD_check": "The previous question has been used in other research too. Did you recognize it, and if so, did you remember what the original study was about? (choose \"yes\" for either)",
                  "Scale_PSS10_UCLA_1": "In the last week, how often have you... - been upset because of something that happened unexpectedly?",
                  "Scale_PSS10_UCLA_2": "In the last week, how often have you... - felt that you were unable to control the important things in your life?",
                  "Scale_PSS10_UCLA_3": "In the last week, how often have you... - felt nervous and “stressed”?",
                  "Scale_PSS10_UCLA_4": "In the last week, how often have you... - felt confident about your ability to handle your personal problems?",
                  "Scale_PSS10_UCLA_5": "In the last week, how often have you... - felt that things were going your way?",
                  "Scale_PSS10_UCLA_6": "In the last week, how often have you... - found that you could not cope with all the things that you had to do?",
                  "Scale_PSS10_UCLA_7": "In the last week, how often have you... - been able to control irritations in your life?",
                  "Scale_PSS10_UCLA_8": "In the last week, how often have you... - felt that you were on top of things?",
                  "Scale_PSS10_UCLA_9": "In the last week, how often have you... - been angered because of things that were outside of your control?",
                  "Scale_PSS10_UCLA_10": "In the last week, how often have you... - felt difficulties were piling up so high that you could not overcome them?",
                  "Scale_PSS10_UCLA_11": "In the last week, how often have you... - felt that you lacked companionship?",
                  "Scale_PSS10_UCLA_12": "In the last week, how often have you... - felt left out?",
                  "Scale_PSS10_UCLA_13": "In the last week, how often have you... - felt isolated from others?",
                  "OECD_people_1": "On a scale from zero to ten, where zero is not at all and ten is completely, in general how much do you trust most people? - Most people?",
                  "OECD_people_2": "On a scale from zero to ten, where zero is not at all and ten is completely, in general how much do you trust most people? - Most people you know personally?",
                  "OECD_insititutions_1": "Even if you have had very little or no contact with these institutions, please base your answer on your general impression of these institutions. \nPlease tell us, on a score of 0-10, how much you personally trust each of the institutions below 0 means you do not trust an institution at all, and 10 means you have complete trust. - The parliament/government of [QID11-ChoiceGroup-SelectedChoices]",
                  "OECD_insititutions_2": "Even if you have had very little or no contact with these institutions, please base your answer on your general impression of these institutions. \nPlease tell us, on a score of 0-10, how much you personally trust each of the institutions below 0 means you do not trust an institution at all, and 10 means you have complete trust. - [QID11-ChoiceGroup-SelectedChoices]'s police",
                  "OECD_insititutions_3": "Even if you have had very little or no contact with these institutions, please base your answer on your general impression of these institutions. \nPlease tell us, on a score of 0-10, how much you personally trust each of the institutions below 0 means you do not trust an institution at all, and 10 means you have complete trust. - [QID11-ChoiceGroup-SelectedChoices]'s civil service",
                  "OECD_insititutions_4": "Even if you have had very little or no contact with these institutions, please base your answer on your general impression of these institutions. \nPlease tell us, on a score of 0-10, how much you personally trust each of the institutions below 0 means you do not trust an institution at all, and 10 means you have complete trust. - [QID11-ChoiceGroup-SelectedChoices]'s health system",
                  "OECD_insititutions_5": "Even if you have had very little or no contact with these institutions, please base your answer on your general impression of these institutions. \nPlease tell us, on a score of 0-10, how much you personally trust each of the institutions below 0 means you do not trust an institution at all, and 10 means you have complete trust. - The World Health Organisation (WHO)",
                  "OECD_insititutions_6": "Even if you have had very little or no contact with these institutions, please base your answer on your general impression of these institutions. \nPlease tell us, on a score of 0-10, how much you personally trust each of the institutions below 0 means you do not trust an institution at all, and 10 means you have complete trust. - The govenment of [QID11-ChoiceGroup-SelectedChoices]'s  effort to handle Coronavirus",
                  "Corona_concerns_1": "To what extent do you agree that you are concerned about the consequences of the Coronavirus … - … for yourself?",
                  "Corona_concerns_2": "To what extent do you agree that you are concerned about the consequences of the Coronavirus … - … for your family?",
                  "Corona_concerns_3": "To what extent do you agree that you are concerned about the consequences of the Coronavirus … - … for your close friends?",
                  "Corona_concerns_4": "To what extent do you agree that you are concerned about the consequences of the Coronavirus … - … for your country?",
                  "Corona_concerns_5": "To what extent do you agree that you are concerned about the consequences of the Coronavirus … - ...For other countries across the globe?",
                  "Trust_countrymeasure": "All things considered, do you believe that [QID11-ChoiceGroup-SelectedChoices]'s government has taken the appropriate measures in response to Coronavirus?",
                  "Compliance_1": "Many countries as well as the World Health Organisation (WHO) have issued some guidelines for how to behave during the Coronavirus situation, including added hygiene, testing and social distancing by staying away from social events, standing away from others in public spaces, avoiding leaving your home unnecessarily, keeping your children home, etc.\nTo what extent do you agree with the following? - I feel well informed about steps I can take, to help reduce the spread of Coronavirus.",
                  "Compliance_2": "Many countries as well as the World Health Organisation (WHO) have issued some guidelines for how to behave during the Coronavirus situation, including added hygiene, testing and social distancing by staying away from social events, standing away from others in public spaces, avoiding leaving your home unnecessarily, keeping your children home, etc.\nTo what extent do you agree with the following? - I have done everything I could possibly do as an individual to reduce the spread of Coronavirus.",
                  "Compliance_3": "Many countries as well as the World Health Organisation (WHO) have issued some guidelines for how to behave during the Coronavirus situation, including added hygiene, testing and social distancing by staying away from social events, standing away from others in public spaces, avoiding leaving your home unnecessarily, keeping your children home, etc.\nTo what extent do you agree with the following? - I have done everything I could possibly do to keep physical distance to others.",
                  "Compliance_4": "Many countries as well as the World Health Organisation (WHO) have issued some guidelines for how to behave during the Coronavirus situation, including added hygiene, testing and social distancing by staying away from social events, standing away from others in public spaces, avoiding leaving your home unnecessarily, keeping your children home, etc.\nTo what extent do you agree with the following? - I feel that keeping a physical distance from others would have a high personal cost to me.",
                  "Compliance_5": "Many countries as well as the World Health Organisation (WHO) have issued some guidelines for how to behave during the Coronavirus situation, including added hygiene, testing and social distancing by staying away from social events, standing away from others in public spaces, avoiding leaving your home unnecessarily, keeping your children home, etc.\nTo what extent do you agree with the following? - I trust others around me to follow guidelines to stop the spread of Coronavirus.",
                  "Compliance_6": "Many countries as well as the World Health Organisation (WHO) have issued some guidelines for how to behave during the Coronavirus situation, including added hygiene, testing and social distancing by staying away from social events, standing away from others in public spaces, avoiding leaving your home unnecessarily, keeping your children home, etc.\nTo what extent do you agree with the following? - I have bought large extra supplies of food or grocery items.",
                  "Q52": "Were you born before or in 1992?",
                  "Q50": "Did you have first-hand experience of the war? - Selected Choice",
                  "Q50_4_TEXT": "Did you have first-hand experience of the war? - 4. Other (describe): - Text",
                  "Q60": "Were you wounded during the war?",
                  "Q61": "Have you lost someone close during the war?",
                  "Q62": "During the 1992-1995 war in Bosnia and Herzegovina, you: - Selected Choice",
                  "Q62_7_TEXT": "During the 1992-1995 war in Bosnia and Herzegovina, you: - 5. Other (describe): - Text",
                  "Q59": "How many times during the past month did restrictions on places that you can go during the COVID-19 pandemic remind you of the 1992-1995 war in Bosnia and Herzegovina?",
                  "Q53": "How upset (bothered, sad, scared) did you get when restrictions on places that you can go during the COVID-19 pandemic reminded you of the 1992-1995 war in Bosnia and Herzegovina?",
                  "Q54": "How many times during the past month did news of social and economic instability  and tensions during the COVID-19 pandemic remind you of the 1992-1995 war in Bosnia and Herzegovina?",
                  "Q55": "How upset (bothered, sad, scared) did you get when news of political instability and tensions during the COVID-19 pandemic reminded you of the 1992-1995 war in Bosnia and Herzegovina?",
                  "Q58_1": "The following questions are related to mood, emotions and feelings you experienced in the past month. Please respond by choosing either yes or no. \nIn the past month, have you… - Had nightmares about the 1992-1995 war in Bosnia and Herzegovina or thought about the war when you did not want to?",
                  "Q58_2": "The following questions are related to mood, emotions and feelings you experienced in the past month. Please respond by choosing either yes or no. \nIn the past month, have you… - Tried hard not to think about the 1992-1995 war in Bosnia and Herzegovina or went out of your way to avoid situations that reminded you of the war?",
                  "Q58_3": "The following questions are related to mood, emotions and feelings you experienced in the past month. Please respond by choosing either yes or no. \nIn the past month, have you… - Been constantly on guard, watchful, or easily startled?",
                  "Q58_4": "The following questions are related to mood, emotions and feelings you experienced in the past month. Please respond by choosing either yes or no. \nIn the past month, have you… - Felt numb or detached from people, activities, or your surroundings?",
                  "Q58_5": "The following questions are related to mood, emotions and feelings you experienced in the past month. Please respond by choosing either yes or no. \nIn the past month, have you… - Felt guilty or unable to stop blaming yourself or others for the 1992-1995 war in Bosnia and Herzegovina or any problems the war may have caused?",
                  "BFF_15_1": "Finally, to finish the first part of the survey, please forget the Coronavirus situation for a moment, and think about yourself on normal days. \nI see myself as a person who... - ... is often concerned.",
                  "BFF_15_2": "Finally, to finish the first part of the survey, please forget the Coronavirus situation for a moment, and think about yourself on normal days. \nI see myself as a person who... - ... easily gets nervous.",
                  "BFF_15_3": "Finally, to finish the first part of the survey, please forget the Coronavirus situation for a moment, and think about yourself on normal days. \nI see myself as a person who... - ... is good at staying cool in stressful situations.",
                  "BFF_15_4": "Finally, to finish the first part of the survey, please forget the Coronavirus situation for a moment, and think about yourself on normal days. \nI see myself as a person who... - ... likes to chat.",
                  "BFF_15_5": "Finally, to finish the first part of the survey, please forget the Coronavirus situation for a moment, and think about yourself on normal days. \nI see myself as a person who... - ... is extrovert and sociable.",
                  "BFF_15_6": "Finally, to finish the first part of the survey, please forget the Coronavirus situation for a moment, and think about yourself on normal days. \nI see myself as a person who... - ... is socially reserved.",
                  "BFF_15_7": "Finally, to finish the first part of the survey, please forget the Coronavirus situation for a moment, and think about yourself on normal days. \nI see myself as a person who... - ... gets lots of new ideas.",
                  "BFF_15_8": "Finally, to finish the first part of the survey, please forget the Coronavirus situation for a moment, and think about yourself on normal days. \nI see myself as a person who... - ... appreciates art and aesthetics.",
                  "BFF_15_9": "Finally, to finish the first part of the survey, please forget the Coronavirus situation for a moment, and think about yourself on normal days. \nI see myself as a person who... - ... has a vivid imagination and can think of things that do not yet exist.",
                  "BFF_15_10": "Finally, to finish the first part of the survey, please forget the Coronavirus situation for a moment, and think about yourself on normal days. \nI see myself as a person who... - … is sometimes impolite to others.",
                  "BFF_15_11": "Finally, to finish the first part of the survey, please forget the Coronavirus situation for a moment, and think about yourself on normal days. \nI see myself as a person who... - …is forgiving towards others.",
                  "BFF_15_12": "Finally, to finish the first part of the survey, please forget the Coronavirus situation for a moment, and think about yourself on normal days. \nI see myself as a person who... - …is kind and considerate towards almost everyone.",
                  "BFF_15_13": "Finally, to finish the first part of the survey, please forget the Coronavirus situation for a moment, and think about yourself on normal days. \nI see myself as a person who... - … is thorough and meticulous.",
                  "BFF_15_14": "Finally, to finish the first part of the survey, please forget the Coronavirus situation for a moment, and think about yourself on normal days. \nI see myself as a person who... - … is rather lazy.",
                  "BFF_15_15": "Finally, to finish the first part of the survey, please forget the Coronavirus situation for a moment, and think about yourself on normal days. \nI see myself as a person who... - … is effective when I do something.",
                  "Expl_Distress_1": "In the current situation, how much do you agree that you do feel distressed over... - My day-to-day income right now",
                  "Expl_Distress_2": "In the current situation, how much do you agree that you do feel distressed over... - Being able to perform my work well enough",
                  "Expl_Distress_3": "In the current situation, how much do you agree that you do feel distressed over... - My children’s education",
                  "Expl_Distress_4": "In the current situation, how much do you agree that you do feel distressed over... - Future job prospects",
                  "Expl_Distress_5": "In the current situation, how much do you agree that you do feel distressed over... - Access to everyday necessities like food and other grocery items",
                  "Expl_Distress_6": "In the current situation, how much do you agree that you do feel distressed over... - Not being able to take part in social activities and occasions",
                  "Expl_Distress_7": "In the current situation, how much do you agree that you do feel distressed over... - Not being able to take part in religious activities",
                  "Expl_Distress_8": "In the current situation, how much do you agree that you do feel distressed over... - Coping with the behavior of adults who I am in isolation with",
                  "Expl_Distress_9": "In the current situation, how much do you agree that you do feel distressed over... - Coping with the behavior of children under 12 who I am in isolation  with",
                  "Expl_Distress_10": "In the current situation, how much do you agree that you do feel distressed over... - The national economy",
                  "Expl_Distress_11": "In the current situation, how much do you agree that you do feel distressed over... - Civil services like police, sanitation, etc.",
                  "Expl_Distress_12": "In the current situation, how much do you agree that you do feel distressed over... - The risk of myself or others I know catching Coronavirus",
                  "Expl_Distress_13": "In the current situation, how much do you agree that you do feel distressed over... - The risk of myself or others I know getting hospitalized or dying from Coronavirus",
                  "Expl_Distress_14": "In the current situation, how much do you agree that you do feel distressed over... - Worry over friends or relatives, who live far away",
                  "Expl_Distress_15": "In the current situation, how much do you agree that you do feel distressed over... - Having to adapt my work to digital platforms",
                  "Expl_Distress_16": "In the current situation, how much do you agree that you do feel distressed over... - Having to adapt my social life to digital platforms",
                  "Expl_Distress_17": "In the current situation, how much do you agree that you do feel distressed over... - Feeling ashamed acting differently towards other people (e.g. at work, if out shopping)",
                  "Expl_Distress_18": "In the current situation, how much do you agree that you do feel distressed over... - Loneliness",
                  "Expl_Distress_19": "In the current situation, how much do you agree that you do feel distressed over... - How much time I spend inside",
                  "Expl_Distress_20": "In the current situation, how much do you agree that you do feel distressed over... - How much time I spend in close proximity with others",
                  "Expl_Distress_21": "In the current situation, how much do you agree that you do feel distressed over... - Not knowing about developments related to Coronavirus",
                  "Expl_Distress_22": "In the current situation, how much do you agree that you do feel distressed over... - Not knowing what I should do to limit the spread of Coronavirus",
                  "Expl_Distress_23": "In the current situation, how much do you agree that you do feel distressed over... - Not knowing about how long measures like social distancing or closed shops/schools/restaurants will be in effect",
                  "Expl_Distress_24": "In the current situation, how much do you agree that you do feel distressed over... - Not being able to travel outside [QID11-ChoiceGroup-SelectedChoices]",
                  "Expl_Distress_txt": "Other?",
                  "SPS_1": "Now something very important: Coping with the Coronavirus situation.\n\nIn your current day to day life, to what extent do you agree with the following? - There are people I can depend on to help me if I really need it.",
                  "SPS_2": "Now something very important: Coping with the Coronavirus situation.\n\nIn your current day to day life, to what extent do you agree with the following? - There are people who enjoy the same social activities I do.",
                  "SPS_3": "Now something very important: Coping with the Coronavirus situation.\n\nIn your current day to day life, to what extent do you agree with the following? - I feel part of a group of people who share my attitudes and beliefs.",
                  "SPS_4": "Now something very important: Coping with the Coronavirus situation.\n\nIn your current day to day life, to what extent do you agree with the following? - I have close relationships that provide me with a sense of emotional security and well-being.",
                  "SPS_5": "Now something very important: Coping with the Coronavirus situation.\n\nIn your current day to day life, to what extent do you agree with the following? - There is someone I could talk to about important decisions in my life.",
                  "SPS_6": "Now something very important: Coping with the Coronavirus situation.\n\nIn your current day to day life, to what extent do you agree with the following? - I have relationships where my competence and skills are recognized.",
                  "SPS_7": "Now something very important: Coping with the Coronavirus situation.\n\nIn your current day to day life, to what extent do you agree with the following? - There is a trustworthy person I could turn to for advice if I were having problems.",
                  "SPS_8": "Now something very important: Coping with the Coronavirus situation.\n\nIn your current day to day life, to what extent do you agree with the following? - I feel a strong emotional bond with at least one other person.",
                  "SPS_9": "Now something very important: Coping with the Coronavirus situation.\n\nIn your current day to day life, to what extent do you agree with the following? - There are people who admire my talents and abilities.",
                  "SPS_10": "Now something very important: Coping with the Coronavirus situation.\n\nIn your current day to day life, to what extent do you agree with the following? - There are people I can count on in an emergency.",
                  "Expl_Coping_1": "I have found the following helpful for reducing feelings of discomfort during the Coronavirus situation - Information from the government",
                  "Expl_Coping_2": "I have found the following helpful for reducing feelings of discomfort during the Coronavirus situation - Face-to-face interactions with friends and family",
                  "Expl_Coping_3": "I have found the following helpful for reducing feelings of discomfort during the Coronavirus situation - Phone calls or other long-range interactions with friends and family",
                  "Expl_Coping_4": "I have found the following helpful for reducing feelings of discomfort during the Coronavirus situation - Face-to-face interactions with colleagues",
                  "Expl_Coping_5": "I have found the following helpful for reducing feelings of discomfort during the Coronavirus situation - Phone calls or other long-range interactions with colleagues",
                  "Expl_Coping_6": "I have found the following helpful for reducing feelings of discomfort during the Coronavirus situation - Social media",
                  "Expl_Coping_7": "I have found the following helpful for reducing feelings of discomfort during the Coronavirus situation - Video games (alone)",
                  "Expl_Coping_8": "I have found the following helpful for reducing feelings of discomfort during the Coronavirus situation - Video games (online)",
                  "Expl_Coping_9": "I have found the following helpful for reducing feelings of discomfort during the Coronavirus situation - Watching tv-shows or movies",
                  "Expl_Coping_10": "I have found the following helpful for reducing feelings of discomfort during the Coronavirus situation - Dedicating myself to helping others",
                  "Expl_Coping_11": "I have found the following helpful for reducing feelings of discomfort during the Coronavirus situation - Dedicating myself to preparing for the crisis",
                  "Expl_Coping_12": "I have found the following helpful for reducing feelings of discomfort during the Coronavirus situation - Dedicating myself to following the government’s advice",
                  "Expl_Coping_13": "I have found the following helpful for reducing feelings of discomfort during the Coronavirus situation - Dedicating myself to my work/vocation",
                  "Expl_Coping_14": "I have found the following helpful for reducing feelings of discomfort during the Coronavirus situation - Dedicating myself to an activity or hobby",
                  "Expl_Coping_15": "I have found the following helpful for reducing feelings of discomfort during the Coronavirus situation - God, religion or spirituality",
                  "Expl_Coping_16": "I have found the following helpful for reducing feelings of discomfort during the Coronavirus situation - Knowledge of actions taken by the government or civil services",
                  "Expl_coping_txt": "Other?",
                  "Expl_media_1": "During the period where Corona Virus has impacted [QID11-ChoiceGroup-SelectedChoices]... - I have sought information from [QID11-ChoiceGroup-SelectedChoices]'s government more frequently than usual.",
                  "Expl_media_2": "During the period where Corona Virus has impacted [QID11-ChoiceGroup-SelectedChoices]... - I have sought information from independent news outlets in [QID11-ChoiceGroup-SelectedChoices] more frequently than usual.",
                  "Expl_media_3": "During the period where Corona Virus has impacted [QID11-ChoiceGroup-SelectedChoices]... - I have sought information from news outlets outside of [QID11-ChoiceGroup-SelectedChoices] more frequently than usual.",
                  "Expl_media_4": "During the period where Corona Virus has impacted [QID11-ChoiceGroup-SelectedChoices]... - I have sought information from friends and family more frequently than usual.",
                  "Expl_media_5": "During the period where Corona Virus has impacted [QID11-ChoiceGroup-SelectedChoices]... - I have sought information via social media more frequently than usual.",
                  "Expl_media_6": "During the period where Corona Virus has impacted [QID11-ChoiceGroup-SelectedChoices]... - I hear more positive stories than negative stories about people’s behaviors during Coronavirus.",
                  "Final_open": "Finally, if there is anything else in your life, that you feel impacts your security, wellbeing or generally has changed during Coronavirus, please write a few comments below to let international researchers know.",
                  "_deepnote_index_column": 0
                },
                {
                  "StartDate": "{\"ImportId\":\"startDate\",\"timeZone\":\"America/Denver\"}",
                  "EndDate": "{\"ImportId\":\"endDate\",\"timeZone\":\"America/Denver\"}",
                  "Status": "{\"ImportId\":\"status\"}",
                  "Progress": "{\"ImportId\":\"progress\"}",
                  "Duration (in seconds)": "{\"ImportId\":\"duration\"}",
                  "Finished": "{\"ImportId\":\"finished\"}",
                  "RecordedDate": "{\"ImportId\":\"recordedDate\",\"timeZone\":\"America/Denver\"}",
                  "ResponseId": "{\"ImportId\":\"_recordId\"}",
                  "DistributionChannel": "{\"ImportId\":\"distributionChannel\"}",
                  "UserLanguage": "{\"ImportId\":\"userLanguage\"}",
                  "Consent": "{\"ImportId\":\"QID4\"}",
                  "Dem_age": "{\"ImportId\":\"QID7\"}",
                  "Dem_gender": "{\"ImportId\":\"QID1\"}",
                  "Dem_edu": "{\"ImportId\":\"QID8\"}",
                  "Dem_edu_mom": "{\"ImportId\":\"QID9\"}",
                  "Dem_employment": "{\"ImportId\":\"QID10\"}",
                  "Country": "{\"ImportId\":\"QID11\"}",
                  "Dem_Expat": "{\"ImportId\":\"QID12\"}",
                  "Dem_state": "{\"ImportId\":\"QID13_TEXT\"}",
                  "Dem_maritalstatus": "{\"ImportId\":\"QID14\"}",
                  "Dem_dependents": "{\"ImportId\":\"QID15\"}",
                  "Dem_riskgroup": "{\"ImportId\":\"QID16\"}",
                  "Dem_islolation": "{\"ImportId\":\"QID17\"}",
                  "Dem_isolation_adults": "{\"ImportId\":\"QID19\"}",
                  "Dem_isolation_kids": "{\"ImportId\":\"QID26\"}",
                  "AD_gain": "{\"ImportId\":\"QID23\"}",
                  "AD_loss": "{\"ImportId\":\"QID24\"}",
                  "AD_check": "{\"ImportId\":\"QID27\"}",
                  "Scale_PSS10_UCLA_1": "{\"ImportId\":\"QID29_1\"}",
                  "Scale_PSS10_UCLA_2": "{\"ImportId\":\"QID29_2\"}",
                  "Scale_PSS10_UCLA_3": "{\"ImportId\":\"QID29_3\"}",
                  "Scale_PSS10_UCLA_4": "{\"ImportId\":\"QID29_4\"}",
                  "Scale_PSS10_UCLA_5": "{\"ImportId\":\"QID29_5\"}",
                  "Scale_PSS10_UCLA_6": "{\"ImportId\":\"QID29_6\"}",
                  "Scale_PSS10_UCLA_7": "{\"ImportId\":\"QID29_7\"}",
                  "Scale_PSS10_UCLA_8": "{\"ImportId\":\"QID29_8\"}",
                  "Scale_PSS10_UCLA_9": "{\"ImportId\":\"QID29_9\"}",
                  "Scale_PSS10_UCLA_10": "{\"ImportId\":\"QID29_10\"}",
                  "Scale_PSS10_UCLA_11": "{\"ImportId\":\"QID29_11\"}",
                  "Scale_PSS10_UCLA_12": "{\"ImportId\":\"QID29_12\"}",
                  "Scale_PSS10_UCLA_13": "{\"ImportId\":\"QID29_13\"}",
                  "OECD_people_1": "{\"ImportId\":\"QID31_1\"}",
                  "OECD_people_2": "{\"ImportId\":\"QID31_2\"}",
                  "OECD_insititutions_1": "{\"ImportId\":\"QID34_1\"}",
                  "OECD_insititutions_2": "{\"ImportId\":\"QID34_2\"}",
                  "OECD_insititutions_3": "{\"ImportId\":\"QID34_3\"}",
                  "OECD_insititutions_4": "{\"ImportId\":\"QID34_4\"}",
                  "OECD_insititutions_5": "{\"ImportId\":\"QID34_5\"}",
                  "OECD_insititutions_6": "{\"ImportId\":\"QID34_6\"}",
                  "Corona_concerns_1": "{\"ImportId\":\"QID35_1\"}",
                  "Corona_concerns_2": "{\"ImportId\":\"QID35_2\"}",
                  "Corona_concerns_3": "{\"ImportId\":\"QID35_3\"}",
                  "Corona_concerns_4": "{\"ImportId\":\"QID35_4\"}",
                  "Corona_concerns_5": "{\"ImportId\":\"QID35_5\"}",
                  "Trust_countrymeasure": "{\"ImportId\":\"QID43\"}",
                  "Compliance_1": "{\"ImportId\":\"QID38_1\"}",
                  "Compliance_2": "{\"ImportId\":\"QID38_2\"}",
                  "Compliance_3": "{\"ImportId\":\"QID38_3\"}",
                  "Compliance_4": "{\"ImportId\":\"QID38_4\"}",
                  "Compliance_5": "{\"ImportId\":\"QID38_5\"}",
                  "Compliance_6": "{\"ImportId\":\"QID38_6\"}",
                  "Q52": "{\"ImportId\":\"QID59\"}",
                  "Q50": "{\"ImportId\":\"QID57\"}",
                  "Q50_4_TEXT": "{\"ImportId\":\"QID57_4_TEXT\"}",
                  "Q60": "{\"ImportId\":\"QID67\"}",
                  "Q61": "{\"ImportId\":\"QID68\"}",
                  "Q62": "{\"ImportId\":\"QID69\"}",
                  "Q62_7_TEXT": "{\"ImportId\":\"QID69_7_TEXT\"}",
                  "Q59": "{\"ImportId\":\"QID66\"}",
                  "Q53": "{\"ImportId\":\"QID60\"}",
                  "Q54": "{\"ImportId\":\"QID61\"}",
                  "Q55": "{\"ImportId\":\"QID62\"}",
                  "Q58_1": "{\"ImportId\":\"QID65_1\"}",
                  "Q58_2": "{\"ImportId\":\"QID65_2\"}",
                  "Q58_3": "{\"ImportId\":\"QID65_3\"}",
                  "Q58_4": "{\"ImportId\":\"QID65_4\"}",
                  "Q58_5": "{\"ImportId\":\"QID65_5\"}",
                  "BFF_15_1": "{\"ImportId\":\"QID39_1\"}",
                  "BFF_15_2": "{\"ImportId\":\"QID39_2\"}",
                  "BFF_15_3": "{\"ImportId\":\"QID39_3\"}",
                  "BFF_15_4": "{\"ImportId\":\"QID39_4\"}",
                  "BFF_15_5": "{\"ImportId\":\"QID39_5\"}",
                  "BFF_15_6": "{\"ImportId\":\"QID39_6\"}",
                  "BFF_15_7": "{\"ImportId\":\"QID39_7\"}",
                  "BFF_15_8": "{\"ImportId\":\"QID39_8\"}",
                  "BFF_15_9": "{\"ImportId\":\"QID39_9\"}",
                  "BFF_15_10": "{\"ImportId\":\"QID39_10\"}",
                  "BFF_15_11": "{\"ImportId\":\"QID39_11\"}",
                  "BFF_15_12": "{\"ImportId\":\"QID39_12\"}",
                  "BFF_15_13": "{\"ImportId\":\"QID39_13\"}",
                  "BFF_15_14": "{\"ImportId\":\"QID39_14\"}",
                  "BFF_15_15": "{\"ImportId\":\"QID39_15\"}",
                  "Expl_Distress_1": "{\"ImportId\":\"QID40_1\"}",
                  "Expl_Distress_2": "{\"ImportId\":\"QID40_2\"}",
                  "Expl_Distress_3": "{\"ImportId\":\"QID40_3\"}",
                  "Expl_Distress_4": "{\"ImportId\":\"QID40_4\"}",
                  "Expl_Distress_5": "{\"ImportId\":\"QID40_5\"}",
                  "Expl_Distress_6": "{\"ImportId\":\"QID40_6\"}",
                  "Expl_Distress_7": "{\"ImportId\":\"QID40_7\"}",
                  "Expl_Distress_8": "{\"ImportId\":\"QID40_8\"}",
                  "Expl_Distress_9": "{\"ImportId\":\"QID40_9\"}",
                  "Expl_Distress_10": "{\"ImportId\":\"QID40_10\"}",
                  "Expl_Distress_11": "{\"ImportId\":\"QID40_11\"}",
                  "Expl_Distress_12": "{\"ImportId\":\"QID40_12\"}",
                  "Expl_Distress_13": "{\"ImportId\":\"QID40_13\"}",
                  "Expl_Distress_14": "{\"ImportId\":\"QID40_14\"}",
                  "Expl_Distress_15": "{\"ImportId\":\"QID40_15\"}",
                  "Expl_Distress_16": "{\"ImportId\":\"QID40_16\"}",
                  "Expl_Distress_17": "{\"ImportId\":\"QID40_17\"}",
                  "Expl_Distress_18": "{\"ImportId\":\"QID40_18\"}",
                  "Expl_Distress_19": "{\"ImportId\":\"QID40_19\"}",
                  "Expl_Distress_20": "{\"ImportId\":\"QID40_20\"}",
                  "Expl_Distress_21": "{\"ImportId\":\"QID40_21\"}",
                  "Expl_Distress_22": "{\"ImportId\":\"QID40_22\"}",
                  "Expl_Distress_23": "{\"ImportId\":\"QID40_23\"}",
                  "Expl_Distress_24": "{\"ImportId\":\"QID40_24\"}",
                  "Expl_Distress_txt": "{\"ImportId\":\"QID45_TEXT\"}",
                  "SPS_1": "{\"ImportId\":\"QID41_1\"}",
                  "SPS_2": "{\"ImportId\":\"QID41_2\"}",
                  "SPS_3": "{\"ImportId\":\"QID41_3\"}",
                  "SPS_4": "{\"ImportId\":\"QID41_4\"}",
                  "SPS_5": "{\"ImportId\":\"QID41_5\"}",
                  "SPS_6": "{\"ImportId\":\"QID41_6\"}",
                  "SPS_7": "{\"ImportId\":\"QID41_7\"}",
                  "SPS_8": "{\"ImportId\":\"QID41_8\"}",
                  "SPS_9": "{\"ImportId\":\"QID41_9\"}",
                  "SPS_10": "{\"ImportId\":\"QID41_10\"}",
                  "Expl_Coping_1": "{\"ImportId\":\"QID44_1\"}",
                  "Expl_Coping_2": "{\"ImportId\":\"QID44_2\"}",
                  "Expl_Coping_3": "{\"ImportId\":\"QID44_3\"}",
                  "Expl_Coping_4": "{\"ImportId\":\"QID44_4\"}",
                  "Expl_Coping_5": "{\"ImportId\":\"QID44_5\"}",
                  "Expl_Coping_6": "{\"ImportId\":\"QID44_6\"}",
                  "Expl_Coping_7": "{\"ImportId\":\"QID44_7\"}",
                  "Expl_Coping_8": "{\"ImportId\":\"QID44_8\"}",
                  "Expl_Coping_9": "{\"ImportId\":\"QID44_9\"}",
                  "Expl_Coping_10": "{\"ImportId\":\"QID44_10\"}",
                  "Expl_Coping_11": "{\"ImportId\":\"QID44_11\"}",
                  "Expl_Coping_12": "{\"ImportId\":\"QID44_12\"}",
                  "Expl_Coping_13": "{\"ImportId\":\"QID44_13\"}",
                  "Expl_Coping_14": "{\"ImportId\":\"QID44_14\"}",
                  "Expl_Coping_15": "{\"ImportId\":\"QID44_15\"}",
                  "Expl_Coping_16": "{\"ImportId\":\"QID44_16\"}",
                  "Expl_coping_txt": "{\"ImportId\":\"QID46_TEXT\"}",
                  "Expl_media_1": "{\"ImportId\":\"QID48_1\"}",
                  "Expl_media_2": "{\"ImportId\":\"QID48_2\"}",
                  "Expl_media_3": "{\"ImportId\":\"QID48_3\"}",
                  "Expl_media_4": "{\"ImportId\":\"QID48_4\"}",
                  "Expl_media_5": "{\"ImportId\":\"QID48_5\"}",
                  "Expl_media_6": "{\"ImportId\":\"QID48_6\"}",
                  "Final_open": "{\"ImportId\":\"QID49_TEXT\"}",
                  "_deepnote_index_column": 1
                }
              ],
              "rows_bottom": null
            },
            "text/plain": "                                           StartDate  \\\n0                                         Start Date   \n1  {\"ImportId\":\"startDate\",\"timeZone\":\"America/De...   \n\n                                             EndDate                 Status  \\\n0                                           End Date          Response Type   \n1  {\"ImportId\":\"endDate\",\"timeZone\":\"America/Denv...  {\"ImportId\":\"status\"}   \n\n                  Progress    Duration (in seconds)                 Finished  \\\n0                 Progress    Duration (in seconds)                 Finished   \n1  {\"ImportId\":\"progress\"}  {\"ImportId\":\"duration\"}  {\"ImportId\":\"finished\"}   \n\n                                        RecordedDate  \\\n0                                      Recorded Date   \n1  {\"ImportId\":\"recordedDate\",\"timeZone\":\"America...   \n\n                 ResponseId                 DistributionChannel  \\\n0               Response ID                Distribution Channel   \n1  {\"ImportId\":\"_recordId\"}  {\"ImportId\":\"distributionChannel\"}   \n\n                  UserLanguage  ...  \\\n0                User Language  ...   \n1  {\"ImportId\":\"userLanguage\"}  ...   \n\n                                      Expl_Coping_15  \\\n0  I have found the following helpful for reducin...   \n1                            {\"ImportId\":\"QID44_15\"}   \n\n                                      Expl_Coping_16  \\\n0  I have found the following helpful for reducin...   \n1                            {\"ImportId\":\"QID44_16\"}   \n\n             Expl_coping_txt  \\\n0                     Other?   \n1  {\"ImportId\":\"QID46_TEXT\"}   \n\n                                        Expl_media_1  \\\n0  During the period where Corona Virus has impac...   \n1                             {\"ImportId\":\"QID48_1\"}   \n\n                                        Expl_media_2  \\\n0  During the period where Corona Virus has impac...   \n1                             {\"ImportId\":\"QID48_2\"}   \n\n                                        Expl_media_3  \\\n0  During the period where Corona Virus has impac...   \n1                             {\"ImportId\":\"QID48_3\"}   \n\n                                        Expl_media_4  \\\n0  During the period where Corona Virus has impac...   \n1                             {\"ImportId\":\"QID48_4\"}   \n\n                                        Expl_media_5  \\\n0  During the period where Corona Virus has impac...   \n1                             {\"ImportId\":\"QID48_5\"}   \n\n                                        Expl_media_6  \\\n0  During the period where Corona Virus has impac...   \n1                             {\"ImportId\":\"QID48_6\"}   \n\n                                          Final_open  \n0  Finally, if there is anything else in your lif...  \n1                          {\"ImportId\":\"QID49_TEXT\"}  \n\n[2 rows x 151 columns]",
            "text/html": "<div>\n<style scoped>\n    .dataframe tbody tr th:only-of-type {\n        vertical-align: middle;\n    }\n\n    .dataframe tbody tr th {\n        vertical-align: top;\n    }\n\n    .dataframe thead th {\n        text-align: right;\n    }\n</style>\n<table border=\"1\" class=\"dataframe\">\n  <thead>\n    <tr style=\"text-align: right;\">\n      <th></th>\n      <th>StartDate</th>\n      <th>EndDate</th>\n      <th>Status</th>\n      <th>Progress</th>\n      <th>Duration (in seconds)</th>\n      <th>Finished</th>\n      <th>RecordedDate</th>\n      <th>ResponseId</th>\n      <th>DistributionChannel</th>\n      <th>UserLanguage</th>\n      <th>...</th>\n      <th>Expl_Coping_15</th>\n      <th>Expl_Coping_16</th>\n      <th>Expl_coping_txt</th>\n      <th>Expl_media_1</th>\n      <th>Expl_media_2</th>\n      <th>Expl_media_3</th>\n      <th>Expl_media_4</th>\n      <th>Expl_media_5</th>\n      <th>Expl_media_6</th>\n      <th>Final_open</th>\n    </tr>\n  </thead>\n  <tbody>\n    <tr>\n      <th>0</th>\n      <td>Start Date</td>\n      <td>End Date</td>\n      <td>Response Type</td>\n      <td>Progress</td>\n      <td>Duration (in seconds)</td>\n      <td>Finished</td>\n      <td>Recorded Date</td>\n      <td>Response ID</td>\n      <td>Distribution Channel</td>\n      <td>User Language</td>\n      <td>...</td>\n      <td>I have found the following helpful for reducin...</td>\n      <td>I have found the following helpful for reducin...</td>\n      <td>Other?</td>\n      <td>During the period where Corona Virus has impac...</td>\n      <td>During the period where Corona Virus has impac...</td>\n      <td>During the period where Corona Virus has impac...</td>\n      <td>During the period where Corona Virus has impac...</td>\n      <td>During the period where Corona Virus has impac...</td>\n      <td>During the period where Corona Virus has impac...</td>\n      <td>Finally, if there is anything else in your lif...</td>\n    </tr>\n    <tr>\n      <th>1</th>\n      <td>{\"ImportId\":\"startDate\",\"timeZone\":\"America/De...</td>\n      <td>{\"ImportId\":\"endDate\",\"timeZone\":\"America/Denv...</td>\n      <td>{\"ImportId\":\"status\"}</td>\n      <td>{\"ImportId\":\"progress\"}</td>\n      <td>{\"ImportId\":\"duration\"}</td>\n      <td>{\"ImportId\":\"finished\"}</td>\n      <td>{\"ImportId\":\"recordedDate\",\"timeZone\":\"America...</td>\n      <td>{\"ImportId\":\"_recordId\"}</td>\n      <td>{\"ImportId\":\"distributionChannel\"}</td>\n      <td>{\"ImportId\":\"userLanguage\"}</td>\n      <td>...</td>\n      <td>{\"ImportId\":\"QID44_15\"}</td>\n      <td>{\"ImportId\":\"QID44_16\"}</td>\n      <td>{\"ImportId\":\"QID46_TEXT\"}</td>\n      <td>{\"ImportId\":\"QID48_1\"}</td>\n      <td>{\"ImportId\":\"QID48_2\"}</td>\n      <td>{\"ImportId\":\"QID48_3\"}</td>\n      <td>{\"ImportId\":\"QID48_4\"}</td>\n      <td>{\"ImportId\":\"QID48_5\"}</td>\n      <td>{\"ImportId\":\"QID48_6\"}</td>\n      <td>{\"ImportId\":\"QID49_TEXT\"}</td>\n    </tr>\n  </tbody>\n</table>\n<p>2 rows × 151 columns</p>\n</div>"
          },
          "metadata": {}
        }
      ]
    },
    {
      "cell_type": "code",
      "metadata": {
        "tags": [],
        "cell_id": "00002-da802d13-6483-4a41-bc8f-c84335ef46a4",
        "deepnote_to_be_reexecuted": false,
        "source_hash": "2507ce95",
        "execution_millis": 22,
        "execution_start": 1619255540853,
        "deepnote_cell_type": "code"
      },
      "source": "df_global_fr.shape",
      "execution_count": 27,
      "outputs": [
        {
          "output_type": "execute_result",
          "execution_count": 27,
          "data": {
            "text/plain": "(9499, 130)"
          },
          "metadata": {}
        }
      ]
    },
    {
      "cell_type": "markdown",
      "source": "# Filter french data",
      "metadata": {
        "tags": [],
        "cell_id": "00004-b75db71d-a3f8-41b1-a3e5-e5f142a6c105",
        "deepnote_cell_type": "markdown"
      }
    },
    {
      "cell_type": "code",
      "metadata": {
        "tags": [],
        "cell_id": "00002-d711e41a-1a55-47bd-ae1f-4a3a6ca89887",
        "deepnote_to_be_reexecuted": false,
        "source_hash": "29453971",
        "execution_millis": 245,
        "execution_start": 1619255337322,
        "deepnote_cell_type": "code"
      },
      "source": "df_global_fr = df_global_fr.loc[df_global_fr.Country==\"France\"].loc[df_global_fr.UserLanguage==\"FR\"].loc[df_global_fr.Dem_Expat!='yes']\ndf_global_fr.replace([\"None\"], [None], inplace=True)",
      "execution_count": 7,
      "outputs": []
    },
    {
      "cell_type": "code",
      "metadata": {
        "tags": [],
        "cell_id": "00007-92a53846-173d-442c-a7be-2aa0d268a392",
        "deepnote_to_be_reexecuted": false,
        "source_hash": "698390b3",
        "execution_millis": 30,
        "execution_start": 1619255337575,
        "deepnote_cell_type": "code"
      },
      "source": "df_global_fr.RecordedDate.min(), df_global_fr.RecordedDate.max()",
      "execution_count": 8,
      "outputs": [
        {
          "output_type": "execute_result",
          "execution_count": 8,
          "data": {
            "text/plain": "('2020-03-30 11:50:46', '2020-05-27 15:31:09')"
          },
          "metadata": {}
        }
      ]
    },
    {
      "cell_type": "markdown",
      "source": "# Remove or infer nan value",
      "metadata": {
        "tags": [],
        "cell_id": "00006-eb11546a-c261-48fa-815f-beb9bc90cc09",
        "deepnote_cell_type": "markdown"
      }
    },
    {
      "cell_type": "markdown",
      "source": "## Data description\n### Demographic\n* Dem_dependents : Number of dependents (i.e. family members relying on you for support. Usually children)\n* Dem_isolation_adults : number adults in same place\n* Dem_isolation_kids : number children under the age of 12 are staying together in the same place as you are\n* Dem_age\n* Dem_gender\n* Dem_edu\n* Dem_edu_mom\n* Dem_employment\n* Dem_state\n### Evaluative\n* Scale_PSS10_UCLA_n (1 to 10): perceived stress for the past week\n    * 5-Point Likert Scale (1=Never, 5= very often)\n* Scale_PSS10_UCLA_n (11 to 13): perceived loneliness\n    * 5-Point Likert Scale (1=Never, 5= very often)\n* OECD_institutions_n : trust in country's government and health system \n    * 10-Point Likert Scale (0=Not at all, 10= completely)\n* Corona_concerns_n : concerns ver coronavirus\n    * 6-Point Likert Scale (1=strongly disagree,6= strongly agree)\n* Compliance : overll compliance with local prevention guidelines\n    * 6-Point Likert Scale (1=strongly disagree, 6= strongly agree)\n* BFF_15_n : personnality\n    * 6-Point Likert Scale (1=strongly disagree, 6= strongly agree)\n* Expl_Distress_n : stressors and sources of distress\n    * 6-Point Likert Scale (1=strongly disagree, 6= strongly agree, 7= does not apply to my current situation + free text \"other\")\n* SPS_n : available social provisions in critical/distressing situations\n    * 6-Point Likert Scale (1=strongly disagree, 6= strongly agree)\n* Expl_Coping_n : Coping/decreasing discomfort\n    * 6-Point Likert Scale (1=strongly disagree, 6= strongly agree) + free text \"other\"\n* Expl_media_1 : Information sources and media behavior\n    * 6-Point Likert Scale (1=strongly disagree, 6= strongly agree)\n\n* Dem_riskgroup : close relations high-risk group for Coronavirus\n    * 1=Yes, 2=No, 3=not sure\n* Dem_islolation : situation\n    * *Life carries on with minor changes* and *Isolated* and *Life carries on as usual* and *Isolated in medical facility of similar location*  ",
      "metadata": {
        "tags": [],
        "cell_id": "00008-145b403c-e7ef-45e8-952a-5be4098103a2",
        "deepnote_cell_type": "markdown"
      }
    },
    {
      "cell_type": "markdown",
      "source": "Deal with problematic field",
      "metadata": {
        "tags": [],
        "cell_id": "00012-73869a2c-d9f7-46ae-b1fc-b734e66cb3fc",
        "deepnote_cell_type": "markdown"
      }
    },
    {
      "cell_type": "code",
      "metadata": {
        "tags": [],
        "cell_id": "00007-175a8e37-9af7-4ef3-abd7-bd0e7582b471",
        "deepnote_to_be_reexecuted": false,
        "source_hash": "8bb3ed3e",
        "execution_millis": 118,
        "execution_start": 1619255337602,
        "deepnote_cell_type": "code"
      },
      "source": "df_global_fr.drop(columns=[\"AD_check\"], inplace=True)\ndf_global_fr.drop(columns=[\"Duration..in.seconds.\"], inplace=True)\ndf_global_fr.drop(columns=[\"Unnamed: 0\"], inplace=True)\ndf_global_fr.drop(columns=[\"PSS10_avg\"], inplace=True)\ndf_global_fr.drop(columns=[\"SLON3_avg\"], inplace=True)\ndf_global_fr.drop(columns=[\"neu\"], inplace=True)\ndf_global_fr.drop(columns=[\"ext\"], inplace=True)\ndf_global_fr.drop(columns=[\"ope\"], inplace=True)\ndf_global_fr.drop(columns=[\"agr\"], inplace=True)\ndf_global_fr.drop(columns=[\"con\"], inplace=True)\ndf_global_fr.drop(columns=[\"SPS_avg\"], inplace=True)\n# Scale_SLON_2 not here",
      "execution_count": 9,
      "outputs": []
    },
    {
      "cell_type": "markdown",
      "source": "remove nan columns",
      "metadata": {
        "tags": [],
        "cell_id": "00007-41f733ec-df46-448a-b3c6-aa060d7e0c4b",
        "deepnote_cell_type": "markdown"
      }
    },
    {
      "cell_type": "code",
      "metadata": {
        "tags": [],
        "cell_id": "00004-3e5034ff-07e1-4510-8902-5f0be72dad24",
        "deepnote_to_be_reexecuted": false,
        "source_hash": "e837b8d1",
        "execution_millis": 105,
        "execution_start": 1619255337723,
        "deepnote_cell_type": "code"
      },
      "source": "print(df_global_fr.shape)\nnull_by_column = df_global_fr.isnull().sum(axis=0)\npprint.pprint({c: f\"{cnull}/{df_global_fr.shape[0]}({cnull/df_global_fr.shape[0]*100:.2f}%)\" for c, cnull in null_by_column.where(null_by_column>0).dropna().iteritems()})",
      "execution_count": 10,
      "outputs": [
        {
          "name": "stdout",
          "text": "(11966, 142)\n{'AD_gain': '6268.0/11966(52.38%)',\n 'AD_loss': '6504.0/11966(54.35%)',\n 'BFF_15_1': '1463.0/11966(12.23%)',\n 'BFF_15_10': '1459.0/11966(12.19%)',\n 'BFF_15_11': '1456.0/11966(12.17%)',\n 'BFF_15_12': '1455.0/11966(12.16%)',\n 'BFF_15_13': '1455.0/11966(12.16%)',\n 'BFF_15_14': '1449.0/11966(12.11%)',\n 'BFF_15_15': '1448.0/11966(12.10%)',\n 'BFF_15_2': '1452.0/11966(12.13%)',\n 'BFF_15_3': '1450.0/11966(12.12%)',\n 'BFF_15_4': '1455.0/11966(12.16%)',\n 'BFF_15_5': '1458.0/11966(12.18%)',\n 'BFF_15_6': '1454.0/11966(12.15%)',\n 'BFF_15_7': '1457.0/11966(12.18%)',\n 'BFF_15_8': '1470.0/11966(12.28%)',\n 'BFF_15_9': '1459.0/11966(12.19%)',\n 'Compliance_1': '1326.0/11966(11.08%)',\n 'Compliance_2': '1342.0/11966(11.22%)',\n 'Compliance_3': '1339.0/11966(11.19%)',\n 'Compliance_4': '1343.0/11966(11.22%)',\n 'Compliance_5': '1330.0/11966(11.11%)',\n 'Compliance_6': '1321.0/11966(11.04%)',\n 'Corona_concerns_1': '1200.0/11966(10.03%)',\n 'Corona_concerns_2': '1224.0/11966(10.23%)',\n 'Corona_concerns_3': '1233.0/11966(10.30%)',\n 'Corona_concerns_4': '1233.0/11966(10.30%)',\n 'Corona_concerns_5': '1239.0/11966(10.35%)',\n 'Dem_Expat': '39.0/11966(0.33%)',\n 'Dem_dependents': '185.0/11966(1.55%)',\n 'Dem_edu': '141.0/11966(1.18%)',\n 'Dem_edu_mom': '706.0/11966(5.90%)',\n 'Dem_employment': '51.0/11966(0.43%)',\n 'Dem_gender': '30.0/11966(0.25%)',\n 'Dem_islolation': '98.0/11966(0.82%)',\n 'Dem_isolation_adults': '156.0/11966(1.30%)',\n 'Dem_isolation_kids': '237.0/11966(1.98%)',\n 'Dem_maritalstatus': '76.0/11966(0.64%)',\n 'Dem_riskgroup': '41.0/11966(0.34%)',\n 'Dem_state': '870.0/11966(7.27%)',\n 'Expl_Coping_1': '2527.0/11966(21.12%)',\n 'Expl_Coping_10': '2590.0/11966(21.64%)',\n 'Expl_Coping_11': '2542.0/11966(21.24%)',\n 'Expl_Coping_12': '2545.0/11966(21.27%)',\n 'Expl_Coping_13': '2551.0/11966(21.32%)',\n 'Expl_Coping_14': '2499.0/11966(20.88%)',\n 'Expl_Coping_15': '2606.0/11966(21.78%)',\n 'Expl_Coping_16': '2515.0/11966(21.02%)',\n 'Expl_Coping_2': '2580.0/11966(21.56%)',\n 'Expl_Coping_3': '2502.0/11966(20.91%)',\n 'Expl_Coping_4': '2698.0/11966(22.55%)',\n 'Expl_Coping_5': '2584.0/11966(21.59%)',\n 'Expl_Coping_6': '2506.0/11966(20.94%)',\n 'Expl_Coping_7': '2567.0/11966(21.45%)',\n 'Expl_Coping_8': '2595.0/11966(21.69%)',\n 'Expl_Coping_9': '2507.0/11966(20.95%)',\n 'Expl_Distress_1': '1987.0/11966(16.61%)',\n 'Expl_Distress_10': '1985.0/11966(16.59%)',\n 'Expl_Distress_11': '2011.0/11966(16.81%)',\n 'Expl_Distress_12': '1968.0/11966(16.45%)',\n 'Expl_Distress_13': '1964.0/11966(16.41%)',\n 'Expl_Distress_14': '1975.0/11966(16.51%)',\n 'Expl_Distress_15': '2017.0/11966(16.86%)',\n 'Expl_Distress_16': '1981.0/11966(16.56%)',\n 'Expl_Distress_17': '1997.0/11966(16.69%)',\n 'Expl_Distress_18': '1981.0/11966(16.56%)',\n 'Expl_Distress_19': '1983.0/11966(16.57%)',\n 'Expl_Distress_2': '2015.0/11966(16.84%)',\n 'Expl_Distress_20': '2005.0/11966(16.76%)',\n 'Expl_Distress_21': '1996.0/11966(16.68%)',\n 'Expl_Distress_22': '1984.0/11966(16.58%)',\n 'Expl_Distress_23': '1973.0/11966(16.49%)',\n 'Expl_Distress_24': '1981.0/11966(16.56%)',\n 'Expl_Distress_3': '2108.0/11966(17.62%)',\n 'Expl_Distress_4': '2020.0/11966(16.88%)',\n 'Expl_Distress_5': '1971.0/11966(16.47%)',\n 'Expl_Distress_6': '1972.0/11966(16.48%)',\n 'Expl_Distress_7': '2016.0/11966(16.85%)',\n 'Expl_Distress_8': '2017.0/11966(16.86%)',\n 'Expl_Distress_9': '2121.0/11966(17.73%)',\n 'Expl_Distress_txt': '11139.0/11966(93.09%)',\n 'Expl_coping_txt': '11419.0/11966(95.43%)',\n 'Expl_media_1': '2583.0/11966(21.59%)',\n 'Expl_media_2': '2589.0/11966(21.64%)',\n 'Expl_media_3': '2591.0/11966(21.65%)',\n 'Expl_media_4': '2576.0/11966(21.53%)',\n 'Expl_media_5': '2589.0/11966(21.64%)',\n 'Expl_media_6': '2593.0/11966(21.67%)',\n 'Final_open': '9817.0/11966(82.04%)',\n 'OECD_insititutions_1': '1510.0/11966(12.62%)',\n 'OECD_insititutions_2': '1510.0/11966(12.62%)',\n 'OECD_insititutions_3': '1258.0/11966(10.51%)',\n 'OECD_insititutions_4': '1202.0/11966(10.05%)',\n 'OECD_insititutions_5': '1259.0/11966(10.52%)',\n 'OECD_insititutions_6': '1312.0/11966(10.96%)',\n 'OECD_people_1': '1198.0/11966(10.01%)',\n 'OECD_people_2': '1193.0/11966(9.97%)',\n 'PS_PTSD_1': '11966.0/11966(100.00%)',\n 'PS_PTSD_2': '11966.0/11966(100.00%)',\n 'PS_PTSD_3': '11966.0/11966(100.00%)',\n 'PS_PTSD_4': '11966.0/11966(100.00%)',\n 'PS_PTSD_5': '11966.0/11966(100.00%)',\n 'SPS_1': '2492.0/11966(20.83%)',\n 'SPS_10': '2481.0/11966(20.73%)',\n 'SPS_2': '2505.0/11966(20.93%)',\n 'SPS_3': '2495.0/11966(20.85%)',\n 'SPS_4': '2489.0/11966(20.80%)',\n 'SPS_5': '2492.0/11966(20.83%)',\n 'SPS_6': '2494.0/11966(20.84%)',\n 'SPS_7': '2486.0/11966(20.78%)',\n 'SPS_8': '2499.0/11966(20.88%)',\n 'SPS_9': '2517.0/11966(21.03%)',\n 'Scale_PSS10_UCLA_1': '829.0/11966(6.93%)',\n 'Scale_PSS10_UCLA_10': '809.0/11966(6.76%)',\n 'Scale_PSS10_UCLA_2': '814.0/11966(6.80%)',\n 'Scale_PSS10_UCLA_3': '803.0/11966(6.71%)',\n 'Scale_PSS10_UCLA_4': '816.0/11966(6.82%)',\n 'Scale_PSS10_UCLA_5': '907.0/11966(7.58%)',\n 'Scale_PSS10_UCLA_6': '811.0/11966(6.78%)',\n 'Scale_PSS10_UCLA_7': '839.0/11966(7.01%)',\n 'Scale_PSS10_UCLA_8': '839.0/11966(7.01%)',\n 'Scale_PSS10_UCLA_9': '806.0/11966(6.74%)',\n 'Scale_SLON_1': '815.0/11966(6.81%)',\n 'Scale_SLON_2': '824.0/11966(6.89%)',\n 'Scale_SLON_3': '815.0/11966(6.81%)',\n 'Scale_UCLA_TRI_1': '11966.0/11966(100.00%)',\n 'Scale_UCLA_TRI_2': '11966.0/11966(100.00%)',\n 'Scale_UCLA_TRI_3': '11966.0/11966(100.00%)',\n 'Scale_UCLA_TRI_4': '11966.0/11966(100.00%)',\n 'Scale_UCLA_TRI_avg': '11966.0/11966(100.00%)',\n 'Trust_countrymeasure': '1214.0/11966(10.15%)',\n 'born_92': '11966.0/11966(100.00%)',\n 'experience_war': '11966.0/11966(100.00%)',\n 'experience_war_TXT': '11966.0/11966(100.00%)',\n 'loss_during_war': '11966.0/11966(100.00%)',\n 'time_spent_in_war': '11966.0/11966(100.00%)',\n 'time_spent_in_war_TXT': '11966.0/11966(100.00%)',\n 'war_injury': '11966.0/11966(100.00%)'}\n",
          "output_type": "stream"
        }
      ]
    },
    {
      "cell_type": "code",
      "metadata": {
        "tags": [],
        "cell_id": "00030-6bbdf616-5229-4bf7-925f-4bb086b15568",
        "deepnote_to_be_reexecuted": false,
        "source_hash": "20c5e11f",
        "execution_millis": 63,
        "execution_start": 1619255337881,
        "deepnote_cell_type": "code"
      },
      "source": "# Attributes lists \n# Preparation before aggregation\n\nOECD_institutions = [s for s in df_global_fr.columns if \"OECD_insititutions\" in s]\nscale_PSS10_UCLA = [s for s in df_global_fr.columns if \"Scale_PSS10_UCLA\" in s]\nscale_SLON = [s for s in df_global_fr.columns if \"Scale_SLON\" in s]\ncorona_concerns = [s for s in df_global_fr.columns if \"Corona_concerns\" in s]\ncompliance = [s for s in df_global_fr.columns if \"Compliance\" in s]\nBFF_15 = [s for s in df_global_fr.columns if \"BFF_15\" in s]\nexpl_Distress = [s for s in df_global_fr.columns if \"Expl_Distress\" in s and s != \"Expl_Distress_txt\" ]\nSPS = [s for s in df_global_fr.columns if \"SPS\" in s]\nexpl_Coping = [s for s in df_global_fr.columns if \"Expl_Coping\" in s]\nexpl_media = [s for s in df_global_fr.columns if \"Expl_media\" in s]\ndem_riskgroup = ['Dem_riskgroup']\ndem_islolation = ['Dem_islolation']\n\ndf_explain.rename(columns={\"Scale_PSS10_UCLA_11\": \"Scale_SLON_1\", \"Scale_PSS10_UCLA_12\": \"Scale_SLON_2\", \"Scale_PSS10_UCLA_13\": \"Scale_SLON_3\"}, inplace=True)\n# evaluation from 0 to 10\npoint_likert_scale_10 = OECD_institutions\n# evualuation from 1 to 5\npoint_likert_scale_5 = scale_PSS10_UCLA + scale_SLON\n# evaluation from 1 to 6\npoint_likert_scale_6 = corona_concerns + compliance + BFF_15 + expl_Distress + SPS + expl_Coping + expl_media\n# evaluation Yes No Not sure\nyes_no = dem_riskgroup \n# islolation ['Life carries on with minor changes', 'Isolated', 'Life carries on as usual', 'Isolated in medical facility of similar location']\nislolation = dem_islolation\n\n#Expl_Coping_n enlever les others\n#Expl_Distress_n enlever others et 99\ndf_global_fr[expl_Distress] = df_global_fr[expl_Distress].replace(to_replace=[99], value=[None])",
      "execution_count": 11,
      "outputs": []
    },
    {
      "cell_type": "code",
      "metadata": {
        "tags": [],
        "cell_id": "00031-5b5cd622-f1ef-4ffe-9646-9a714bec1b9d",
        "deepnote_to_be_reexecuted": false,
        "source_hash": "9db7f8d9",
        "execution_millis": 197,
        "execution_start": 1619255337947,
        "deepnote_cell_type": "code"
      },
      "source": "df_global_fr[point_likert_scale_10] = df_global_fr[point_likert_scale_10]/10\ndf_global_fr[point_likert_scale_5] = (df_global_fr[point_likert_scale_5]-1)/4\ndf_global_fr[point_likert_scale_6] = (df_global_fr[point_likert_scale_6]-1)/5",
      "execution_count": 12,
      "outputs": []
    },
    {
      "cell_type": "code",
      "metadata": {
        "tags": [],
        "cell_id": "00032-ae3b35e6-3996-41fb-928c-c6e343685b84",
        "deepnote_to_be_reexecuted": false,
        "source_hash": "805e0e70",
        "execution_millis": 675,
        "execution_start": 1619255338147,
        "deepnote_cell_type": "code"
      },
      "source": "df_global_fr[point_likert_scale_6].describe()",
      "execution_count": 13,
      "outputs": [
        {
          "output_type": "execute_result",
          "execution_count": 13,
          "data": {
            "application/vnd.deepnote.dataframe.v2+json": {
              "row_count": 8,
              "column_count": 58,
              "columns": [
                {
                  "name": "Corona_concerns_1",
                  "dtype": "float64",
                  "stats": {
                    "unique_count": 8,
                    "nan_count": 0,
                    "min": "0.0",
                    "max": "10766.0",
                    "histogram": [
                      {
                        "bin_start": 0,
                        "bin_end": 1076.6,
                        "count": 7
                      },
                      {
                        "bin_start": 1076.6,
                        "bin_end": 2153.2,
                        "count": 0
                      },
                      {
                        "bin_start": 2153.2,
                        "bin_end": 3229.7999999999997,
                        "count": 0
                      },
                      {
                        "bin_start": 3229.7999999999997,
                        "bin_end": 4306.4,
                        "count": 0
                      },
                      {
                        "bin_start": 4306.4,
                        "bin_end": 5383,
                        "count": 0
                      },
                      {
                        "bin_start": 5383,
                        "bin_end": 6459.599999999999,
                        "count": 0
                      },
                      {
                        "bin_start": 6459.599999999999,
                        "bin_end": 7536.199999999999,
                        "count": 0
                      },
                      {
                        "bin_start": 7536.199999999999,
                        "bin_end": 8612.8,
                        "count": 0
                      },
                      {
                        "bin_start": 8612.8,
                        "bin_end": 9689.4,
                        "count": 0
                      },
                      {
                        "bin_start": 9689.4,
                        "bin_end": 10766,
                        "count": 1
                      }
                    ]
                  }
                },
                {
                  "name": "Corona_concerns_2",
                  "dtype": "float64",
                  "stats": {
                    "unique_count": 6,
                    "nan_count": 0,
                    "min": "0.0",
                    "max": "10742.0",
                    "histogram": [
                      {
                        "bin_start": 0,
                        "bin_end": 1074.2,
                        "count": 7
                      },
                      {
                        "bin_start": 1074.2,
                        "bin_end": 2148.4,
                        "count": 0
                      },
                      {
                        "bin_start": 2148.4,
                        "bin_end": 3222.6000000000004,
                        "count": 0
                      },
                      {
                        "bin_start": 3222.6000000000004,
                        "bin_end": 4296.8,
                        "count": 0
                      },
                      {
                        "bin_start": 4296.8,
                        "bin_end": 5371,
                        "count": 0
                      },
                      {
                        "bin_start": 5371,
                        "bin_end": 6445.200000000001,
                        "count": 0
                      },
                      {
                        "bin_start": 6445.200000000001,
                        "bin_end": 7519.400000000001,
                        "count": 0
                      },
                      {
                        "bin_start": 7519.400000000001,
                        "bin_end": 8593.6,
                        "count": 0
                      },
                      {
                        "bin_start": 8593.6,
                        "bin_end": 9667.800000000001,
                        "count": 0
                      },
                      {
                        "bin_start": 9667.800000000001,
                        "bin_end": 10742,
                        "count": 1
                      }
                    ]
                  }
                },
                {
                  "name": "Corona_concerns_3",
                  "dtype": "float64",
                  "stats": {
                    "unique_count": 7,
                    "nan_count": 0,
                    "min": "0.0",
                    "max": "10733.0",
                    "histogram": [
                      {
                        "bin_start": 0,
                        "bin_end": 1073.3,
                        "count": 7
                      },
                      {
                        "bin_start": 1073.3,
                        "bin_end": 2146.6,
                        "count": 0
                      },
                      {
                        "bin_start": 2146.6,
                        "bin_end": 3219.8999999999996,
                        "count": 0
                      },
                      {
                        "bin_start": 3219.8999999999996,
                        "bin_end": 4293.2,
                        "count": 0
                      },
                      {
                        "bin_start": 4293.2,
                        "bin_end": 5366.5,
                        "count": 0
                      },
                      {
                        "bin_start": 5366.5,
                        "bin_end": 6439.799999999999,
                        "count": 0
                      },
                      {
                        "bin_start": 6439.799999999999,
                        "bin_end": 7513.099999999999,
                        "count": 0
                      },
                      {
                        "bin_start": 7513.099999999999,
                        "bin_end": 8586.4,
                        "count": 0
                      },
                      {
                        "bin_start": 8586.4,
                        "bin_end": 9659.699999999999,
                        "count": 0
                      },
                      {
                        "bin_start": 9659.699999999999,
                        "bin_end": 10733,
                        "count": 1
                      }
                    ]
                  }
                },
                {
                  "name": "Corona_concerns_4",
                  "dtype": "float64",
                  "stats": {
                    "unique_count": 7,
                    "nan_count": 0,
                    "min": "0.0",
                    "max": "10733.0",
                    "histogram": [
                      {
                        "bin_start": 0,
                        "bin_end": 1073.3,
                        "count": 7
                      },
                      {
                        "bin_start": 1073.3,
                        "bin_end": 2146.6,
                        "count": 0
                      },
                      {
                        "bin_start": 2146.6,
                        "bin_end": 3219.8999999999996,
                        "count": 0
                      },
                      {
                        "bin_start": 3219.8999999999996,
                        "bin_end": 4293.2,
                        "count": 0
                      },
                      {
                        "bin_start": 4293.2,
                        "bin_end": 5366.5,
                        "count": 0
                      },
                      {
                        "bin_start": 5366.5,
                        "bin_end": 6439.799999999999,
                        "count": 0
                      },
                      {
                        "bin_start": 6439.799999999999,
                        "bin_end": 7513.099999999999,
                        "count": 0
                      },
                      {
                        "bin_start": 7513.099999999999,
                        "bin_end": 8586.4,
                        "count": 0
                      },
                      {
                        "bin_start": 8586.4,
                        "bin_end": 9659.699999999999,
                        "count": 0
                      },
                      {
                        "bin_start": 9659.699999999999,
                        "bin_end": 10733,
                        "count": 1
                      }
                    ]
                  }
                },
                {
                  "name": "Corona_concerns_5",
                  "dtype": "float64",
                  "stats": {
                    "unique_count": 7,
                    "nan_count": 0,
                    "min": "0.0",
                    "max": "10727.0",
                    "histogram": [
                      {
                        "bin_start": 0,
                        "bin_end": 1072.7,
                        "count": 7
                      },
                      {
                        "bin_start": 1072.7,
                        "bin_end": 2145.4,
                        "count": 0
                      },
                      {
                        "bin_start": 2145.4,
                        "bin_end": 3218.1000000000004,
                        "count": 0
                      },
                      {
                        "bin_start": 3218.1000000000004,
                        "bin_end": 4290.8,
                        "count": 0
                      },
                      {
                        "bin_start": 4290.8,
                        "bin_end": 5363.5,
                        "count": 0
                      },
                      {
                        "bin_start": 5363.5,
                        "bin_end": 6436.200000000001,
                        "count": 0
                      },
                      {
                        "bin_start": 6436.200000000001,
                        "bin_end": 7508.900000000001,
                        "count": 0
                      },
                      {
                        "bin_start": 7508.900000000001,
                        "bin_end": 8581.6,
                        "count": 0
                      },
                      {
                        "bin_start": 8581.6,
                        "bin_end": 9654.300000000001,
                        "count": 0
                      },
                      {
                        "bin_start": 9654.300000000001,
                        "bin_end": 10727,
                        "count": 1
                      }
                    ]
                  }
                },
                {
                  "name": "Compliance_1",
                  "dtype": "float64",
                  "stats": {
                    "unique_count": 6,
                    "nan_count": 0,
                    "min": "0.0",
                    "max": "10640.0",
                    "histogram": [
                      {
                        "bin_start": 0,
                        "bin_end": 1064,
                        "count": 7
                      },
                      {
                        "bin_start": 1064,
                        "bin_end": 2128,
                        "count": 0
                      },
                      {
                        "bin_start": 2128,
                        "bin_end": 3192,
                        "count": 0
                      },
                      {
                        "bin_start": 3192,
                        "bin_end": 4256,
                        "count": 0
                      },
                      {
                        "bin_start": 4256,
                        "bin_end": 5320,
                        "count": 0
                      },
                      {
                        "bin_start": 5320,
                        "bin_end": 6384,
                        "count": 0
                      },
                      {
                        "bin_start": 6384,
                        "bin_end": 7448,
                        "count": 0
                      },
                      {
                        "bin_start": 7448,
                        "bin_end": 8512,
                        "count": 0
                      },
                      {
                        "bin_start": 8512,
                        "bin_end": 9576,
                        "count": 0
                      },
                      {
                        "bin_start": 9576,
                        "bin_end": 10640,
                        "count": 1
                      }
                    ]
                  }
                },
                {
                  "name": "Compliance_2",
                  "dtype": "float64",
                  "stats": {
                    "unique_count": 6,
                    "nan_count": 0,
                    "min": "0.0",
                    "max": "10624.0",
                    "histogram": [
                      {
                        "bin_start": 0,
                        "bin_end": 1062.4,
                        "count": 7
                      },
                      {
                        "bin_start": 1062.4,
                        "bin_end": 2124.8,
                        "count": 0
                      },
                      {
                        "bin_start": 2124.8,
                        "bin_end": 3187.2000000000003,
                        "count": 0
                      },
                      {
                        "bin_start": 3187.2000000000003,
                        "bin_end": 4249.6,
                        "count": 0
                      },
                      {
                        "bin_start": 4249.6,
                        "bin_end": 5312,
                        "count": 0
                      },
                      {
                        "bin_start": 5312,
                        "bin_end": 6374.400000000001,
                        "count": 0
                      },
                      {
                        "bin_start": 6374.400000000001,
                        "bin_end": 7436.800000000001,
                        "count": 0
                      },
                      {
                        "bin_start": 7436.800000000001,
                        "bin_end": 8499.2,
                        "count": 0
                      },
                      {
                        "bin_start": 8499.2,
                        "bin_end": 9561.6,
                        "count": 0
                      },
                      {
                        "bin_start": 9561.6,
                        "bin_end": 10624,
                        "count": 1
                      }
                    ]
                  }
                },
                {
                  "name": "Compliance_3",
                  "dtype": "float64",
                  "stats": {
                    "unique_count": 6,
                    "nan_count": 0,
                    "min": "0.0",
                    "max": "10627.0",
                    "histogram": [
                      {
                        "bin_start": 0,
                        "bin_end": 1062.7,
                        "count": 7
                      },
                      {
                        "bin_start": 1062.7,
                        "bin_end": 2125.4,
                        "count": 0
                      },
                      {
                        "bin_start": 2125.4,
                        "bin_end": 3188.1000000000004,
                        "count": 0
                      },
                      {
                        "bin_start": 3188.1000000000004,
                        "bin_end": 4250.8,
                        "count": 0
                      },
                      {
                        "bin_start": 4250.8,
                        "bin_end": 5313.5,
                        "count": 0
                      },
                      {
                        "bin_start": 5313.5,
                        "bin_end": 6376.200000000001,
                        "count": 0
                      },
                      {
                        "bin_start": 6376.200000000001,
                        "bin_end": 7438.900000000001,
                        "count": 0
                      },
                      {
                        "bin_start": 7438.900000000001,
                        "bin_end": 8501.6,
                        "count": 0
                      },
                      {
                        "bin_start": 8501.6,
                        "bin_end": 9564.300000000001,
                        "count": 0
                      },
                      {
                        "bin_start": 9564.300000000001,
                        "bin_end": 10627,
                        "count": 1
                      }
                    ]
                  }
                },
                {
                  "name": "Compliance_4",
                  "dtype": "float64",
                  "stats": {
                    "unique_count": 7,
                    "nan_count": 0,
                    "min": "0.0",
                    "max": "10623.0",
                    "histogram": [
                      {
                        "bin_start": 0,
                        "bin_end": 1062.3,
                        "count": 7
                      },
                      {
                        "bin_start": 1062.3,
                        "bin_end": 2124.6,
                        "count": 0
                      },
                      {
                        "bin_start": 2124.6,
                        "bin_end": 3186.8999999999996,
                        "count": 0
                      },
                      {
                        "bin_start": 3186.8999999999996,
                        "bin_end": 4249.2,
                        "count": 0
                      },
                      {
                        "bin_start": 4249.2,
                        "bin_end": 5311.5,
                        "count": 0
                      },
                      {
                        "bin_start": 5311.5,
                        "bin_end": 6373.799999999999,
                        "count": 0
                      },
                      {
                        "bin_start": 6373.799999999999,
                        "bin_end": 7436.099999999999,
                        "count": 0
                      },
                      {
                        "bin_start": 7436.099999999999,
                        "bin_end": 8498.4,
                        "count": 0
                      },
                      {
                        "bin_start": 8498.4,
                        "bin_end": 9560.699999999999,
                        "count": 0
                      },
                      {
                        "bin_start": 9560.699999999999,
                        "bin_end": 10623,
                        "count": 1
                      }
                    ]
                  }
                },
                {
                  "name": "Compliance_5",
                  "dtype": "float64",
                  "stats": {
                    "unique_count": 7,
                    "nan_count": 0,
                    "min": "0.0",
                    "max": "10636.0",
                    "histogram": [
                      {
                        "bin_start": 0,
                        "bin_end": 1063.6,
                        "count": 7
                      },
                      {
                        "bin_start": 1063.6,
                        "bin_end": 2127.2,
                        "count": 0
                      },
                      {
                        "bin_start": 2127.2,
                        "bin_end": 3190.7999999999997,
                        "count": 0
                      },
                      {
                        "bin_start": 3190.7999999999997,
                        "bin_end": 4254.4,
                        "count": 0
                      },
                      {
                        "bin_start": 4254.4,
                        "bin_end": 5318,
                        "count": 0
                      },
                      {
                        "bin_start": 5318,
                        "bin_end": 6381.599999999999,
                        "count": 0
                      },
                      {
                        "bin_start": 6381.599999999999,
                        "bin_end": 7445.199999999999,
                        "count": 0
                      },
                      {
                        "bin_start": 7445.199999999999,
                        "bin_end": 8508.8,
                        "count": 0
                      },
                      {
                        "bin_start": 8508.8,
                        "bin_end": 9572.4,
                        "count": 0
                      },
                      {
                        "bin_start": 9572.4,
                        "bin_end": 10636,
                        "count": 1
                      }
                    ]
                  }
                },
                {
                  "name": "Compliance_6",
                  "dtype": "float64",
                  "stats": {
                    "unique_count": 7,
                    "nan_count": 0,
                    "min": "0.0",
                    "max": "10645.0",
                    "histogram": [
                      {
                        "bin_start": 0,
                        "bin_end": 1064.5,
                        "count": 7
                      },
                      {
                        "bin_start": 1064.5,
                        "bin_end": 2129,
                        "count": 0
                      },
                      {
                        "bin_start": 2129,
                        "bin_end": 3193.5,
                        "count": 0
                      },
                      {
                        "bin_start": 3193.5,
                        "bin_end": 4258,
                        "count": 0
                      },
                      {
                        "bin_start": 4258,
                        "bin_end": 5322.5,
                        "count": 0
                      },
                      {
                        "bin_start": 5322.5,
                        "bin_end": 6387,
                        "count": 0
                      },
                      {
                        "bin_start": 6387,
                        "bin_end": 7451.5,
                        "count": 0
                      },
                      {
                        "bin_start": 7451.5,
                        "bin_end": 8516,
                        "count": 0
                      },
                      {
                        "bin_start": 8516,
                        "bin_end": 9580.5,
                        "count": 0
                      },
                      {
                        "bin_start": 9580.5,
                        "bin_end": 10645,
                        "count": 1
                      }
                    ]
                  }
                },
                {
                  "name": "BFF_15_1",
                  "dtype": "float64",
                  "stats": {
                    "unique_count": 8,
                    "nan_count": 0,
                    "min": "0.0",
                    "max": "10503.0",
                    "histogram": [
                      {
                        "bin_start": 0,
                        "bin_end": 1050.3,
                        "count": 7
                      },
                      {
                        "bin_start": 1050.3,
                        "bin_end": 2100.6,
                        "count": 0
                      },
                      {
                        "bin_start": 2100.6,
                        "bin_end": 3150.8999999999996,
                        "count": 0
                      },
                      {
                        "bin_start": 3150.8999999999996,
                        "bin_end": 4201.2,
                        "count": 0
                      },
                      {
                        "bin_start": 4201.2,
                        "bin_end": 5251.5,
                        "count": 0
                      },
                      {
                        "bin_start": 5251.5,
                        "bin_end": 6301.799999999999,
                        "count": 0
                      },
                      {
                        "bin_start": 6301.799999999999,
                        "bin_end": 7352.099999999999,
                        "count": 0
                      },
                      {
                        "bin_start": 7352.099999999999,
                        "bin_end": 8402.4,
                        "count": 0
                      },
                      {
                        "bin_start": 8402.4,
                        "bin_end": 9452.699999999999,
                        "count": 0
                      },
                      {
                        "bin_start": 9452.699999999999,
                        "bin_end": 10503,
                        "count": 1
                      }
                    ]
                  }
                },
                {
                  "name": "BFF_15_2",
                  "dtype": "float64",
                  "stats": {
                    "unique_count": 8,
                    "nan_count": 0,
                    "min": "0.0",
                    "max": "10514.0",
                    "histogram": [
                      {
                        "bin_start": 0,
                        "bin_end": 1051.4,
                        "count": 7
                      },
                      {
                        "bin_start": 1051.4,
                        "bin_end": 2102.8,
                        "count": 0
                      },
                      {
                        "bin_start": 2102.8,
                        "bin_end": 3154.2000000000003,
                        "count": 0
                      },
                      {
                        "bin_start": 3154.2000000000003,
                        "bin_end": 4205.6,
                        "count": 0
                      },
                      {
                        "bin_start": 4205.6,
                        "bin_end": 5257,
                        "count": 0
                      },
                      {
                        "bin_start": 5257,
                        "bin_end": 6308.400000000001,
                        "count": 0
                      },
                      {
                        "bin_start": 6308.400000000001,
                        "bin_end": 7359.800000000001,
                        "count": 0
                      },
                      {
                        "bin_start": 7359.800000000001,
                        "bin_end": 8411.2,
                        "count": 0
                      },
                      {
                        "bin_start": 8411.2,
                        "bin_end": 9462.6,
                        "count": 0
                      },
                      {
                        "bin_start": 9462.6,
                        "bin_end": 10514,
                        "count": 1
                      }
                    ]
                  }
                },
                {
                  "name": "BFF_15_3",
                  "dtype": "float64",
                  "stats": {
                    "unique_count": 7,
                    "nan_count": 0,
                    "min": "0.0",
                    "max": "10516.0",
                    "histogram": [
                      {
                        "bin_start": 0,
                        "bin_end": 1051.6,
                        "count": 7
                      },
                      {
                        "bin_start": 1051.6,
                        "bin_end": 2103.2,
                        "count": 0
                      },
                      {
                        "bin_start": 2103.2,
                        "bin_end": 3154.7999999999997,
                        "count": 0
                      },
                      {
                        "bin_start": 3154.7999999999997,
                        "bin_end": 4206.4,
                        "count": 0
                      },
                      {
                        "bin_start": 4206.4,
                        "bin_end": 5258,
                        "count": 0
                      },
                      {
                        "bin_start": 5258,
                        "bin_end": 6309.599999999999,
                        "count": 0
                      },
                      {
                        "bin_start": 6309.599999999999,
                        "bin_end": 7361.199999999999,
                        "count": 0
                      },
                      {
                        "bin_start": 7361.199999999999,
                        "bin_end": 8412.8,
                        "count": 0
                      },
                      {
                        "bin_start": 8412.8,
                        "bin_end": 9464.4,
                        "count": 0
                      },
                      {
                        "bin_start": 9464.4,
                        "bin_end": 10516,
                        "count": 1
                      }
                    ]
                  }
                },
                {
                  "name": "BFF_15_4",
                  "dtype": "float64",
                  "stats": {
                    "unique_count": 7,
                    "nan_count": 0,
                    "min": "0.0",
                    "max": "10511.0",
                    "histogram": [
                      {
                        "bin_start": 0,
                        "bin_end": 1051.1,
                        "count": 7
                      },
                      {
                        "bin_start": 1051.1,
                        "bin_end": 2102.2,
                        "count": 0
                      },
                      {
                        "bin_start": 2102.2,
                        "bin_end": 3153.2999999999997,
                        "count": 0
                      },
                      {
                        "bin_start": 3153.2999999999997,
                        "bin_end": 4204.4,
                        "count": 0
                      },
                      {
                        "bin_start": 4204.4,
                        "bin_end": 5255.5,
                        "count": 0
                      },
                      {
                        "bin_start": 5255.5,
                        "bin_end": 6306.599999999999,
                        "count": 0
                      },
                      {
                        "bin_start": 6306.599999999999,
                        "bin_end": 7357.699999999999,
                        "count": 0
                      },
                      {
                        "bin_start": 7357.699999999999,
                        "bin_end": 8408.8,
                        "count": 0
                      },
                      {
                        "bin_start": 8408.8,
                        "bin_end": 9459.9,
                        "count": 0
                      },
                      {
                        "bin_start": 9459.9,
                        "bin_end": 10511,
                        "count": 1
                      }
                    ]
                  }
                },
                {
                  "name": "BFF_15_5",
                  "dtype": "float64",
                  "stats": {
                    "unique_count": 8,
                    "nan_count": 0,
                    "min": "0.0",
                    "max": "10508.0",
                    "histogram": [
                      {
                        "bin_start": 0,
                        "bin_end": 1050.8,
                        "count": 7
                      },
                      {
                        "bin_start": 1050.8,
                        "bin_end": 2101.6,
                        "count": 0
                      },
                      {
                        "bin_start": 2101.6,
                        "bin_end": 3152.3999999999996,
                        "count": 0
                      },
                      {
                        "bin_start": 3152.3999999999996,
                        "bin_end": 4203.2,
                        "count": 0
                      },
                      {
                        "bin_start": 4203.2,
                        "bin_end": 5254,
                        "count": 0
                      },
                      {
                        "bin_start": 5254,
                        "bin_end": 6304.799999999999,
                        "count": 0
                      },
                      {
                        "bin_start": 6304.799999999999,
                        "bin_end": 7355.599999999999,
                        "count": 0
                      },
                      {
                        "bin_start": 7355.599999999999,
                        "bin_end": 8406.4,
                        "count": 0
                      },
                      {
                        "bin_start": 8406.4,
                        "bin_end": 9457.199999999999,
                        "count": 0
                      },
                      {
                        "bin_start": 9457.199999999999,
                        "bin_end": 10508,
                        "count": 1
                      }
                    ]
                  }
                },
                {
                  "name": "BFF_15_6",
                  "dtype": "float64",
                  "stats": {
                    "unique_count": 8,
                    "nan_count": 0,
                    "min": "0.0",
                    "max": "10512.0",
                    "histogram": [
                      {
                        "bin_start": 0,
                        "bin_end": 1051.2,
                        "count": 7
                      },
                      {
                        "bin_start": 1051.2,
                        "bin_end": 2102.4,
                        "count": 0
                      },
                      {
                        "bin_start": 2102.4,
                        "bin_end": 3153.6000000000004,
                        "count": 0
                      },
                      {
                        "bin_start": 3153.6000000000004,
                        "bin_end": 4204.8,
                        "count": 0
                      },
                      {
                        "bin_start": 4204.8,
                        "bin_end": 5256,
                        "count": 0
                      },
                      {
                        "bin_start": 5256,
                        "bin_end": 6307.200000000001,
                        "count": 0
                      },
                      {
                        "bin_start": 6307.200000000001,
                        "bin_end": 7358.400000000001,
                        "count": 0
                      },
                      {
                        "bin_start": 7358.400000000001,
                        "bin_end": 8409.6,
                        "count": 0
                      },
                      {
                        "bin_start": 8409.6,
                        "bin_end": 9460.800000000001,
                        "count": 0
                      },
                      {
                        "bin_start": 9460.800000000001,
                        "bin_end": 10512,
                        "count": 1
                      }
                    ]
                  }
                },
                {
                  "name": "BFF_15_7",
                  "dtype": "float64",
                  "stats": {
                    "unique_count": 7,
                    "nan_count": 0,
                    "min": "0.0",
                    "max": "10509.0",
                    "histogram": [
                      {
                        "bin_start": 0,
                        "bin_end": 1050.9,
                        "count": 7
                      },
                      {
                        "bin_start": 1050.9,
                        "bin_end": 2101.8,
                        "count": 0
                      },
                      {
                        "bin_start": 2101.8,
                        "bin_end": 3152.7000000000003,
                        "count": 0
                      },
                      {
                        "bin_start": 3152.7000000000003,
                        "bin_end": 4203.6,
                        "count": 0
                      },
                      {
                        "bin_start": 4203.6,
                        "bin_end": 5254.5,
                        "count": 0
                      },
                      {
                        "bin_start": 5254.5,
                        "bin_end": 6305.400000000001,
                        "count": 0
                      },
                      {
                        "bin_start": 6305.400000000001,
                        "bin_end": 7356.300000000001,
                        "count": 0
                      },
                      {
                        "bin_start": 7356.300000000001,
                        "bin_end": 8407.2,
                        "count": 0
                      },
                      {
                        "bin_start": 8407.2,
                        "bin_end": 9458.1,
                        "count": 0
                      },
                      {
                        "bin_start": 9458.1,
                        "bin_end": 10509,
                        "count": 1
                      }
                    ]
                  }
                },
                {
                  "name": "BFF_15_8",
                  "dtype": "float64",
                  "stats": {
                    "unique_count": 7,
                    "nan_count": 0,
                    "min": "0.0",
                    "max": "10496.0",
                    "histogram": [
                      {
                        "bin_start": 0,
                        "bin_end": 1049.6,
                        "count": 7
                      },
                      {
                        "bin_start": 1049.6,
                        "bin_end": 2099.2,
                        "count": 0
                      },
                      {
                        "bin_start": 2099.2,
                        "bin_end": 3148.7999999999997,
                        "count": 0
                      },
                      {
                        "bin_start": 3148.7999999999997,
                        "bin_end": 4198.4,
                        "count": 0
                      },
                      {
                        "bin_start": 4198.4,
                        "bin_end": 5248,
                        "count": 0
                      },
                      {
                        "bin_start": 5248,
                        "bin_end": 6297.599999999999,
                        "count": 0
                      },
                      {
                        "bin_start": 6297.599999999999,
                        "bin_end": 7347.199999999999,
                        "count": 0
                      },
                      {
                        "bin_start": 7347.199999999999,
                        "bin_end": 8396.8,
                        "count": 0
                      },
                      {
                        "bin_start": 8396.8,
                        "bin_end": 9446.4,
                        "count": 0
                      },
                      {
                        "bin_start": 9446.4,
                        "bin_end": 10496,
                        "count": 1
                      }
                    ]
                  }
                },
                {
                  "name": "BFF_15_9",
                  "dtype": "float64",
                  "stats": {
                    "unique_count": 8,
                    "nan_count": 0,
                    "min": "0.0",
                    "max": "10507.0",
                    "histogram": [
                      {
                        "bin_start": 0,
                        "bin_end": 1050.7,
                        "count": 7
                      },
                      {
                        "bin_start": 1050.7,
                        "bin_end": 2101.4,
                        "count": 0
                      },
                      {
                        "bin_start": 2101.4,
                        "bin_end": 3152.1000000000004,
                        "count": 0
                      },
                      {
                        "bin_start": 3152.1000000000004,
                        "bin_end": 4202.8,
                        "count": 0
                      },
                      {
                        "bin_start": 4202.8,
                        "bin_end": 5253.5,
                        "count": 0
                      },
                      {
                        "bin_start": 5253.5,
                        "bin_end": 6304.200000000001,
                        "count": 0
                      },
                      {
                        "bin_start": 6304.200000000001,
                        "bin_end": 7354.900000000001,
                        "count": 0
                      },
                      {
                        "bin_start": 7354.900000000001,
                        "bin_end": 8405.6,
                        "count": 0
                      },
                      {
                        "bin_start": 8405.6,
                        "bin_end": 9456.300000000001,
                        "count": 0
                      },
                      {
                        "bin_start": 9456.300000000001,
                        "bin_end": 10507,
                        "count": 1
                      }
                    ]
                  }
                },
                {
                  "name": "BFF_15_10",
                  "dtype": "float64",
                  "stats": {
                    "unique_count": 7,
                    "nan_count": 0,
                    "min": "0.0",
                    "max": "10507.0",
                    "histogram": [
                      {
                        "bin_start": 0,
                        "bin_end": 1050.7,
                        "count": 7
                      },
                      {
                        "bin_start": 1050.7,
                        "bin_end": 2101.4,
                        "count": 0
                      },
                      {
                        "bin_start": 2101.4,
                        "bin_end": 3152.1000000000004,
                        "count": 0
                      },
                      {
                        "bin_start": 3152.1000000000004,
                        "bin_end": 4202.8,
                        "count": 0
                      },
                      {
                        "bin_start": 4202.8,
                        "bin_end": 5253.5,
                        "count": 0
                      },
                      {
                        "bin_start": 5253.5,
                        "bin_end": 6304.200000000001,
                        "count": 0
                      },
                      {
                        "bin_start": 6304.200000000001,
                        "bin_end": 7354.900000000001,
                        "count": 0
                      },
                      {
                        "bin_start": 7354.900000000001,
                        "bin_end": 8405.6,
                        "count": 0
                      },
                      {
                        "bin_start": 8405.6,
                        "bin_end": 9456.300000000001,
                        "count": 0
                      },
                      {
                        "bin_start": 9456.300000000001,
                        "bin_end": 10507,
                        "count": 1
                      }
                    ]
                  }
                },
                {
                  "name": "BFF_15_11",
                  "dtype": "float64",
                  "stats": {
                    "unique_count": 7,
                    "nan_count": 0,
                    "min": "0.0",
                    "max": "10510.0",
                    "histogram": [
                      {
                        "bin_start": 0,
                        "bin_end": 1051,
                        "count": 7
                      },
                      {
                        "bin_start": 1051,
                        "bin_end": 2102,
                        "count": 0
                      },
                      {
                        "bin_start": 2102,
                        "bin_end": 3153,
                        "count": 0
                      },
                      {
                        "bin_start": 3153,
                        "bin_end": 4204,
                        "count": 0
                      },
                      {
                        "bin_start": 4204,
                        "bin_end": 5255,
                        "count": 0
                      },
                      {
                        "bin_start": 5255,
                        "bin_end": 6306,
                        "count": 0
                      },
                      {
                        "bin_start": 6306,
                        "bin_end": 7357,
                        "count": 0
                      },
                      {
                        "bin_start": 7357,
                        "bin_end": 8408,
                        "count": 0
                      },
                      {
                        "bin_start": 8408,
                        "bin_end": 9459,
                        "count": 0
                      },
                      {
                        "bin_start": 9459,
                        "bin_end": 10510,
                        "count": 1
                      }
                    ]
                  }
                },
                {
                  "name": "BFF_15_12",
                  "dtype": "float64",
                  "stats": {
                    "unique_count": 7,
                    "nan_count": 0,
                    "min": "0.0",
                    "max": "10511.0",
                    "histogram": [
                      {
                        "bin_start": 0,
                        "bin_end": 1051.1,
                        "count": 7
                      },
                      {
                        "bin_start": 1051.1,
                        "bin_end": 2102.2,
                        "count": 0
                      },
                      {
                        "bin_start": 2102.2,
                        "bin_end": 3153.2999999999997,
                        "count": 0
                      },
                      {
                        "bin_start": 3153.2999999999997,
                        "bin_end": 4204.4,
                        "count": 0
                      },
                      {
                        "bin_start": 4204.4,
                        "bin_end": 5255.5,
                        "count": 0
                      },
                      {
                        "bin_start": 5255.5,
                        "bin_end": 6306.599999999999,
                        "count": 0
                      },
                      {
                        "bin_start": 6306.599999999999,
                        "bin_end": 7357.699999999999,
                        "count": 0
                      },
                      {
                        "bin_start": 7357.699999999999,
                        "bin_end": 8408.8,
                        "count": 0
                      },
                      {
                        "bin_start": 8408.8,
                        "bin_end": 9459.9,
                        "count": 0
                      },
                      {
                        "bin_start": 9459.9,
                        "bin_end": 10511,
                        "count": 1
                      }
                    ]
                  }
                },
                {
                  "name": "BFF_15_13",
                  "dtype": "float64",
                  "stats": {
                    "unique_count": 8,
                    "nan_count": 0,
                    "min": "0.0",
                    "max": "10511.0",
                    "histogram": [
                      {
                        "bin_start": 0,
                        "bin_end": 1051.1,
                        "count": 7
                      },
                      {
                        "bin_start": 1051.1,
                        "bin_end": 2102.2,
                        "count": 0
                      },
                      {
                        "bin_start": 2102.2,
                        "bin_end": 3153.2999999999997,
                        "count": 0
                      },
                      {
                        "bin_start": 3153.2999999999997,
                        "bin_end": 4204.4,
                        "count": 0
                      },
                      {
                        "bin_start": 4204.4,
                        "bin_end": 5255.5,
                        "count": 0
                      },
                      {
                        "bin_start": 5255.5,
                        "bin_end": 6306.599999999999,
                        "count": 0
                      },
                      {
                        "bin_start": 6306.599999999999,
                        "bin_end": 7357.699999999999,
                        "count": 0
                      },
                      {
                        "bin_start": 7357.699999999999,
                        "bin_end": 8408.8,
                        "count": 0
                      },
                      {
                        "bin_start": 8408.8,
                        "bin_end": 9459.9,
                        "count": 0
                      },
                      {
                        "bin_start": 9459.9,
                        "bin_end": 10511,
                        "count": 1
                      }
                    ]
                  }
                },
                {
                  "name": "BFF_15_14",
                  "dtype": "float64",
                  "stats": {
                    "unique_count": 8,
                    "nan_count": 0,
                    "min": "0.0",
                    "max": "10517.0",
                    "histogram": [
                      {
                        "bin_start": 0,
                        "bin_end": 1051.7,
                        "count": 7
                      },
                      {
                        "bin_start": 1051.7,
                        "bin_end": 2103.4,
                        "count": 0
                      },
                      {
                        "bin_start": 2103.4,
                        "bin_end": 3155.1000000000004,
                        "count": 0
                      },
                      {
                        "bin_start": 3155.1000000000004,
                        "bin_end": 4206.8,
                        "count": 0
                      },
                      {
                        "bin_start": 4206.8,
                        "bin_end": 5258.5,
                        "count": 0
                      },
                      {
                        "bin_start": 5258.5,
                        "bin_end": 6310.200000000001,
                        "count": 0
                      },
                      {
                        "bin_start": 6310.200000000001,
                        "bin_end": 7361.900000000001,
                        "count": 0
                      },
                      {
                        "bin_start": 7361.900000000001,
                        "bin_end": 8413.6,
                        "count": 0
                      },
                      {
                        "bin_start": 8413.6,
                        "bin_end": 9465.300000000001,
                        "count": 0
                      },
                      {
                        "bin_start": 9465.300000000001,
                        "bin_end": 10517,
                        "count": 1
                      }
                    ]
                  }
                },
                {
                  "name": "BFF_15_15",
                  "dtype": "float64",
                  "stats": {
                    "unique_count": 7,
                    "nan_count": 0,
                    "min": "0.0",
                    "max": "10518.0",
                    "histogram": [
                      {
                        "bin_start": 0,
                        "bin_end": 1051.8,
                        "count": 7
                      },
                      {
                        "bin_start": 1051.8,
                        "bin_end": 2103.6,
                        "count": 0
                      },
                      {
                        "bin_start": 2103.6,
                        "bin_end": 3155.3999999999996,
                        "count": 0
                      },
                      {
                        "bin_start": 3155.3999999999996,
                        "bin_end": 4207.2,
                        "count": 0
                      },
                      {
                        "bin_start": 4207.2,
                        "bin_end": 5259,
                        "count": 0
                      },
                      {
                        "bin_start": 5259,
                        "bin_end": 6310.799999999999,
                        "count": 0
                      },
                      {
                        "bin_start": 6310.799999999999,
                        "bin_end": 7362.599999999999,
                        "count": 0
                      },
                      {
                        "bin_start": 7362.599999999999,
                        "bin_end": 8414.4,
                        "count": 0
                      },
                      {
                        "bin_start": 8414.4,
                        "bin_end": 9466.199999999999,
                        "count": 0
                      },
                      {
                        "bin_start": 9466.199999999999,
                        "bin_end": 10518,
                        "count": 1
                      }
                    ]
                  }
                },
                {
                  "name": "SPS_1",
                  "dtype": "float64",
                  "stats": {
                    "unique_count": 6,
                    "nan_count": 0,
                    "min": "0.0",
                    "max": "9474.0",
                    "histogram": [
                      {
                        "bin_start": 0,
                        "bin_end": 947.4,
                        "count": 7
                      },
                      {
                        "bin_start": 947.4,
                        "bin_end": 1894.8,
                        "count": 0
                      },
                      {
                        "bin_start": 1894.8,
                        "bin_end": 2842.2,
                        "count": 0
                      },
                      {
                        "bin_start": 2842.2,
                        "bin_end": 3789.6,
                        "count": 0
                      },
                      {
                        "bin_start": 3789.6,
                        "bin_end": 4737,
                        "count": 0
                      },
                      {
                        "bin_start": 4737,
                        "bin_end": 5684.4,
                        "count": 0
                      },
                      {
                        "bin_start": 5684.4,
                        "bin_end": 6631.8,
                        "count": 0
                      },
                      {
                        "bin_start": 6631.8,
                        "bin_end": 7579.2,
                        "count": 0
                      },
                      {
                        "bin_start": 7579.2,
                        "bin_end": 8526.6,
                        "count": 0
                      },
                      {
                        "bin_start": 8526.6,
                        "bin_end": 9474,
                        "count": 1
                      }
                    ]
                  }
                },
                {
                  "name": "SPS_2",
                  "dtype": "float64",
                  "stats": {
                    "unique_count": 7,
                    "nan_count": 0,
                    "min": "0.0",
                    "max": "9461.0",
                    "histogram": [
                      {
                        "bin_start": 0,
                        "bin_end": 946.1,
                        "count": 7
                      },
                      {
                        "bin_start": 946.1,
                        "bin_end": 1892.2,
                        "count": 0
                      },
                      {
                        "bin_start": 1892.2,
                        "bin_end": 2838.3,
                        "count": 0
                      },
                      {
                        "bin_start": 2838.3,
                        "bin_end": 3784.4,
                        "count": 0
                      },
                      {
                        "bin_start": 3784.4,
                        "bin_end": 4730.5,
                        "count": 0
                      },
                      {
                        "bin_start": 4730.5,
                        "bin_end": 5676.6,
                        "count": 0
                      },
                      {
                        "bin_start": 5676.6,
                        "bin_end": 6622.7,
                        "count": 0
                      },
                      {
                        "bin_start": 6622.7,
                        "bin_end": 7568.8,
                        "count": 0
                      },
                      {
                        "bin_start": 7568.8,
                        "bin_end": 8514.9,
                        "count": 0
                      },
                      {
                        "bin_start": 8514.9,
                        "bin_end": 9461,
                        "count": 1
                      }
                    ]
                  }
                },
                {
                  "name": "SPS_3",
                  "dtype": "float64",
                  "stats": {
                    "unique_count": 7,
                    "nan_count": 0,
                    "min": "0.0",
                    "max": "9471.0",
                    "histogram": [
                      {
                        "bin_start": 0,
                        "bin_end": 947.1,
                        "count": 7
                      },
                      {
                        "bin_start": 947.1,
                        "bin_end": 1894.2,
                        "count": 0
                      },
                      {
                        "bin_start": 1894.2,
                        "bin_end": 2841.3,
                        "count": 0
                      },
                      {
                        "bin_start": 2841.3,
                        "bin_end": 3788.4,
                        "count": 0
                      },
                      {
                        "bin_start": 3788.4,
                        "bin_end": 4735.5,
                        "count": 0
                      },
                      {
                        "bin_start": 4735.5,
                        "bin_end": 5682.6,
                        "count": 0
                      },
                      {
                        "bin_start": 5682.6,
                        "bin_end": 6629.7,
                        "count": 0
                      },
                      {
                        "bin_start": 6629.7,
                        "bin_end": 7576.8,
                        "count": 0
                      },
                      {
                        "bin_start": 7576.8,
                        "bin_end": 8523.9,
                        "count": 0
                      },
                      {
                        "bin_start": 8523.9,
                        "bin_end": 9471,
                        "count": 1
                      }
                    ]
                  }
                },
                {
                  "name": "SPS_4",
                  "dtype": "float64",
                  "stats": {
                    "unique_count": 7,
                    "nan_count": 0,
                    "min": "0.0",
                    "max": "9477.0",
                    "histogram": [
                      {
                        "bin_start": 0,
                        "bin_end": 947.7,
                        "count": 7
                      },
                      {
                        "bin_start": 947.7,
                        "bin_end": 1895.4,
                        "count": 0
                      },
                      {
                        "bin_start": 1895.4,
                        "bin_end": 2843.1000000000004,
                        "count": 0
                      },
                      {
                        "bin_start": 2843.1000000000004,
                        "bin_end": 3790.8,
                        "count": 0
                      },
                      {
                        "bin_start": 3790.8,
                        "bin_end": 4738.5,
                        "count": 0
                      },
                      {
                        "bin_start": 4738.5,
                        "bin_end": 5686.200000000001,
                        "count": 0
                      },
                      {
                        "bin_start": 5686.200000000001,
                        "bin_end": 6633.900000000001,
                        "count": 0
                      },
                      {
                        "bin_start": 6633.900000000001,
                        "bin_end": 7581.6,
                        "count": 0
                      },
                      {
                        "bin_start": 7581.6,
                        "bin_end": 8529.300000000001,
                        "count": 0
                      },
                      {
                        "bin_start": 8529.300000000001,
                        "bin_end": 9477,
                        "count": 1
                      }
                    ]
                  }
                },
                {
                  "name": "SPS_5",
                  "dtype": "float64",
                  "stats": {
                    "unique_count": 6,
                    "nan_count": 0,
                    "min": "0.0",
                    "max": "9474.0",
                    "histogram": [
                      {
                        "bin_start": 0,
                        "bin_end": 947.4,
                        "count": 7
                      },
                      {
                        "bin_start": 947.4,
                        "bin_end": 1894.8,
                        "count": 0
                      },
                      {
                        "bin_start": 1894.8,
                        "bin_end": 2842.2,
                        "count": 0
                      },
                      {
                        "bin_start": 2842.2,
                        "bin_end": 3789.6,
                        "count": 0
                      },
                      {
                        "bin_start": 3789.6,
                        "bin_end": 4737,
                        "count": 0
                      },
                      {
                        "bin_start": 4737,
                        "bin_end": 5684.4,
                        "count": 0
                      },
                      {
                        "bin_start": 5684.4,
                        "bin_end": 6631.8,
                        "count": 0
                      },
                      {
                        "bin_start": 6631.8,
                        "bin_end": 7579.2,
                        "count": 0
                      },
                      {
                        "bin_start": 7579.2,
                        "bin_end": 8526.6,
                        "count": 0
                      },
                      {
                        "bin_start": 8526.6,
                        "bin_end": 9474,
                        "count": 1
                      }
                    ]
                  }
                },
                {
                  "name": "SPS_6",
                  "dtype": "float64",
                  "stats": {
                    "unique_count": 7,
                    "nan_count": 0,
                    "min": "0.0",
                    "max": "9472.0",
                    "histogram": [
                      {
                        "bin_start": 0,
                        "bin_end": 947.2,
                        "count": 7
                      },
                      {
                        "bin_start": 947.2,
                        "bin_end": 1894.4,
                        "count": 0
                      },
                      {
                        "bin_start": 1894.4,
                        "bin_end": 2841.6000000000004,
                        "count": 0
                      },
                      {
                        "bin_start": 2841.6000000000004,
                        "bin_end": 3788.8,
                        "count": 0
                      },
                      {
                        "bin_start": 3788.8,
                        "bin_end": 4736,
                        "count": 0
                      },
                      {
                        "bin_start": 4736,
                        "bin_end": 5683.200000000001,
                        "count": 0
                      },
                      {
                        "bin_start": 5683.200000000001,
                        "bin_end": 6630.400000000001,
                        "count": 0
                      },
                      {
                        "bin_start": 6630.400000000001,
                        "bin_end": 7577.6,
                        "count": 0
                      },
                      {
                        "bin_start": 7577.6,
                        "bin_end": 8524.800000000001,
                        "count": 0
                      },
                      {
                        "bin_start": 8524.800000000001,
                        "bin_end": 9472,
                        "count": 1
                      }
                    ]
                  }
                },
                {
                  "name": "SPS_7",
                  "dtype": "float64",
                  "stats": {
                    "unique_count": 6,
                    "nan_count": 0,
                    "min": "0.0",
                    "max": "9480.0",
                    "histogram": [
                      {
                        "bin_start": 0,
                        "bin_end": 948,
                        "count": 7
                      },
                      {
                        "bin_start": 948,
                        "bin_end": 1896,
                        "count": 0
                      },
                      {
                        "bin_start": 1896,
                        "bin_end": 2844,
                        "count": 0
                      },
                      {
                        "bin_start": 2844,
                        "bin_end": 3792,
                        "count": 0
                      },
                      {
                        "bin_start": 3792,
                        "bin_end": 4740,
                        "count": 0
                      },
                      {
                        "bin_start": 4740,
                        "bin_end": 5688,
                        "count": 0
                      },
                      {
                        "bin_start": 5688,
                        "bin_end": 6636,
                        "count": 0
                      },
                      {
                        "bin_start": 6636,
                        "bin_end": 7584,
                        "count": 0
                      },
                      {
                        "bin_start": 7584,
                        "bin_end": 8532,
                        "count": 0
                      },
                      {
                        "bin_start": 8532,
                        "bin_end": 9480,
                        "count": 1
                      }
                    ]
                  }
                },
                {
                  "name": "SPS_8",
                  "dtype": "float64",
                  "stats": {
                    "unique_count": 6,
                    "nan_count": 0,
                    "min": "0.0",
                    "max": "9467.0",
                    "histogram": [
                      {
                        "bin_start": 0,
                        "bin_end": 946.7,
                        "count": 7
                      },
                      {
                        "bin_start": 946.7,
                        "bin_end": 1893.4,
                        "count": 0
                      },
                      {
                        "bin_start": 1893.4,
                        "bin_end": 2840.1000000000004,
                        "count": 0
                      },
                      {
                        "bin_start": 2840.1000000000004,
                        "bin_end": 3786.8,
                        "count": 0
                      },
                      {
                        "bin_start": 3786.8,
                        "bin_end": 4733.5,
                        "count": 0
                      },
                      {
                        "bin_start": 4733.5,
                        "bin_end": 5680.200000000001,
                        "count": 0
                      },
                      {
                        "bin_start": 5680.200000000001,
                        "bin_end": 6626.900000000001,
                        "count": 0
                      },
                      {
                        "bin_start": 6626.900000000001,
                        "bin_end": 7573.6,
                        "count": 0
                      },
                      {
                        "bin_start": 7573.6,
                        "bin_end": 8520.300000000001,
                        "count": 0
                      },
                      {
                        "bin_start": 8520.300000000001,
                        "bin_end": 9467,
                        "count": 1
                      }
                    ]
                  }
                },
                {
                  "name": "SPS_9",
                  "dtype": "float64",
                  "stats": {
                    "unique_count": 7,
                    "nan_count": 0,
                    "min": "0.0",
                    "max": "9449.0",
                    "histogram": [
                      {
                        "bin_start": 0,
                        "bin_end": 944.9,
                        "count": 7
                      },
                      {
                        "bin_start": 944.9,
                        "bin_end": 1889.8,
                        "count": 0
                      },
                      {
                        "bin_start": 1889.8,
                        "bin_end": 2834.7,
                        "count": 0
                      },
                      {
                        "bin_start": 2834.7,
                        "bin_end": 3779.6,
                        "count": 0
                      },
                      {
                        "bin_start": 3779.6,
                        "bin_end": 4724.5,
                        "count": 0
                      },
                      {
                        "bin_start": 4724.5,
                        "bin_end": 5669.4,
                        "count": 0
                      },
                      {
                        "bin_start": 5669.4,
                        "bin_end": 6614.3,
                        "count": 0
                      },
                      {
                        "bin_start": 6614.3,
                        "bin_end": 7559.2,
                        "count": 0
                      },
                      {
                        "bin_start": 7559.2,
                        "bin_end": 8504.1,
                        "count": 0
                      },
                      {
                        "bin_start": 8504.1,
                        "bin_end": 9449,
                        "count": 1
                      }
                    ]
                  }
                },
                {
                  "name": "SPS_10",
                  "dtype": "float64",
                  "stats": {
                    "unique_count": 6,
                    "nan_count": 0,
                    "min": "0.0",
                    "max": "9485.0",
                    "histogram": [
                      {
                        "bin_start": 0,
                        "bin_end": 948.5,
                        "count": 7
                      },
                      {
                        "bin_start": 948.5,
                        "bin_end": 1897,
                        "count": 0
                      },
                      {
                        "bin_start": 1897,
                        "bin_end": 2845.5,
                        "count": 0
                      },
                      {
                        "bin_start": 2845.5,
                        "bin_end": 3794,
                        "count": 0
                      },
                      {
                        "bin_start": 3794,
                        "bin_end": 4742.5,
                        "count": 0
                      },
                      {
                        "bin_start": 4742.5,
                        "bin_end": 5691,
                        "count": 0
                      },
                      {
                        "bin_start": 5691,
                        "bin_end": 6639.5,
                        "count": 0
                      },
                      {
                        "bin_start": 6639.5,
                        "bin_end": 7588,
                        "count": 0
                      },
                      {
                        "bin_start": 7588,
                        "bin_end": 8536.5,
                        "count": 0
                      },
                      {
                        "bin_start": 8536.5,
                        "bin_end": 9485,
                        "count": 1
                      }
                    ]
                  }
                },
                {
                  "name": "Expl_Coping_1",
                  "dtype": "float64",
                  "stats": {
                    "unique_count": 8,
                    "nan_count": 0,
                    "min": "0.0",
                    "max": "9439.0",
                    "histogram": [
                      {
                        "bin_start": 0,
                        "bin_end": 943.9,
                        "count": 7
                      },
                      {
                        "bin_start": 943.9,
                        "bin_end": 1887.8,
                        "count": 0
                      },
                      {
                        "bin_start": 1887.8,
                        "bin_end": 2831.7,
                        "count": 0
                      },
                      {
                        "bin_start": 2831.7,
                        "bin_end": 3775.6,
                        "count": 0
                      },
                      {
                        "bin_start": 3775.6,
                        "bin_end": 4719.5,
                        "count": 0
                      },
                      {
                        "bin_start": 4719.5,
                        "bin_end": 5663.4,
                        "count": 0
                      },
                      {
                        "bin_start": 5663.4,
                        "bin_end": 6607.3,
                        "count": 0
                      },
                      {
                        "bin_start": 6607.3,
                        "bin_end": 7551.2,
                        "count": 0
                      },
                      {
                        "bin_start": 7551.2,
                        "bin_end": 8495.1,
                        "count": 0
                      },
                      {
                        "bin_start": 8495.1,
                        "bin_end": 9439,
                        "count": 1
                      }
                    ]
                  }
                },
                {
                  "name": "Expl_Coping_2",
                  "dtype": "float64",
                  "stats": {
                    "unique_count": 8,
                    "nan_count": 0,
                    "min": "0.0",
                    "max": "9386.0",
                    "histogram": [
                      {
                        "bin_start": 0,
                        "bin_end": 938.6,
                        "count": 7
                      },
                      {
                        "bin_start": 938.6,
                        "bin_end": 1877.2,
                        "count": 0
                      },
                      {
                        "bin_start": 1877.2,
                        "bin_end": 2815.8,
                        "count": 0
                      },
                      {
                        "bin_start": 2815.8,
                        "bin_end": 3754.4,
                        "count": 0
                      },
                      {
                        "bin_start": 3754.4,
                        "bin_end": 4693,
                        "count": 0
                      },
                      {
                        "bin_start": 4693,
                        "bin_end": 5631.6,
                        "count": 0
                      },
                      {
                        "bin_start": 5631.6,
                        "bin_end": 6570.2,
                        "count": 0
                      },
                      {
                        "bin_start": 6570.2,
                        "bin_end": 7508.8,
                        "count": 0
                      },
                      {
                        "bin_start": 7508.8,
                        "bin_end": 8447.4,
                        "count": 0
                      },
                      {
                        "bin_start": 8447.4,
                        "bin_end": 9386,
                        "count": 1
                      }
                    ]
                  }
                },
                {
                  "name": "Expl_Coping_3",
                  "dtype": "float64",
                  "stats": {
                    "unique_count": 7,
                    "nan_count": 0,
                    "min": "0.0",
                    "max": "9464.0",
                    "histogram": [
                      {
                        "bin_start": 0,
                        "bin_end": 946.4,
                        "count": 7
                      },
                      {
                        "bin_start": 946.4,
                        "bin_end": 1892.8,
                        "count": 0
                      },
                      {
                        "bin_start": 1892.8,
                        "bin_end": 2839.2,
                        "count": 0
                      },
                      {
                        "bin_start": 2839.2,
                        "bin_end": 3785.6,
                        "count": 0
                      },
                      {
                        "bin_start": 3785.6,
                        "bin_end": 4732,
                        "count": 0
                      },
                      {
                        "bin_start": 4732,
                        "bin_end": 5678.4,
                        "count": 0
                      },
                      {
                        "bin_start": 5678.4,
                        "bin_end": 6624.8,
                        "count": 0
                      },
                      {
                        "bin_start": 6624.8,
                        "bin_end": 7571.2,
                        "count": 0
                      },
                      {
                        "bin_start": 7571.2,
                        "bin_end": 8517.6,
                        "count": 0
                      },
                      {
                        "bin_start": 8517.6,
                        "bin_end": 9464,
                        "count": 1
                      }
                    ]
                  }
                },
                {
                  "name": "Expl_Coping_4",
                  "dtype": "float64",
                  "stats": {
                    "unique_count": 7,
                    "nan_count": 0,
                    "min": "0.0",
                    "max": "9268.0",
                    "histogram": [
                      {
                        "bin_start": 0,
                        "bin_end": 926.8,
                        "count": 7
                      },
                      {
                        "bin_start": 926.8,
                        "bin_end": 1853.6,
                        "count": 0
                      },
                      {
                        "bin_start": 1853.6,
                        "bin_end": 2780.3999999999996,
                        "count": 0
                      },
                      {
                        "bin_start": 2780.3999999999996,
                        "bin_end": 3707.2,
                        "count": 0
                      },
                      {
                        "bin_start": 3707.2,
                        "bin_end": 4634,
                        "count": 0
                      },
                      {
                        "bin_start": 4634,
                        "bin_end": 5560.799999999999,
                        "count": 0
                      },
                      {
                        "bin_start": 5560.799999999999,
                        "bin_end": 6487.599999999999,
                        "count": 0
                      },
                      {
                        "bin_start": 6487.599999999999,
                        "bin_end": 7414.4,
                        "count": 0
                      },
                      {
                        "bin_start": 7414.4,
                        "bin_end": 8341.199999999999,
                        "count": 0
                      },
                      {
                        "bin_start": 8341.199999999999,
                        "bin_end": 9268,
                        "count": 1
                      }
                    ]
                  }
                },
                {
                  "name": "Expl_Coping_5",
                  "dtype": "float64",
                  "stats": {
                    "unique_count": 8,
                    "nan_count": 0,
                    "min": "0.0",
                    "max": "9382.0",
                    "histogram": [
                      {
                        "bin_start": 0,
                        "bin_end": 938.2,
                        "count": 7
                      },
                      {
                        "bin_start": 938.2,
                        "bin_end": 1876.4,
                        "count": 0
                      },
                      {
                        "bin_start": 1876.4,
                        "bin_end": 2814.6000000000004,
                        "count": 0
                      },
                      {
                        "bin_start": 2814.6000000000004,
                        "bin_end": 3752.8,
                        "count": 0
                      },
                      {
                        "bin_start": 3752.8,
                        "bin_end": 4691,
                        "count": 0
                      },
                      {
                        "bin_start": 4691,
                        "bin_end": 5629.200000000001,
                        "count": 0
                      },
                      {
                        "bin_start": 5629.200000000001,
                        "bin_end": 6567.400000000001,
                        "count": 0
                      },
                      {
                        "bin_start": 6567.400000000001,
                        "bin_end": 7505.6,
                        "count": 0
                      },
                      {
                        "bin_start": 7505.6,
                        "bin_end": 8443.800000000001,
                        "count": 0
                      },
                      {
                        "bin_start": 8443.800000000001,
                        "bin_end": 9382,
                        "count": 1
                      }
                    ]
                  }
                },
                {
                  "name": "Expl_Coping_6",
                  "dtype": "float64",
                  "stats": {
                    "unique_count": 8,
                    "nan_count": 0,
                    "min": "0.0",
                    "max": "9460.0",
                    "histogram": [
                      {
                        "bin_start": 0,
                        "bin_end": 946,
                        "count": 7
                      },
                      {
                        "bin_start": 946,
                        "bin_end": 1892,
                        "count": 0
                      },
                      {
                        "bin_start": 1892,
                        "bin_end": 2838,
                        "count": 0
                      },
                      {
                        "bin_start": 2838,
                        "bin_end": 3784,
                        "count": 0
                      },
                      {
                        "bin_start": 3784,
                        "bin_end": 4730,
                        "count": 0
                      },
                      {
                        "bin_start": 4730,
                        "bin_end": 5676,
                        "count": 0
                      },
                      {
                        "bin_start": 5676,
                        "bin_end": 6622,
                        "count": 0
                      },
                      {
                        "bin_start": 6622,
                        "bin_end": 7568,
                        "count": 0
                      },
                      {
                        "bin_start": 7568,
                        "bin_end": 8514,
                        "count": 0
                      },
                      {
                        "bin_start": 8514,
                        "bin_end": 9460,
                        "count": 1
                      }
                    ]
                  }
                },
                {
                  "name": "Expl_Coping_7",
                  "dtype": "float64",
                  "stats": {
                    "unique_count": 8,
                    "nan_count": 0,
                    "min": "0.0",
                    "max": "9399.0",
                    "histogram": [
                      {
                        "bin_start": 0,
                        "bin_end": 939.9,
                        "count": 7
                      },
                      {
                        "bin_start": 939.9,
                        "bin_end": 1879.8,
                        "count": 0
                      },
                      {
                        "bin_start": 1879.8,
                        "bin_end": 2819.7,
                        "count": 0
                      },
                      {
                        "bin_start": 2819.7,
                        "bin_end": 3759.6,
                        "count": 0
                      },
                      {
                        "bin_start": 3759.6,
                        "bin_end": 4699.5,
                        "count": 0
                      },
                      {
                        "bin_start": 4699.5,
                        "bin_end": 5639.4,
                        "count": 0
                      },
                      {
                        "bin_start": 5639.4,
                        "bin_end": 6579.3,
                        "count": 0
                      },
                      {
                        "bin_start": 6579.3,
                        "bin_end": 7519.2,
                        "count": 0
                      },
                      {
                        "bin_start": 7519.2,
                        "bin_end": 8459.1,
                        "count": 0
                      },
                      {
                        "bin_start": 8459.1,
                        "bin_end": 9399,
                        "count": 1
                      }
                    ]
                  }
                },
                {
                  "name": "Expl_Coping_8",
                  "dtype": "float64",
                  "stats": {
                    "unique_count": 7,
                    "nan_count": 0,
                    "min": "0.0",
                    "max": "9371.0",
                    "histogram": [
                      {
                        "bin_start": 0,
                        "bin_end": 937.1,
                        "count": 7
                      },
                      {
                        "bin_start": 937.1,
                        "bin_end": 1874.2,
                        "count": 0
                      },
                      {
                        "bin_start": 1874.2,
                        "bin_end": 2811.3,
                        "count": 0
                      },
                      {
                        "bin_start": 2811.3,
                        "bin_end": 3748.4,
                        "count": 0
                      },
                      {
                        "bin_start": 3748.4,
                        "bin_end": 4685.5,
                        "count": 0
                      },
                      {
                        "bin_start": 4685.5,
                        "bin_end": 5622.6,
                        "count": 0
                      },
                      {
                        "bin_start": 5622.6,
                        "bin_end": 6559.7,
                        "count": 0
                      },
                      {
                        "bin_start": 6559.7,
                        "bin_end": 7496.8,
                        "count": 0
                      },
                      {
                        "bin_start": 7496.8,
                        "bin_end": 8433.9,
                        "count": 0
                      },
                      {
                        "bin_start": 8433.9,
                        "bin_end": 9371,
                        "count": 1
                      }
                    ]
                  }
                },
                {
                  "name": "Expl_Coping_9",
                  "dtype": "float64",
                  "stats": {
                    "unique_count": 7,
                    "nan_count": 0,
                    "min": "0.0",
                    "max": "9459.0",
                    "histogram": [
                      {
                        "bin_start": 0,
                        "bin_end": 945.9,
                        "count": 7
                      },
                      {
                        "bin_start": 945.9,
                        "bin_end": 1891.8,
                        "count": 0
                      },
                      {
                        "bin_start": 1891.8,
                        "bin_end": 2837.7,
                        "count": 0
                      },
                      {
                        "bin_start": 2837.7,
                        "bin_end": 3783.6,
                        "count": 0
                      },
                      {
                        "bin_start": 3783.6,
                        "bin_end": 4729.5,
                        "count": 0
                      },
                      {
                        "bin_start": 4729.5,
                        "bin_end": 5675.4,
                        "count": 0
                      },
                      {
                        "bin_start": 5675.4,
                        "bin_end": 6621.3,
                        "count": 0
                      },
                      {
                        "bin_start": 6621.3,
                        "bin_end": 7567.2,
                        "count": 0
                      },
                      {
                        "bin_start": 7567.2,
                        "bin_end": 8513.1,
                        "count": 0
                      },
                      {
                        "bin_start": 8513.1,
                        "bin_end": 9459,
                        "count": 1
                      }
                    ]
                  }
                },
                {
                  "name": "Expl_Coping_10",
                  "dtype": "float64",
                  "stats": {
                    "unique_count": 8,
                    "nan_count": 0,
                    "min": "0.0",
                    "max": "9376.0",
                    "histogram": [
                      {
                        "bin_start": 0,
                        "bin_end": 937.6,
                        "count": 7
                      },
                      {
                        "bin_start": 937.6,
                        "bin_end": 1875.2,
                        "count": 0
                      },
                      {
                        "bin_start": 1875.2,
                        "bin_end": 2812.8,
                        "count": 0
                      },
                      {
                        "bin_start": 2812.8,
                        "bin_end": 3750.4,
                        "count": 0
                      },
                      {
                        "bin_start": 3750.4,
                        "bin_end": 4688,
                        "count": 0
                      },
                      {
                        "bin_start": 4688,
                        "bin_end": 5625.6,
                        "count": 0
                      },
                      {
                        "bin_start": 5625.6,
                        "bin_end": 6563.2,
                        "count": 0
                      },
                      {
                        "bin_start": 6563.2,
                        "bin_end": 7500.8,
                        "count": 0
                      },
                      {
                        "bin_start": 7500.8,
                        "bin_end": 8438.4,
                        "count": 0
                      },
                      {
                        "bin_start": 8438.4,
                        "bin_end": 9376,
                        "count": 1
                      }
                    ]
                  }
                },
                {
                  "name": "Expl_Coping_11",
                  "dtype": "float64",
                  "stats": {
                    "unique_count": 8,
                    "nan_count": 0,
                    "min": "0.0",
                    "max": "9424.0",
                    "histogram": [
                      {
                        "bin_start": 0,
                        "bin_end": 942.4,
                        "count": 7
                      },
                      {
                        "bin_start": 942.4,
                        "bin_end": 1884.8,
                        "count": 0
                      },
                      {
                        "bin_start": 1884.8,
                        "bin_end": 2827.2,
                        "count": 0
                      },
                      {
                        "bin_start": 2827.2,
                        "bin_end": 3769.6,
                        "count": 0
                      },
                      {
                        "bin_start": 3769.6,
                        "bin_end": 4712,
                        "count": 0
                      },
                      {
                        "bin_start": 4712,
                        "bin_end": 5654.4,
                        "count": 0
                      },
                      {
                        "bin_start": 5654.4,
                        "bin_end": 6596.8,
                        "count": 0
                      },
                      {
                        "bin_start": 6596.8,
                        "bin_end": 7539.2,
                        "count": 0
                      },
                      {
                        "bin_start": 7539.2,
                        "bin_end": 8481.6,
                        "count": 0
                      },
                      {
                        "bin_start": 8481.6,
                        "bin_end": 9424,
                        "count": 1
                      }
                    ]
                  }
                },
                {
                  "name": "Expl_Coping_12",
                  "dtype": "float64",
                  "stats": {
                    "unique_count": 8,
                    "nan_count": 0,
                    "min": "0.0",
                    "max": "9421.0",
                    "histogram": [
                      {
                        "bin_start": 0,
                        "bin_end": 942.1,
                        "count": 7
                      },
                      {
                        "bin_start": 942.1,
                        "bin_end": 1884.2,
                        "count": 0
                      },
                      {
                        "bin_start": 1884.2,
                        "bin_end": 2826.3,
                        "count": 0
                      },
                      {
                        "bin_start": 2826.3,
                        "bin_end": 3768.4,
                        "count": 0
                      },
                      {
                        "bin_start": 3768.4,
                        "bin_end": 4710.5,
                        "count": 0
                      },
                      {
                        "bin_start": 4710.5,
                        "bin_end": 5652.6,
                        "count": 0
                      },
                      {
                        "bin_start": 5652.6,
                        "bin_end": 6594.7,
                        "count": 0
                      },
                      {
                        "bin_start": 6594.7,
                        "bin_end": 7536.8,
                        "count": 0
                      },
                      {
                        "bin_start": 7536.8,
                        "bin_end": 8478.9,
                        "count": 0
                      },
                      {
                        "bin_start": 8478.9,
                        "bin_end": 9421,
                        "count": 1
                      }
                    ]
                  }
                },
                {
                  "name": "Expl_Coping_13",
                  "dtype": "float64",
                  "stats": {
                    "unique_count": 8,
                    "nan_count": 0,
                    "min": "0.0",
                    "max": "9415.0",
                    "histogram": [
                      {
                        "bin_start": 0,
                        "bin_end": 941.5,
                        "count": 7
                      },
                      {
                        "bin_start": 941.5,
                        "bin_end": 1883,
                        "count": 0
                      },
                      {
                        "bin_start": 1883,
                        "bin_end": 2824.5,
                        "count": 0
                      },
                      {
                        "bin_start": 2824.5,
                        "bin_end": 3766,
                        "count": 0
                      },
                      {
                        "bin_start": 3766,
                        "bin_end": 4707.5,
                        "count": 0
                      },
                      {
                        "bin_start": 4707.5,
                        "bin_end": 5649,
                        "count": 0
                      },
                      {
                        "bin_start": 5649,
                        "bin_end": 6590.5,
                        "count": 0
                      },
                      {
                        "bin_start": 6590.5,
                        "bin_end": 7532,
                        "count": 0
                      },
                      {
                        "bin_start": 7532,
                        "bin_end": 8473.5,
                        "count": 0
                      },
                      {
                        "bin_start": 8473.5,
                        "bin_end": 9415,
                        "count": 1
                      }
                    ]
                  }
                },
                {
                  "name": "Expl_Coping_14",
                  "dtype": "float64",
                  "stats": {
                    "unique_count": 7,
                    "nan_count": 0,
                    "min": "0.0",
                    "max": "9467.0",
                    "histogram": [
                      {
                        "bin_start": 0,
                        "bin_end": 946.7,
                        "count": 7
                      },
                      {
                        "bin_start": 946.7,
                        "bin_end": 1893.4,
                        "count": 0
                      },
                      {
                        "bin_start": 1893.4,
                        "bin_end": 2840.1000000000004,
                        "count": 0
                      },
                      {
                        "bin_start": 2840.1000000000004,
                        "bin_end": 3786.8,
                        "count": 0
                      },
                      {
                        "bin_start": 3786.8,
                        "bin_end": 4733.5,
                        "count": 0
                      },
                      {
                        "bin_start": 4733.5,
                        "bin_end": 5680.200000000001,
                        "count": 0
                      },
                      {
                        "bin_start": 5680.200000000001,
                        "bin_end": 6626.900000000001,
                        "count": 0
                      },
                      {
                        "bin_start": 6626.900000000001,
                        "bin_end": 7573.6,
                        "count": 0
                      },
                      {
                        "bin_start": 7573.6,
                        "bin_end": 8520.300000000001,
                        "count": 0
                      },
                      {
                        "bin_start": 8520.300000000001,
                        "bin_end": 9467,
                        "count": 1
                      }
                    ]
                  }
                },
                {
                  "name": "Expl_Coping_15",
                  "dtype": "float64",
                  "stats": {
                    "unique_count": 5,
                    "nan_count": 0,
                    "min": "0.0",
                    "max": "9360.0",
                    "histogram": [
                      {
                        "bin_start": 0,
                        "bin_end": 936,
                        "count": 7
                      },
                      {
                        "bin_start": 936,
                        "bin_end": 1872,
                        "count": 0
                      },
                      {
                        "bin_start": 1872,
                        "bin_end": 2808,
                        "count": 0
                      },
                      {
                        "bin_start": 2808,
                        "bin_end": 3744,
                        "count": 0
                      },
                      {
                        "bin_start": 3744,
                        "bin_end": 4680,
                        "count": 0
                      },
                      {
                        "bin_start": 4680,
                        "bin_end": 5616,
                        "count": 0
                      },
                      {
                        "bin_start": 5616,
                        "bin_end": 6552,
                        "count": 0
                      },
                      {
                        "bin_start": 6552,
                        "bin_end": 7488,
                        "count": 0
                      },
                      {
                        "bin_start": 7488,
                        "bin_end": 8424,
                        "count": 0
                      },
                      {
                        "bin_start": 8424,
                        "bin_end": 9360,
                        "count": 1
                      }
                    ]
                  }
                },
                {
                  "name": "Expl_Coping_16",
                  "dtype": "float64",
                  "stats": {
                    "unique_count": 8,
                    "nan_count": 0,
                    "min": "0.0",
                    "max": "9451.0",
                    "histogram": [
                      {
                        "bin_start": 0,
                        "bin_end": 945.1,
                        "count": 7
                      },
                      {
                        "bin_start": 945.1,
                        "bin_end": 1890.2,
                        "count": 0
                      },
                      {
                        "bin_start": 1890.2,
                        "bin_end": 2835.3,
                        "count": 0
                      },
                      {
                        "bin_start": 2835.3,
                        "bin_end": 3780.4,
                        "count": 0
                      },
                      {
                        "bin_start": 3780.4,
                        "bin_end": 4725.5,
                        "count": 0
                      },
                      {
                        "bin_start": 4725.5,
                        "bin_end": 5670.6,
                        "count": 0
                      },
                      {
                        "bin_start": 5670.6,
                        "bin_end": 6615.7,
                        "count": 0
                      },
                      {
                        "bin_start": 6615.7,
                        "bin_end": 7560.8,
                        "count": 0
                      },
                      {
                        "bin_start": 7560.8,
                        "bin_end": 8505.9,
                        "count": 0
                      },
                      {
                        "bin_start": 8505.9,
                        "bin_end": 9451,
                        "count": 1
                      }
                    ]
                  }
                },
                {
                  "name": "Expl_media_1",
                  "dtype": "float64",
                  "stats": {
                    "unique_count": 8,
                    "nan_count": 0,
                    "min": "0.0",
                    "max": "9383.0",
                    "histogram": [
                      {
                        "bin_start": 0,
                        "bin_end": 938.3,
                        "count": 7
                      },
                      {
                        "bin_start": 938.3,
                        "bin_end": 1876.6,
                        "count": 0
                      },
                      {
                        "bin_start": 1876.6,
                        "bin_end": 2814.8999999999996,
                        "count": 0
                      },
                      {
                        "bin_start": 2814.8999999999996,
                        "bin_end": 3753.2,
                        "count": 0
                      },
                      {
                        "bin_start": 3753.2,
                        "bin_end": 4691.5,
                        "count": 0
                      },
                      {
                        "bin_start": 4691.5,
                        "bin_end": 5629.799999999999,
                        "count": 0
                      },
                      {
                        "bin_start": 5629.799999999999,
                        "bin_end": 6568.099999999999,
                        "count": 0
                      },
                      {
                        "bin_start": 6568.099999999999,
                        "bin_end": 7506.4,
                        "count": 0
                      },
                      {
                        "bin_start": 7506.4,
                        "bin_end": 8444.699999999999,
                        "count": 0
                      },
                      {
                        "bin_start": 8444.699999999999,
                        "bin_end": 9383,
                        "count": 1
                      }
                    ]
                  }
                },
                {
                  "name": "Expl_media_2",
                  "dtype": "float64",
                  "stats": {
                    "unique_count": 8,
                    "nan_count": 0,
                    "min": "0.0",
                    "max": "9377.0",
                    "histogram": [
                      {
                        "bin_start": 0,
                        "bin_end": 937.7,
                        "count": 7
                      },
                      {
                        "bin_start": 937.7,
                        "bin_end": 1875.4,
                        "count": 0
                      },
                      {
                        "bin_start": 1875.4,
                        "bin_end": 2813.1000000000004,
                        "count": 0
                      },
                      {
                        "bin_start": 2813.1000000000004,
                        "bin_end": 3750.8,
                        "count": 0
                      },
                      {
                        "bin_start": 3750.8,
                        "bin_end": 4688.5,
                        "count": 0
                      },
                      {
                        "bin_start": 4688.5,
                        "bin_end": 5626.200000000001,
                        "count": 0
                      },
                      {
                        "bin_start": 5626.200000000001,
                        "bin_end": 6563.900000000001,
                        "count": 0
                      },
                      {
                        "bin_start": 6563.900000000001,
                        "bin_end": 7501.6,
                        "count": 0
                      },
                      {
                        "bin_start": 7501.6,
                        "bin_end": 8439.300000000001,
                        "count": 0
                      },
                      {
                        "bin_start": 8439.300000000001,
                        "bin_end": 9377,
                        "count": 1
                      }
                    ]
                  }
                },
                {
                  "name": "Expl_media_3",
                  "dtype": "float64",
                  "stats": {
                    "unique_count": 8,
                    "nan_count": 0,
                    "min": "0.0",
                    "max": "9375.0",
                    "histogram": [
                      {
                        "bin_start": 0,
                        "bin_end": 937.5,
                        "count": 7
                      },
                      {
                        "bin_start": 937.5,
                        "bin_end": 1875,
                        "count": 0
                      },
                      {
                        "bin_start": 1875,
                        "bin_end": 2812.5,
                        "count": 0
                      },
                      {
                        "bin_start": 2812.5,
                        "bin_end": 3750,
                        "count": 0
                      },
                      {
                        "bin_start": 3750,
                        "bin_end": 4687.5,
                        "count": 0
                      },
                      {
                        "bin_start": 4687.5,
                        "bin_end": 5625,
                        "count": 0
                      },
                      {
                        "bin_start": 5625,
                        "bin_end": 6562.5,
                        "count": 0
                      },
                      {
                        "bin_start": 6562.5,
                        "bin_end": 7500,
                        "count": 0
                      },
                      {
                        "bin_start": 7500,
                        "bin_end": 8437.5,
                        "count": 0
                      },
                      {
                        "bin_start": 8437.5,
                        "bin_end": 9375,
                        "count": 1
                      }
                    ]
                  }
                },
                {
                  "name": "Expl_media_4",
                  "dtype": "float64",
                  "stats": {
                    "unique_count": 8,
                    "nan_count": 0,
                    "min": "0.0",
                    "max": "9390.0",
                    "histogram": [
                      {
                        "bin_start": 0,
                        "bin_end": 939,
                        "count": 7
                      },
                      {
                        "bin_start": 939,
                        "bin_end": 1878,
                        "count": 0
                      },
                      {
                        "bin_start": 1878,
                        "bin_end": 2817,
                        "count": 0
                      },
                      {
                        "bin_start": 2817,
                        "bin_end": 3756,
                        "count": 0
                      },
                      {
                        "bin_start": 3756,
                        "bin_end": 4695,
                        "count": 0
                      },
                      {
                        "bin_start": 4695,
                        "bin_end": 5634,
                        "count": 0
                      },
                      {
                        "bin_start": 5634,
                        "bin_end": 6573,
                        "count": 0
                      },
                      {
                        "bin_start": 6573,
                        "bin_end": 7512,
                        "count": 0
                      },
                      {
                        "bin_start": 7512,
                        "bin_end": 8451,
                        "count": 0
                      },
                      {
                        "bin_start": 8451,
                        "bin_end": 9390,
                        "count": 1
                      }
                    ]
                  }
                },
                {
                  "name": "Expl_media_5",
                  "dtype": "float64",
                  "stats": {
                    "unique_count": 8,
                    "nan_count": 0,
                    "min": "0.0",
                    "max": "9377.0",
                    "histogram": [
                      {
                        "bin_start": 0,
                        "bin_end": 937.7,
                        "count": 7
                      },
                      {
                        "bin_start": 937.7,
                        "bin_end": 1875.4,
                        "count": 0
                      },
                      {
                        "bin_start": 1875.4,
                        "bin_end": 2813.1000000000004,
                        "count": 0
                      },
                      {
                        "bin_start": 2813.1000000000004,
                        "bin_end": 3750.8,
                        "count": 0
                      },
                      {
                        "bin_start": 3750.8,
                        "bin_end": 4688.5,
                        "count": 0
                      },
                      {
                        "bin_start": 4688.5,
                        "bin_end": 5626.200000000001,
                        "count": 0
                      },
                      {
                        "bin_start": 5626.200000000001,
                        "bin_end": 6563.900000000001,
                        "count": 0
                      },
                      {
                        "bin_start": 6563.900000000001,
                        "bin_end": 7501.6,
                        "count": 0
                      },
                      {
                        "bin_start": 7501.6,
                        "bin_end": 8439.300000000001,
                        "count": 0
                      },
                      {
                        "bin_start": 8439.300000000001,
                        "bin_end": 9377,
                        "count": 1
                      }
                    ]
                  }
                },
                {
                  "name": "Expl_media_6",
                  "dtype": "float64",
                  "stats": {
                    "unique_count": 8,
                    "nan_count": 0,
                    "min": "0.0",
                    "max": "9373.0",
                    "histogram": [
                      {
                        "bin_start": 0,
                        "bin_end": 937.3,
                        "count": 7
                      },
                      {
                        "bin_start": 937.3,
                        "bin_end": 1874.6,
                        "count": 0
                      },
                      {
                        "bin_start": 1874.6,
                        "bin_end": 2811.8999999999996,
                        "count": 0
                      },
                      {
                        "bin_start": 2811.8999999999996,
                        "bin_end": 3749.2,
                        "count": 0
                      },
                      {
                        "bin_start": 3749.2,
                        "bin_end": 4686.5,
                        "count": 0
                      },
                      {
                        "bin_start": 4686.5,
                        "bin_end": 5623.799999999999,
                        "count": 0
                      },
                      {
                        "bin_start": 5623.799999999999,
                        "bin_end": 6561.099999999999,
                        "count": 0
                      },
                      {
                        "bin_start": 6561.099999999999,
                        "bin_end": 7498.4,
                        "count": 0
                      },
                      {
                        "bin_start": 7498.4,
                        "bin_end": 8435.699999999999,
                        "count": 0
                      },
                      {
                        "bin_start": 8435.699999999999,
                        "bin_end": 9373,
                        "count": 1
                      }
                    ]
                  }
                },
                {
                  "name": "_deepnote_index_column",
                  "dtype": "object"
                }
              ],
              "rows_top": [
                {
                  "Corona_concerns_1": 10766,
                  "Corona_concerns_2": 10742,
                  "Corona_concerns_3": 10733,
                  "Corona_concerns_4": 10733,
                  "Corona_concerns_5": 10727,
                  "Compliance_1": 10640,
                  "Compliance_2": 10624,
                  "Compliance_3": 10627,
                  "Compliance_4": 10623,
                  "Compliance_5": 10636,
                  "Compliance_6": 10645,
                  "BFF_15_1": 10503,
                  "BFF_15_2": 10514,
                  "BFF_15_3": 10516,
                  "BFF_15_4": 10511,
                  "BFF_15_5": 10508,
                  "BFF_15_6": 10512,
                  "BFF_15_7": 10509,
                  "BFF_15_8": 10496,
                  "BFF_15_9": 10507,
                  "BFF_15_10": 10507,
                  "BFF_15_11": 10510,
                  "BFF_15_12": 10511,
                  "BFF_15_13": 10511,
                  "BFF_15_14": 10517,
                  "BFF_15_15": 10518,
                  "SPS_1": 9474,
                  "SPS_2": 9461,
                  "SPS_3": 9471,
                  "SPS_4": 9477,
                  "SPS_5": 9474,
                  "SPS_6": 9472,
                  "SPS_7": 9480,
                  "SPS_8": 9467,
                  "SPS_9": 9449,
                  "SPS_10": 9485,
                  "Expl_Coping_1": 9439,
                  "Expl_Coping_2": 9386,
                  "Expl_Coping_3": 9464,
                  "Expl_Coping_4": 9268,
                  "Expl_Coping_5": 9382,
                  "Expl_Coping_6": 9460,
                  "Expl_Coping_7": 9399,
                  "Expl_Coping_8": 9371,
                  "Expl_Coping_9": 9459,
                  "Expl_Coping_10": 9376,
                  "Expl_Coping_11": 9424,
                  "Expl_Coping_12": 9421,
                  "Expl_Coping_13": 9415,
                  "Expl_Coping_14": 9467,
                  "Expl_Coping_15": 9360,
                  "Expl_Coping_16": 9451,
                  "Expl_media_1": 9383,
                  "Expl_media_2": 9377,
                  "Expl_media_3": 9375,
                  "Expl_media_4": 9390,
                  "Expl_media_5": 9377,
                  "Expl_media_6": 9373,
                  "_deepnote_index_column": "count"
                },
                {
                  "Corona_concerns_1": 0.5932193943897455,
                  "Corona_concerns_2": 0.7987711785514802,
                  "Corona_concerns_3": 0.7028230690394112,
                  "Corona_concerns_4": 0.7762414981831736,
                  "Corona_concerns_5": 0.7653957303999256,
                  "Compliance_1": 0.7966917293233082,
                  "Compliance_2": 0.8407003012048193,
                  "Compliance_3": 0.8662463536275525,
                  "Compliance_4": 0.30983714581568295,
                  "Compliance_5": 0.659044753666792,
                  "Compliance_6": 0.27894786284640677,
                  "BFF_15_1": 0.6324669142149862,
                  "BFF_15_2": 0.5450827468137721,
                  "BFF_15_3": 0.6505135032331685,
                  "BFF_15_4": 0.7406526496051755,
                  "BFF_15_5": 0.49468976018271793,
                  "BFF_15_6": 0.5619672754946727,
                  "BFF_15_7": 0.6584451422590161,
                  "BFF_15_8": 0.7447027439024391,
                  "BFF_15_9": 0.6500237936613685,
                  "BFF_15_10": 0.3341772151898734,
                  "BFF_15_11": 0.6669457659372027,
                  "BFF_15_12": 0.7197031681095994,
                  "BFF_15_13": 0.6111882789458661,
                  "BFF_15_14": 0.5164400494437577,
                  "BFF_15_15": 0.732344552196235,
                  "SPS_1": 0.8455351488283724,
                  "SPS_2": 0.7639150195539585,
                  "SPS_3": 0.6826523070425509,
                  "SPS_4": 0.7789806900918012,
                  "SPS_5": 0.8086974878615157,
                  "SPS_6": 0.7235853040540542,
                  "SPS_7": 0.8235654008438819,
                  "SPS_8": 0.8463293546001902,
                  "SPS_9": 0.6471372632024553,
                  "SPS_10": 0.8500579862941486,
                  "Expl_Coping_1": 0.44947558004025856,
                  "Expl_Coping_2": 0.5226294481142126,
                  "Expl_Coping_3": 0.7734150464919695,
                  "Expl_Coping_4": 0.3159905049633146,
                  "Expl_Coping_5": 0.5802813898955447,
                  "Expl_Coping_6": 0.6280972515856237,
                  "Expl_Coping_7": 0.539504202574742,
                  "Expl_Coping_8": 0.4594600362821471,
                  "Expl_Coping_9": 0.6710011629136271,
                  "Expl_Coping_10": 0.505268771331058,
                  "Expl_Coping_11": 0.36897283531409164,
                  "Expl_Coping_12": 0.5985988748540494,
                  "Expl_Coping_13": 0.5941157727031332,
                  "Expl_Coping_14": 0.7616562797084611,
                  "Expl_Coping_15": 0.09931623931623933,
                  "Expl_Coping_16": 0.5891440059252989,
                  "Expl_media_1": 0.5697111797932431,
                  "Expl_media_2": 0.5498986882798336,
                  "Expl_media_3": 0.46944,
                  "Expl_media_4": 0.46027689030883917,
                  "Expl_media_5": 0.5459315346059507,
                  "Expl_media_6": 0.36229595647071383,
                  "_deepnote_index_column": "mean"
                },
                {
                  "Corona_concerns_1": 0.3070475824835724,
                  "Corona_concerns_2": 0.21866702241921582,
                  "Corona_concerns_3": 0.2517557543344083,
                  "Corona_concerns_4": 0.2327423215980103,
                  "Corona_concerns_5": 0.24112725804151286,
                  "Compliance_1": 0.2093328484926547,
                  "Compliance_2": 0.1775504536310286,
                  "Compliance_3": 0.16956520583357024,
                  "Compliance_4": 0.2991486725472602,
                  "Compliance_5": 0.24768602725154196,
                  "Compliance_6": 0.2597031332222916,
                  "BFF_15_1": 0.2736593299976312,
                  "BFF_15_2": 0.29816822069946897,
                  "BFF_15_3": 0.2505281586128967,
                  "BFF_15_4": 0.23136938203707044,
                  "BFF_15_5": 0.29596822678236817,
                  "BFF_15_6": 0.3030863529365643,
                  "BFF_15_7": 0.22881145412808476,
                  "BFF_15_8": 0.24094175095272585,
                  "BFF_15_9": 0.27611765061631893,
                  "BFF_15_10": 0.2663423026129648,
                  "BFF_15_11": 0.2337612050541136,
                  "BFF_15_12": 0.210293952638034,
                  "BFF_15_13": 0.2616721931529111,
                  "BFF_15_14": 0.28851601450990144,
                  "BFF_15_15": 0.2017552490080851,
                  "SPS_1": 0.19142278620305622,
                  "SPS_2": 0.2259769927099217,
                  "SPS_3": 0.26676911896799843,
                  "SPS_4": 0.24236177721301358,
                  "SPS_5": 0.238118554958622,
                  "SPS_6": 0.22706973246420276,
                  "SPS_7": 0.21840020268707716,
                  "SPS_8": 0.22704337649465736,
                  "SPS_9": 0.24415371275904205,
                  "SPS_10": 0.18857958371882408,
                  "Expl_Coping_1": 0.2848834918951161,
                  "Expl_Coping_2": 0.3513174087730878,
                  "Expl_Coping_3": 0.23546654067665077,
                  "Expl_Coping_4": 0.3107078297574493,
                  "Expl_Coping_5": 0.3120560263114015,
                  "Expl_Coping_6": 0.28652873427444603,
                  "Expl_Coping_7": 0.3820680068554861,
                  "Expl_Coping_8": 0.38693564857073404,
                  "Expl_Coping_9": 0.27860852991262264,
                  "Expl_Coping_10": 0.2775857292578268,
                  "Expl_Coping_11": 0.28104496739293316,
                  "Expl_Coping_12": 0.2764925727701115,
                  "Expl_Coping_13": 0.2961178626700577,
                  "Expl_Coping_14": 0.22186645345958533,
                  "Expl_Coping_15": 0.22290940259753034,
                  "Expl_Coping_16": 0.2678320122265569,
                  "Expl_media_1": 0.29572234822036814,
                  "Expl_media_2": 0.30778133786213524,
                  "Expl_media_3": 0.3123710845678217,
                  "Expl_media_4": 0.2935968197446829,
                  "Expl_media_5": 0.3191932169263393,
                  "Expl_media_6": 0.27313863735715405,
                  "_deepnote_index_column": "std"
                },
                {
                  "Corona_concerns_1": 0,
                  "Corona_concerns_2": 0,
                  "Corona_concerns_3": 0,
                  "Corona_concerns_4": 0,
                  "Corona_concerns_5": 0,
                  "Compliance_1": 0,
                  "Compliance_2": 0,
                  "Compliance_3": 0,
                  "Compliance_4": 0,
                  "Compliance_5": 0,
                  "Compliance_6": 0,
                  "BFF_15_1": 0,
                  "BFF_15_2": 0,
                  "BFF_15_3": 0,
                  "BFF_15_4": 0,
                  "BFF_15_5": 0,
                  "BFF_15_6": 0,
                  "BFF_15_7": 0,
                  "BFF_15_8": 0,
                  "BFF_15_9": 0,
                  "BFF_15_10": 0,
                  "BFF_15_11": 0,
                  "BFF_15_12": 0,
                  "BFF_15_13": 0,
                  "BFF_15_14": 0,
                  "BFF_15_15": 0,
                  "SPS_1": 0,
                  "SPS_2": 0,
                  "SPS_3": 0,
                  "SPS_4": 0,
                  "SPS_5": 0,
                  "SPS_6": 0,
                  "SPS_7": 0,
                  "SPS_8": 0,
                  "SPS_9": 0,
                  "SPS_10": 0,
                  "Expl_Coping_1": 0,
                  "Expl_Coping_2": 0,
                  "Expl_Coping_3": 0,
                  "Expl_Coping_4": 0,
                  "Expl_Coping_5": 0,
                  "Expl_Coping_6": 0,
                  "Expl_Coping_7": 0,
                  "Expl_Coping_8": 0,
                  "Expl_Coping_9": 0,
                  "Expl_Coping_10": 0,
                  "Expl_Coping_11": 0,
                  "Expl_Coping_12": 0,
                  "Expl_Coping_13": 0,
                  "Expl_Coping_14": 0,
                  "Expl_Coping_15": 0,
                  "Expl_Coping_16": 0,
                  "Expl_media_1": 0,
                  "Expl_media_2": 0,
                  "Expl_media_3": 0,
                  "Expl_media_4": 0,
                  "Expl_media_5": 0,
                  "Expl_media_6": 0,
                  "_deepnote_index_column": "min"
                },
                {
                  "Corona_concerns_1": 0.4,
                  "Corona_concerns_2": 0.8,
                  "Corona_concerns_3": 0.6,
                  "Corona_concerns_4": 0.6,
                  "Corona_concerns_5": 0.6,
                  "Compliance_1": 0.8,
                  "Compliance_2": 0.8,
                  "Compliance_3": 0.8,
                  "Compliance_4": 0,
                  "Compliance_5": 0.6,
                  "Compliance_6": 0,
                  "BFF_15_1": 0.4,
                  "BFF_15_2": 0.2,
                  "BFF_15_3": 0.6,
                  "BFF_15_4": 0.6,
                  "BFF_15_5": 0.2,
                  "BFF_15_6": 0.2,
                  "BFF_15_7": 0.6,
                  "BFF_15_8": 0.6,
                  "BFF_15_9": 0.4,
                  "BFF_15_10": 0.2,
                  "BFF_15_11": 0.6,
                  "BFF_15_12": 0.6,
                  "BFF_15_13": 0.4,
                  "BFF_15_14": 0.2,
                  "BFF_15_15": 0.6,
                  "SPS_1": 0.8,
                  "SPS_2": 0.6,
                  "SPS_3": 0.6,
                  "SPS_4": 0.6,
                  "SPS_5": 0.8,
                  "SPS_6": 0.6,
                  "SPS_7": 0.8,
                  "SPS_8": 0.8,
                  "SPS_9": 0.6,
                  "SPS_10": 0.8,
                  "Expl_Coping_1": 0.2,
                  "Expl_Coping_2": 0.2,
                  "Expl_Coping_3": 0.6,
                  "Expl_Coping_4": 0,
                  "Expl_Coping_5": 0.4,
                  "Expl_Coping_6": 0.4,
                  "Expl_Coping_7": 0.2,
                  "Expl_Coping_8": 0,
                  "Expl_Coping_9": 0.6,
                  "Expl_Coping_10": 0.2,
                  "Expl_Coping_11": 0.2,
                  "Expl_Coping_12": 0.4,
                  "Expl_Coping_13": 0.4,
                  "Expl_Coping_14": 0.6,
                  "Expl_Coping_15": 0,
                  "Expl_Coping_16": 0.4,
                  "Expl_media_1": 0.4,
                  "Expl_media_2": 0.2,
                  "Expl_media_3": 0.2,
                  "Expl_media_4": 0.2,
                  "Expl_media_5": 0.2,
                  "Expl_media_6": 0.2,
                  "_deepnote_index_column": "25%"
                },
                {
                  "Corona_concerns_1": 0.6,
                  "Corona_concerns_2": 0.8,
                  "Corona_concerns_3": 0.8,
                  "Corona_concerns_4": 0.8,
                  "Corona_concerns_5": 0.8,
                  "Compliance_1": 0.8,
                  "Compliance_2": 0.8,
                  "Compliance_3": 0.8,
                  "Compliance_4": 0.2,
                  "Compliance_5": 0.8,
                  "Compliance_6": 0.2,
                  "BFF_15_1": 0.6,
                  "BFF_15_2": 0.6,
                  "BFF_15_3": 0.6,
                  "BFF_15_4": 0.8,
                  "BFF_15_5": 0.6,
                  "BFF_15_6": 0.6,
                  "BFF_15_7": 0.6,
                  "BFF_15_8": 0.8,
                  "BFF_15_9": 0.6,
                  "BFF_15_10": 0.2,
                  "BFF_15_11": 0.8,
                  "BFF_15_12": 0.8,
                  "BFF_15_13": 0.6,
                  "BFF_15_14": 0.6,
                  "BFF_15_15": 0.8,
                  "SPS_1": 0.8,
                  "SPS_2": 0.8,
                  "SPS_3": 0.8,
                  "SPS_4": 0.8,
                  "SPS_5": 0.8,
                  "SPS_6": 0.8,
                  "SPS_7": 0.8,
                  "SPS_8": 1,
                  "SPS_9": 0.6,
                  "SPS_10": 0.8,
                  "Expl_Coping_1": 0.4,
                  "Expl_Coping_2": 0.6,
                  "Expl_Coping_3": 0.8,
                  "Expl_Coping_4": 0.2,
                  "Expl_Coping_5": 0.6,
                  "Expl_Coping_6": 0.6,
                  "Expl_Coping_7": 0.6,
                  "Expl_Coping_8": 0.6,
                  "Expl_Coping_9": 0.8,
                  "Expl_Coping_10": 0.6,
                  "Expl_Coping_11": 0.4,
                  "Expl_Coping_12": 0.6,
                  "Expl_Coping_13": 0.6,
                  "Expl_Coping_14": 0.8,
                  "Expl_Coping_15": 0,
                  "Expl_Coping_16": 0.6,
                  "Expl_media_1": 0.6,
                  "Expl_media_2": 0.6,
                  "Expl_media_3": 0.6,
                  "Expl_media_4": 0.4,
                  "Expl_media_5": 0.6,
                  "Expl_media_6": 0.4,
                  "_deepnote_index_column": "50%"
                },
                {
                  "Corona_concerns_1": 0.8,
                  "Corona_concerns_2": 1,
                  "Corona_concerns_3": 0.8,
                  "Corona_concerns_4": 1,
                  "Corona_concerns_5": 1,
                  "Compliance_1": 1,
                  "Compliance_2": 1,
                  "Compliance_3": 1,
                  "Compliance_4": 0.6,
                  "Compliance_5": 0.8,
                  "Compliance_6": 0.6,
                  "BFF_15_1": 0.8,
                  "BFF_15_2": 0.8,
                  "BFF_15_3": 0.8,
                  "BFF_15_4": 1,
                  "BFF_15_5": 0.8,
                  "BFF_15_6": 0.8,
                  "BFF_15_7": 0.8,
                  "BFF_15_8": 1,
                  "BFF_15_9": 0.8,
                  "BFF_15_10": 0.6,
                  "BFF_15_11": 0.8,
                  "BFF_15_12": 0.8,
                  "BFF_15_13": 0.8,
                  "BFF_15_14": 0.8,
                  "BFF_15_15": 0.8,
                  "SPS_1": 1,
                  "SPS_2": 1,
                  "SPS_3": 0.8,
                  "SPS_4": 1,
                  "SPS_5": 1,
                  "SPS_6": 0.8,
                  "SPS_7": 1,
                  "SPS_8": 1,
                  "SPS_9": 0.8,
                  "SPS_10": 1,
                  "Expl_Coping_1": 0.6,
                  "Expl_Coping_2": 0.8,
                  "Expl_Coping_3": 1,
                  "Expl_Coping_4": 0.6,
                  "Expl_Coping_5": 0.8,
                  "Expl_Coping_6": 0.8,
                  "Expl_Coping_7": 0.8,
                  "Expl_Coping_8": 0.8,
                  "Expl_Coping_9": 0.8,
                  "Expl_Coping_10": 0.8,
                  "Expl_Coping_11": 0.6,
                  "Expl_Coping_12": 0.8,
                  "Expl_Coping_13": 0.8,
                  "Expl_Coping_14": 1,
                  "Expl_Coping_15": 0,
                  "Expl_Coping_16": 0.8,
                  "Expl_media_1": 0.8,
                  "Expl_media_2": 0.8,
                  "Expl_media_3": 0.8,
                  "Expl_media_4": 0.6,
                  "Expl_media_5": 0.8,
                  "Expl_media_6": 0.6,
                  "_deepnote_index_column": "75%"
                },
                {
                  "Corona_concerns_1": 1,
                  "Corona_concerns_2": 1,
                  "Corona_concerns_3": 1,
                  "Corona_concerns_4": 1,
                  "Corona_concerns_5": 1,
                  "Compliance_1": 1,
                  "Compliance_2": 1,
                  "Compliance_3": 1,
                  "Compliance_4": 1,
                  "Compliance_5": 1,
                  "Compliance_6": 1,
                  "BFF_15_1": 1,
                  "BFF_15_2": 1,
                  "BFF_15_3": 1,
                  "BFF_15_4": 1,
                  "BFF_15_5": 1,
                  "BFF_15_6": 1,
                  "BFF_15_7": 1,
                  "BFF_15_8": 1,
                  "BFF_15_9": 1,
                  "BFF_15_10": 1,
                  "BFF_15_11": 1,
                  "BFF_15_12": 1,
                  "BFF_15_13": 1,
                  "BFF_15_14": 1,
                  "BFF_15_15": 1,
                  "SPS_1": 1,
                  "SPS_2": 1,
                  "SPS_3": 1,
                  "SPS_4": 1,
                  "SPS_5": 1,
                  "SPS_6": 1,
                  "SPS_7": 1,
                  "SPS_8": 1,
                  "SPS_9": 1,
                  "SPS_10": 1,
                  "Expl_Coping_1": 1,
                  "Expl_Coping_2": 1,
                  "Expl_Coping_3": 1,
                  "Expl_Coping_4": 1,
                  "Expl_Coping_5": 1,
                  "Expl_Coping_6": 1,
                  "Expl_Coping_7": 1,
                  "Expl_Coping_8": 1,
                  "Expl_Coping_9": 1,
                  "Expl_Coping_10": 1,
                  "Expl_Coping_11": 1,
                  "Expl_Coping_12": 1,
                  "Expl_Coping_13": 1,
                  "Expl_Coping_14": 1,
                  "Expl_Coping_15": 1,
                  "Expl_Coping_16": 1,
                  "Expl_media_1": 1,
                  "Expl_media_2": 1,
                  "Expl_media_3": 1,
                  "Expl_media_4": 1,
                  "Expl_media_5": 1,
                  "Expl_media_6": 1,
                  "_deepnote_index_column": "max"
                }
              ],
              "rows_bottom": null
            },
            "text/plain": "       Corona_concerns_1  Corona_concerns_2  Corona_concerns_3  \\\ncount       10766.000000       10742.000000       10733.000000   \nmean            0.593219           0.798771           0.702823   \nstd             0.307048           0.218667           0.251756   \nmin             0.000000           0.000000           0.000000   \n25%             0.400000           0.800000           0.600000   \n50%             0.600000           0.800000           0.800000   \n75%             0.800000           1.000000           0.800000   \nmax             1.000000           1.000000           1.000000   \n\n       Corona_concerns_4  Corona_concerns_5  Compliance_1  Compliance_2  \\\ncount       10733.000000       10727.000000  10640.000000   10624.00000   \nmean            0.776241           0.765396      0.796692       0.84070   \nstd             0.232742           0.241127      0.209333       0.17755   \nmin             0.000000           0.000000      0.000000       0.00000   \n25%             0.600000           0.600000      0.800000       0.80000   \n50%             0.800000           0.800000      0.800000       0.80000   \n75%             1.000000           1.000000      1.000000       1.00000   \nmax             1.000000           1.000000      1.000000       1.00000   \n\n       Compliance_3  Compliance_4  Compliance_5  ...  Expl_Coping_13  \\\ncount  10627.000000  10623.000000  10636.000000  ...     9415.000000   \nmean       0.866246      0.309837      0.659045  ...        0.594116   \nstd        0.169565      0.299149      0.247686  ...        0.296118   \nmin        0.000000      0.000000      0.000000  ...        0.000000   \n25%        0.800000      0.000000      0.600000  ...        0.400000   \n50%        0.800000      0.200000      0.800000  ...        0.600000   \n75%        1.000000      0.600000      0.800000  ...        0.800000   \nmax        1.000000      1.000000      1.000000  ...        1.000000   \n\n       Expl_Coping_14  Expl_Coping_15  Expl_Coping_16  Expl_media_1  \\\ncount     9467.000000     9360.000000     9451.000000   9383.000000   \nmean         0.761656        0.099316        0.589144      0.569711   \nstd          0.221866        0.222909        0.267832      0.295722   \nmin          0.000000        0.000000        0.000000      0.000000   \n25%          0.600000        0.000000        0.400000      0.400000   \n50%          0.800000        0.000000        0.600000      0.600000   \n75%          1.000000        0.000000        0.800000      0.800000   \nmax          1.000000        1.000000        1.000000      1.000000   \n\n       Expl_media_2  Expl_media_3  Expl_media_4  Expl_media_5  Expl_media_6  \ncount   9377.000000   9375.000000   9390.000000   9377.000000   9373.000000  \nmean       0.549899      0.469440      0.460277      0.545932      0.362296  \nstd        0.307781      0.312371      0.293597      0.319193      0.273139  \nmin        0.000000      0.000000      0.000000      0.000000      0.000000  \n25%        0.200000      0.200000      0.200000      0.200000      0.200000  \n50%        0.600000      0.600000      0.400000      0.600000      0.400000  \n75%        0.800000      0.800000      0.600000      0.800000      0.600000  \nmax        1.000000      1.000000      1.000000      1.000000      1.000000  \n\n[8 rows x 58 columns]",
            "text/html": "<div>\n<style scoped>\n    .dataframe tbody tr th:only-of-type {\n        vertical-align: middle;\n    }\n\n    .dataframe tbody tr th {\n        vertical-align: top;\n    }\n\n    .dataframe thead th {\n        text-align: right;\n    }\n</style>\n<table border=\"1\" class=\"dataframe\">\n  <thead>\n    <tr style=\"text-align: right;\">\n      <th></th>\n      <th>Corona_concerns_1</th>\n      <th>Corona_concerns_2</th>\n      <th>Corona_concerns_3</th>\n      <th>Corona_concerns_4</th>\n      <th>Corona_concerns_5</th>\n      <th>Compliance_1</th>\n      <th>Compliance_2</th>\n      <th>Compliance_3</th>\n      <th>Compliance_4</th>\n      <th>Compliance_5</th>\n      <th>...</th>\n      <th>Expl_Coping_13</th>\n      <th>Expl_Coping_14</th>\n      <th>Expl_Coping_15</th>\n      <th>Expl_Coping_16</th>\n      <th>Expl_media_1</th>\n      <th>Expl_media_2</th>\n      <th>Expl_media_3</th>\n      <th>Expl_media_4</th>\n      <th>Expl_media_5</th>\n      <th>Expl_media_6</th>\n    </tr>\n  </thead>\n  <tbody>\n    <tr>\n      <th>count</th>\n      <td>10766.000000</td>\n      <td>10742.000000</td>\n      <td>10733.000000</td>\n      <td>10733.000000</td>\n      <td>10727.000000</td>\n      <td>10640.000000</td>\n      <td>10624.00000</td>\n      <td>10627.000000</td>\n      <td>10623.000000</td>\n      <td>10636.000000</td>\n      <td>...</td>\n      <td>9415.000000</td>\n      <td>9467.000000</td>\n      <td>9360.000000</td>\n      <td>9451.000000</td>\n      <td>9383.000000</td>\n      <td>9377.000000</td>\n      <td>9375.000000</td>\n      <td>9390.000000</td>\n      <td>9377.000000</td>\n      <td>9373.000000</td>\n    </tr>\n    <tr>\n      <th>mean</th>\n      <td>0.593219</td>\n      <td>0.798771</td>\n      <td>0.702823</td>\n      <td>0.776241</td>\n      <td>0.765396</td>\n      <td>0.796692</td>\n      <td>0.84070</td>\n      <td>0.866246</td>\n      <td>0.309837</td>\n      <td>0.659045</td>\n      <td>...</td>\n      <td>0.594116</td>\n      <td>0.761656</td>\n      <td>0.099316</td>\n      <td>0.589144</td>\n      <td>0.569711</td>\n      <td>0.549899</td>\n      <td>0.469440</td>\n      <td>0.460277</td>\n      <td>0.545932</td>\n      <td>0.362296</td>\n    </tr>\n    <tr>\n      <th>std</th>\n      <td>0.307048</td>\n      <td>0.218667</td>\n      <td>0.251756</td>\n      <td>0.232742</td>\n      <td>0.241127</td>\n      <td>0.209333</td>\n      <td>0.17755</td>\n      <td>0.169565</td>\n      <td>0.299149</td>\n      <td>0.247686</td>\n      <td>...</td>\n      <td>0.296118</td>\n      <td>0.221866</td>\n      <td>0.222909</td>\n      <td>0.267832</td>\n      <td>0.295722</td>\n      <td>0.307781</td>\n      <td>0.312371</td>\n      <td>0.293597</td>\n      <td>0.319193</td>\n      <td>0.273139</td>\n    </tr>\n    <tr>\n      <th>min</th>\n      <td>0.000000</td>\n      <td>0.000000</td>\n      <td>0.000000</td>\n      <td>0.000000</td>\n      <td>0.000000</td>\n      <td>0.000000</td>\n      <td>0.00000</td>\n      <td>0.000000</td>\n      <td>0.000000</td>\n      <td>0.000000</td>\n      <td>...</td>\n      <td>0.000000</td>\n      <td>0.000000</td>\n      <td>0.000000</td>\n      <td>0.000000</td>\n      <td>0.000000</td>\n      <td>0.000000</td>\n      <td>0.000000</td>\n      <td>0.000000</td>\n      <td>0.000000</td>\n      <td>0.000000</td>\n    </tr>\n    <tr>\n      <th>25%</th>\n      <td>0.400000</td>\n      <td>0.800000</td>\n      <td>0.600000</td>\n      <td>0.600000</td>\n      <td>0.600000</td>\n      <td>0.800000</td>\n      <td>0.80000</td>\n      <td>0.800000</td>\n      <td>0.000000</td>\n      <td>0.600000</td>\n      <td>...</td>\n      <td>0.400000</td>\n      <td>0.600000</td>\n      <td>0.000000</td>\n      <td>0.400000</td>\n      <td>0.400000</td>\n      <td>0.200000</td>\n      <td>0.200000</td>\n      <td>0.200000</td>\n      <td>0.200000</td>\n      <td>0.200000</td>\n    </tr>\n    <tr>\n      <th>50%</th>\n      <td>0.600000</td>\n      <td>0.800000</td>\n      <td>0.800000</td>\n      <td>0.800000</td>\n      <td>0.800000</td>\n      <td>0.800000</td>\n      <td>0.80000</td>\n      <td>0.800000</td>\n      <td>0.200000</td>\n      <td>0.800000</td>\n      <td>...</td>\n      <td>0.600000</td>\n      <td>0.800000</td>\n      <td>0.000000</td>\n      <td>0.600000</td>\n      <td>0.600000</td>\n      <td>0.600000</td>\n      <td>0.600000</td>\n      <td>0.400000</td>\n      <td>0.600000</td>\n      <td>0.400000</td>\n    </tr>\n    <tr>\n      <th>75%</th>\n      <td>0.800000</td>\n      <td>1.000000</td>\n      <td>0.800000</td>\n      <td>1.000000</td>\n      <td>1.000000</td>\n      <td>1.000000</td>\n      <td>1.00000</td>\n      <td>1.000000</td>\n      <td>0.600000</td>\n      <td>0.800000</td>\n      <td>...</td>\n      <td>0.800000</td>\n      <td>1.000000</td>\n      <td>0.000000</td>\n      <td>0.800000</td>\n      <td>0.800000</td>\n      <td>0.800000</td>\n      <td>0.800000</td>\n      <td>0.600000</td>\n      <td>0.800000</td>\n      <td>0.600000</td>\n    </tr>\n    <tr>\n      <th>max</th>\n      <td>1.000000</td>\n      <td>1.000000</td>\n      <td>1.000000</td>\n      <td>1.000000</td>\n      <td>1.000000</td>\n      <td>1.000000</td>\n      <td>1.00000</td>\n      <td>1.000000</td>\n      <td>1.000000</td>\n      <td>1.000000</td>\n      <td>...</td>\n      <td>1.000000</td>\n      <td>1.000000</td>\n      <td>1.000000</td>\n      <td>1.000000</td>\n      <td>1.000000</td>\n      <td>1.000000</td>\n      <td>1.000000</td>\n      <td>1.000000</td>\n      <td>1.000000</td>\n      <td>1.000000</td>\n    </tr>\n  </tbody>\n</table>\n<p>8 rows × 58 columns</p>\n</div>"
          },
          "metadata": {}
        }
      ]
    },
    {
      "cell_type": "markdown",
      "source": "Drop columns with 25% of null or more",
      "metadata": {
        "tags": [],
        "cell_id": "00008-7d63b4e7-8284-4d2a-b874-6a957ed735a1",
        "deepnote_cell_type": "markdown"
      }
    },
    {
      "cell_type": "code",
      "metadata": {
        "tags": [],
        "cell_id": "00008-81d19cbf-f3b6-4b1a-9638-f0964d89f6ce",
        "deepnote_to_be_reexecuted": false,
        "source_hash": "ec82d0b2",
        "execution_millis": 37,
        "execution_start": 1619255338820,
        "deepnote_cell_type": "code"
      },
      "source": "to_remove = null_by_column.where((null_by_column/df_global_fr.shape[0])>0.25).dropna()\nprint(to_remove.index.values)\ndf_global_fr.drop(columns=to_remove.index, inplace=True)",
      "execution_count": 14,
      "outputs": [
        {
          "name": "stdout",
          "text": "['AD_gain' 'AD_loss' 'born_92' 'experience_war' 'experience_war_TXT'\n 'war_injury' 'loss_during_war' 'time_spent_in_war'\n 'time_spent_in_war_TXT' 'Scale_UCLA_TRI_1' 'Scale_UCLA_TRI_2'\n 'Scale_UCLA_TRI_3' 'Scale_UCLA_TRI_4' 'PS_PTSD_1' 'PS_PTSD_2' 'PS_PTSD_3'\n 'PS_PTSD_4' 'PS_PTSD_5' 'Expl_Distress_txt' 'Expl_coping_txt'\n 'Final_open' 'Scale_UCLA_TRI_avg']\n",
          "output_type": "stream"
        }
      ]
    },
    {
      "cell_type": "markdown",
      "source": "Drop line with more than 25% of null",
      "metadata": {
        "tags": [],
        "cell_id": "00011-c0bf9d85-4eb8-4583-8211-df0748c2c620",
        "deepnote_cell_type": "markdown"
      }
    },
    {
      "cell_type": "code",
      "metadata": {
        "tags": [],
        "cell_id": "00012-348ef1cd-f73d-4684-ab99-bc90f662b7ae",
        "deepnote_to_be_reexecuted": false,
        "source_hash": "e9725b50",
        "execution_millis": 113,
        "execution_start": 1619255338854,
        "deepnote_cell_type": "code"
      },
      "source": "null_by_line = df_global_fr.isnull().sum(axis=1)\nto_remove = null_by_line.where((null_by_line/df_global_fr.shape[1])>0.25).dropna()\nprint(len(to_remove.index), \"lines to remove\")\ndf_global_fr.drop(index=to_remove.index, inplace=True)",
      "execution_count": 15,
      "outputs": [
        {
          "name": "stdout",
          "text": "2467 lines to remove\n",
          "output_type": "stream"
        }
      ]
    },
    {
      "cell_type": "markdown",
      "source": "region mapping",
      "metadata": {
        "tags": [],
        "cell_id": "00023-45ebcbe0-9c3e-48d2-8d58-fe7c85198d0d",
        "deepnote_cell_type": "markdown"
      }
    },
    {
      "cell_type": "code",
      "metadata": {
        "tags": [],
        "cell_id": "00023-af00782f-e1f9-4be0-b08b-aaf89fdb13f1",
        "deepnote_to_be_reexecuted": false,
        "source_hash": "9efe886",
        "execution_millis": 3034,
        "execution_start": 1619255338972,
        "deepnote_cell_type": "code"
      },
      "source": "# Ne faîtes pas ça chez vous !!!!\n['Île-de-France', 'Centre-Val de Loire', 'Bourgogne-Franche-Comté',\n       'Normandie', 'Hauts-de-France', 'Grand-Est', 'Pays de la Loire',\n       'Bretagne', 'Nouvelle-Aquitaine', 'Occitanie',\n       'Auvergne-Rhône-Alpes', \"Provence-Alpes-Côte d'Azur\"]\n\n\ndef remove_accents(s):\n    return unidecode.unidecode(s)\n\ndef format(x, min_lev_d=5):\n\n    if x is None or x is np.nan:\n        return None\n\n    def prepross(x):\n        x = re.sub(r\"[\\*\\-\\_/\\(\\)\\.\\']\", \" \", x)\n        x = re.sub(r\"\\s+\", \" \", x)\n        x = remove_accents(x)\n        x = x.lower()\n        return x\n\n    def sub_leven(x, word, min_lev_d):\n        return any(levenshtein.distance(xs, word)<=min_lev_d for xs in x.split(\" \"))\n        \n    x = prepross(x)\n\n    region =['Île-de-France', 'Centre-Val de Loire', 'Bourgogne-Franche-Comté',\n       'Normandie', 'Hauts-de-France', 'Grand-Est', 'Pays de la Loire',\n       'Bretagne', 'Nouvelle-Aquitaine', 'Occitanie',\n       'Auvergne-Rhône-Alpes', \"Provence-Alpes-Côte d'Azur\"]\n    \n    minlev = min([(levenshtein.distance(x, prepross(r)), r) for r in region], key=lambda x: x[0])\n\n\n    if minlev[0] < min_lev_d:\n        return minlev[1]\n\n    if any(t in x for t in [\"28\", \"50\"]) or  sub_leven(x,\"centre\",3) or  sub_leven(x,\"indre\",1) or  sub_leven(x,\"eure\",1) or levenshtein.distance(x,\"loire et cher\")<2:\n        return \"Centre-Val de Loire\"\n    if \"76\" in x  or sub_leven(x,\"normandie\",1) or \"normandie\" in x:\n        return \"Normandie\"\n    if \"22\" in x or sub_leven(x,\"bretagne\",3) or sub_leven(x,\"vilaine\",2) or sub_leven(x,\"finister\",3):\n        return \"Bretagne\"\n    if sub_leven(x,\"nord\",1) or \"hauts de france\" in x or sub_leven(x,'picardie',2) or any(t in x for t in [\"78\", \"59\", \"62\"]):\n        return 'Hauts-de-France'\n    if sub_leven(x,\"paris\", 2) or \"paris\" in x or \"le de france\" in x  or sub_leven(x,\"seine\", 1)  or \"marne\" in x or any(t in x for t in [\"77\", \"91\", \"92\", \"94\", \"95\", \"974\"]):\n        return 'Île-de-France'\n    if sub_leven(x,\"auvergne\", 3) or any(t in x for t in [\"01\", \"69\", \"63\", \"42\", \"74\"]) or sub_leven(x,\"rhones\",2):\n        return 'Auvergne-Rhône-Alpes'\n    if sub_leven(x,\"bourgogne\",3) or \"franche\" in x or \"21000\" in x or \"25\" in x:\n        return 'Bourgogne-Franche-Comté'\n        #levenshtein.distance(x, \"charente\")<min_lev_d \n        # \"charente\" in x\n    if sub_leven(x,\"aquitaine\",2) or sub_leven(x,\"charente\",2) or sub_leven(x,\"deux\",1) or \"vienne\" in x or any(t in x for t in [\"17\", \"33\", \"86\", \"75\"]):\n        return 'Nouvelle-Aquitaine'\n    if sub_leven(x, \"reunion\", 2):\n        return \"La Réunion\"\n    if sub_leven(x, \"corse\", 2):\n        return \"Corse\"\n    if '44' in x or '49' in x or sub_leven(x,\"pays de la loire\", 3) or sub_leven(x,\"atlantique\", 3) or \"maine\" in x:\n        return 'Pays de la Loire'\n    if sub_leven(x,\"languedoc\",3) or sub_leven(x,\"midi\",1) or sub_leven(x,\"lozere\",1) or sub_leven(x,'occitanie',3) or sub_leven(x,'vaucluse',2) or sub_leven(x,'ariege',1) or sub_leven(x,'pyrnes',1) or\\\n        any(t in x for t in [\"66\", \"31\", \"34\", \"46\", \"47\", \"48\"]) or\\\n        \"garonne\" in x or \"rault\" in x:\n        return 'Occitanie'\n    if sub_leven(x,\"alsace\",3) or sub_leven(x,\"grand est\",3) or sub_leven(x,\"champagne\",2) or\\\n        \"grand est\" in x or \"gran est\" in x or x == \"est\" or\\\n        any(t in x for t in [\"51\", \"54\", \"57\", \"67\", \"68\"]):\n        return 'Grand-Est'\n    if \"06\" in x or \"13\" in x or sub_leven(x,\"paca\",1) or sub_leven(x,\"azur\",1) or sub_leven(x,\"maritime\",1) or 'provence' in x:\n        return \"Provence-Alpes-Côte d'Azur\"\n    if sub_leven(x,\"gualdeloupe\", 2):\n        return \"Guadeloupe\"\n    if sub_leven(x,\"caledonie\", 2):\n        return \"Nouvelle Calédonie\"\n    if sub_leven(x,\"guyane\", 2):\n        return \"La Guyane\"\n    if x == \" \":\n        return None\n    \n    dico =  {\n            'allier': \"Auvergne-Rhône-Alpes\",\n            'angers': 'Pays de la Loire',\n            'annecy': \"Auvergne-Rhône-Alpes\",\n            'antilles': 'Les Antilles',\n            'armorique': \"Bretagne\",\n            'ath': None,\n            'athe': None,\n            'aube': \"Grand-Est\",\n            'aude': \"Grand-Est\",\n            'banlieue parisienne': 'Île-de-France',\n            'bfc': 'Bourgogne-Franche-Comté' ,\n            'bordeaux': 'Nouvelle-Aquitaine' ,\n            'bourbonnais': \"Auvergne-Rhône-Alpes\",\n            'catholique': None,\n            'catholiques': None,\n            'cherbourg': \"Normandie\",\n            'vienne': 'Nouvelle-Aquitaine',\n            'doubs': \"Bourgogne-Franche-Comté\",\n            'drome': \"Auvergne-Rhône-Alpes\",\n            'essonne': \"Île-de-France\",\n            'etrchy': \"Île-de-France\",\n            'faulquemont': \"Grand-Est\",\n            'gap': \"Provence-Alpes-Côte d'Azur\",\n            'garoult': \"Provence-Alpes-Côte d'Azur\",\n            'gascogne': \"Nouvelle-Aquitaine\",\n            'grand ouest': None ,\n            'grenoble': \"Auvergne-Rhône-Alpes\",\n            'hdf': \"Hauts-de-France\" ,\n            'idf': 'Île-de-France' ,\n            'ile de f': 'Île-de-France',\n            'isere': \"Auvergne-Rhône-Alpes\",\n            'la rochelle': 'Nouvelle-Aquitaine',\n            'landes': \"Nouvelle-Aquitaine\",\n            'le de 6': 'Bretagne',\n            'les landes': \"Nouvelle-Aquitaine\",\n            'lille': \"Hauts-de-France\" ,\n            'limousin': 'Nouvelle-Aquitaine',\n            'loireatlantique': 'Pays de la Loire',\n            'marseille': \"Provence-Alpes-Côte d'Azur\",\n            'martinique': 'La Martinique',\n            'metz': \"Grand-Est\",\n            'montauban': 'Occitanie' ,\n            'montpellier': 'Occitanie' ,\n            'montreuil': \"Île-de-France\",\n            'morbihan': 'Bretagne' ,\n            'moselle': \"Grand-Est\",\n            'nancy': \"Grand-Est\",\n            'normandie': 'Normandie',\n            'var': \"Provence-Alpes-Côte d'Azur\",\n            'ouest': None,\n            'palaiseau': 'Île-de-France',\n            'parisienne': 'Île-de-France',\n            'perigord': 'Nouvelle-Aquitaine',\n            'poitiers': 'Nouvelle-Aquitaine',\n            'pologne': None,\n            'polynsie': 'La Polynésie française',\n            'puy de dme': \"Auvergne-Rhône-Alpes\",\n            'ara': \"Auvergne-Rhône-Alpes\",\n            'raa': \"Auvergne-Rhône-Alpes\",\n            'aura' : \"Auvergne-Rhône-Alpes\",\n            'rocheserviere': 'Pays de la Loire',\n            'sarthes': 'Pays de la Loire',\n            'savoie': \"Auvergne-Rhône-Alpes\",\n            'seinesaintdenis': 'Île-de-France',\n            'strasbourg': 'Grand-Est',\n            'toulouse': 'Occitanie',\n            'versailles': 'Île-de-France',\n            'villeurbanne': 'Auvergne-Rhône-Alpes' ,\n            'vosges': \"Grand-Est\",\n            'yvelines': 'Île-de-France',\n            'fr': None,\n            'gard' : 'Occitanie',\n            'jura' : 'Bourgogne-Franche-Comté',\n            'lot' : 'Occitanie',\n            'nivre':'Bourgogne-Franche-Comté',\n            'nmes' : 'Occitanie',\n            'pyrnes orientale' : 'Occitanie' ,\n            'pyrnes orientales' : 'Occitanie',\n            'ra' : 'Auvergne-Rhône-Alpes',\n            'sans' : None,\n            'sud' : 'Occitanie',\n            'sud ouest' : 'Nouvelle-Aquitaine',\n            'ain': 'Auvergne-Rhône-Alpes',\n            'ain gex': 'Auvergne-Rhône-Alpes',\n            'ardennes': \"Grand-Est\",\n            'aucine': None ,\n            'aucune': None,\n            'aveyron': 'Occitanie',\n            'bas rhin': \"Grand-Est\",\n            'cannes la bocca': \"Provence-Alpes-Côte d'Azur\",\n            'chelles': 'Île-de-France',\n            'chrtienne': None,\n            'clermont ferrand': 'Auvergne-Rhône-Alpes',\n            'drme': 'Auvergne-Rhône-Alpes',\n            'essone': 'Île-de-France' ,\n            'evian les bains': 'Auvergne-Rhône-Alpes',\n            'gers': 'Occitanie',\n            'gironde': 'Nouvelle-Aquitaine',\n            'haut doubs': 'Bourgogne-Franche-Comté',\n            'haut rhin': \"Grand-Est\",\n            'haute loire': 'Auvergne-Rhône-Alpes',\n            'haute saone': 'Bourgogne-Franche-Comté',\n            'haute savoie': 'Auvergne-Rhône-Alpes',\n            'hautes alpes': \"Provence-Alpes-Côte d'Azur\",\n            'hauts deseine': 'Île-de-France' ,\n            'isre': 'Auvergne-Rhône-Alpes',\n            'laudun': 'Occitanie',\n            'les pavillons sous bois': 'Île-de-France',\n            'loire': \"Centre-Val de Loire\",\n            'loiret': \"Centre-Val de Loire\",\n            'lorraine': \"Grand-Est\" ,\n            'lyon': 'Auvergne-Rhône-Alpes',\n            'mayenne': \"Pays de la Loire\",\n            'meurthe et moselle': \"Grand-Est\",\n            'nantes': 'Pays de la Loire',\n            'nice': \"Provence-Alpes-Côte d'Azur\",\n            'no': None,\n            'non':  None,\n            'non croyant': None,\n            'puy de dome': \"Auvergne-Rhône-Alpes\",\n            'rgion sud': 'Occitanie',\n            'roissy en brie': \"Île-de-France\",\n            'rouen': \"Île-de-France\",\n            'rueil malmaison': \"Île-de-France\",\n            'saint lieux les lavaur': \"Occitanie\",\n            'saint pierre et miquelon': \"Saint-Pierre et Miquelon\",\n            'saone et loire': \"Bourgogne-Franche-Comté\",\n            'sarthe': \"Pays de la Loire\",\n            'somme': \"Hauts-de-France\",\n            'somme 80 ': \"Hauts-de-France\",\n            'sone et loire': \"Bourgogne-Franche-Comté\",\n            'st fort sur le n': \"Nouvelle-Aquitaine\",\n            'tarn': \"Occitanie\",\n            'tours': \"Centre-Val de Loire\",\n            'val de loire': \"Centre-Val de Loire\",\n            'vertou': \"Loire-Atlantique\",\n            'voiron': \"Auvergne-Rhône-Alpes\",\n            'yonne': 'Bourgogne-Franche-Comté',\n            'sud est de la france' : \"Grand-Est\",\n            'ardche' : 'Auvergne-Rhône-Alpes',\n            'caen france': \"Normandie\",\n            'france': None,\n            'france aveyron' : 'Occitanie',\n            'france isre' : \"Auvergne-Rhône-Alpes\",\n            'loire, france' : \"Pays de la Loire\",\n            'manche' : \"Normandie\",\n            'rgion grans sud france':'Occitanie',\n            \"les antilles\": \"Les Antilles\",\n            \"la martinique\": \"La Martinique\",\n            \"la polynesie francaise\": \"La Polynesie francaise\",\n            'sud france':'Occitanie'}\n    return dico[x] if x in dico else x\n\ndf_global_fr['Dem_state'] = df_global_fr['Dem_state'].apply(lambda x: format(x))\nlen(sorted(list(df_global_fr['Dem_state'].value_counts().index))), sorted(list(df_global_fr['Dem_state'].value_counts().index))",
      "execution_count": 16,
      "outputs": [
        {
          "output_type": "execute_result",
          "execution_count": 16,
          "data": {
            "text/plain": "(22,\n ['Auvergne-Rhône-Alpes',\n  'Bourgogne-Franche-Comté',\n  'Bretagne',\n  'Centre-Val de Loire',\n  'Corse',\n  'Grand-Est',\n  'Guadeloupe',\n  'Hauts-de-France',\n  'La Guyane',\n  'La Martinique',\n  'La Polynésie française',\n  'La Réunion',\n  'Les Antilles',\n  'Loire-Atlantique',\n  'Normandie',\n  'Nouvelle Calédonie',\n  'Nouvelle-Aquitaine',\n  'Occitanie',\n  'Pays de la Loire',\n  \"Provence-Alpes-Côte d'Azur\",\n  'Saint-Pierre et Miquelon',\n  'Île-de-France'])"
          },
          "metadata": {}
        }
      ]
    },
    {
      "cell_type": "markdown",
      "source": "Infer remaining null value",
      "metadata": {
        "tags": [],
        "cell_id": "00013-7268f9d8-1477-4bed-9b23-43cff717df72",
        "deepnote_cell_type": "markdown"
      }
    },
    {
      "cell_type": "code",
      "metadata": {
        "tags": [],
        "cell_id": "00013-a4203f7e-07ae-435d-9607-7c3d782bc86b",
        "deepnote_to_be_reexecuted": false,
        "source_hash": "30bf8ab0",
        "execution_millis": 14524,
        "execution_start": 1619255342009,
        "deepnote_cell_type": "code"
      },
      "source": "for c in df_global_fr.columns:\n    bool_series = df_global_fr[c].isnull()\n    nan_value = df_global_fr[c][bool_series]\n    if nan_value.shape[0] > 0:\n        true_value = df_global_fr[c][~bool_series]\n        df_global_fr[c].loc[nan_value.index] = [true_value.sample(1).values[0] for i in range(nan_value.shape[0])]\ndf_global_fr.isnull().sum().sum()",
      "execution_count": 17,
      "outputs": [
        {
          "name": "stderr",
          "text": "/shared-libs/python3.7/py/lib/python3.7/site-packages/pandas/core/indexing.py:1637: SettingWithCopyWarning: \nA value is trying to be set on a copy of a slice from a DataFrame\n\nSee the caveats in the documentation: https://pandas.pydata.org/pandas-docs/stable/user_guide/indexing.html#returning-a-view-versus-a-copy\n  self._setitem_single_block(indexer, value, name)\n",
          "output_type": "stream"
        },
        {
          "output_type": "execute_result",
          "execution_count": 17,
          "data": {
            "text/plain": "0"
          },
          "metadata": {}
        }
      ]
    },
    {
      "cell_type": "code",
      "metadata": {
        "tags": [],
        "cell_id": "00029-88c63917-7550-49cd-bf58-4e5a8c02edc9",
        "deepnote_to_be_reexecuted": false,
        "source_hash": "e4ec9838",
        "execution_millis": 208,
        "execution_start": 1619255356538,
        "deepnote_cell_type": "code"
      },
      "source": "df_global_fr[\"OECD_institutions_avg\"] = df_global_fr[OECD_institutions].mean(axis=1)\ndf_global_fr[\"Scale_PSS10_UCLA_avg\"] = df_global_fr[scale_PSS10_UCLA].mean(axis=1)\ndf_global_fr[\"Scale_SLON_avg\"] = df_global_fr[scale_SLON].mean(axis=1)\ndf_global_fr[\"Corona_concerns_avg\"] = df_global_fr[corona_concerns].mean(axis=1)\ndf_global_fr[\"Compliance_avg\"] = df_global_fr[compliance].mean(axis=1)\ndf_global_fr[\"BFF_15_avg\"] = df_global_fr[BFF_15].mean(axis=1)\ndf_global_fr[\"expl_Distress15_avg\"] = df_global_fr[expl_Distress].mean(axis=1)\ndf_global_fr[\"SPS_avg\"] = df_global_fr[SPS].mean(axis=1)\ndf_global_fr[\"expl_Coping_avg\"] = df_global_fr[expl_Coping].mean(axis=1)\ndf_global_fr[\"expl_media_avg\"] = df_global_fr[expl_media].mean(axis=1)",
      "execution_count": 18,
      "outputs": []
    },
    {
      "cell_type": "code",
      "metadata": {
        "tags": [],
        "cell_id": "00027-88c89bf0-75ef-4625-828f-f376d16dbc94",
        "deepnote_to_be_reexecuted": false,
        "source_hash": "11ebbcd8",
        "execution_millis": 164,
        "execution_start": 1619255356747,
        "deepnote_cell_type": "code"
      },
      "source": "df_global_fr.shape, df_global_fr.isnull().sum().sum(), df_global_fr.isna().sum().sum()",
      "execution_count": 19,
      "outputs": [
        {
          "output_type": "execute_result",
          "execution_count": 19,
          "data": {
            "text/plain": "((9499, 130), 0, 0)"
          },
          "metadata": {}
        }
      ]
    },
    {
      "cell_type": "code",
      "source": "df_global_fr.RecordedDate =  pd.to_datetime(df_global_fr.RecordedDate)",
      "metadata": {
        "tags": [],
        "cell_id": "00032-7048947a-4ec2-439e-8948-09a46ceba8b3",
        "deepnote_to_be_reexecuted": false,
        "source_hash": "69b547b6",
        "execution_millis": 22,
        "execution_start": 1619255356846,
        "deepnote_cell_type": "code"
      },
      "outputs": [],
      "execution_count": 20
    },
    {
      "cell_type": "code",
      "metadata": {
        "tags": [],
        "cell_id": "00026-8aa0e212-fcff-42bb-99fc-9f6eb97d045c",
        "deepnote_to_be_reexecuted": false,
        "source_hash": "68221c28",
        "execution_millis": 1754,
        "execution_start": 1619255356870,
        "deepnote_cell_type": "code"
      },
      "source": "df_global_fr.to_csv(\"COVIDiSTRESS_cleaned.csv\")\ndf_explain.to_csv(\"COVIDiSTRESS_explained.csv\")",
      "execution_count": 21,
      "outputs": []
    },
    {
      "cell_type": "code",
      "source": "df_global_fr.columns",
      "metadata": {
        "tags": [],
        "cell_id": "00032-c23539b1-0064-46fa-8099-3822e8a90ad5",
        "deepnote_to_be_reexecuted": false,
        "source_hash": "31296354",
        "execution_start": 1619255383211,
        "execution_millis": 21,
        "deepnote_cell_type": "code"
      },
      "outputs": [
        {
          "output_type": "execute_result",
          "execution_count": 23,
          "data": {
            "text/plain": "Index(['RecordedDate', 'UserLanguage', 'Dem_age', 'Dem_gender', 'Dem_edu',\n       'Dem_edu_mom', 'Dem_employment', 'Country', 'Dem_Expat', 'Dem_state',\n       ...\n       'OECD_institutions_avg', 'Scale_PSS10_UCLA_avg', 'Scale_SLON_avg',\n       'Corona_concerns_avg', 'Compliance_avg', 'BFF_15_avg',\n       'expl_Distress15_avg', 'SPS_avg', 'expl_Coping_avg', 'expl_media_avg'],\n      dtype='object', length=130)"
          },
          "metadata": {}
        }
      ],
      "execution_count": 23
    },
    {
      "cell_type": "code",
      "source": "df_global_fr_final = df_global_fr[df_global_fr.Dem_state.isin(['Île-de-France', 'Centre-Val de Loire', 'Bourgogne-Franche-Comté',\n                                                               'Normandie', 'Hauts-de-France', 'Grand-Est', 'Pays de la Loire',\n                                                               'Bretagne', 'Nouvelle-Aquitaine', 'Occitanie',\n                                                               'Auvergne-Rhône-Alpes', \"Provence-Alpes-Côte d'Azur\"])]\ndf_global_fr_final_gr = df_global_fr_final.groupby(['Dem_state', pd.Grouper(key='RecordedDate', freq='W-MON')])[\"Scale_SLON_avg\", \"Scale_PSS10_UCLA_avg\"].mean()\ndf_global_fr_final_gr[\"support\"] = df_global_fr_final.groupby(['Dem_state', pd.Grouper(key='RecordedDate', freq='W-MON')])[\"Scale_SLON_avg\"].count()\ndf_global_fr_final_gr.rename(columns={\"Scale_SLON_avg\": \"loneliness_target_covidistress\",\n                                   \"Scale_PSS10_UCLA_avg\": \"stress_target_covidistress\"}, inplace=True)\ndf_global_fr_final_gr.index.rename([\"region\", \"date\"],\n                                    inplace=True)\ndf_global_fr_final_gr",
      "metadata": {
        "tags": [],
        "cell_id": "00032-0e0be719-c6eb-4659-bd41-a4a93648435a",
        "deepnote_to_be_reexecuted": false,
        "source_hash": "e1bbcaf3",
        "execution_millis": 146,
        "execution_start": 1619257047037,
        "deepnote_cell_type": "code"
      },
      "outputs": [
        {
          "name": "stderr",
          "text": "/shared-libs/python3.7/py-core/lib/python3.7/site-packages/ipykernel_launcher.py:5: FutureWarning: Indexing with multiple keys (implicitly converted to a tuple of keys) will be deprecated, use a list instead.\n  \"\"\"\n",
          "output_type": "stream"
        },
        {
          "output_type": "execute_result",
          "execution_count": 53,
          "data": {
            "application/vnd.deepnote.dataframe.v2+json": {
              "row_count": 89,
              "column_count": 3,
              "columns": [
                {
                  "name": "loneliness_target_covidistress",
                  "dtype": "float64",
                  "stats": {
                    "unique_count": 72,
                    "nan_count": 0,
                    "min": "0.0",
                    "max": "1.0",
                    "histogram": [
                      {
                        "bin_start": 0,
                        "bin_end": 0.1,
                        "count": 3
                      },
                      {
                        "bin_start": 0.1,
                        "bin_end": 0.2,
                        "count": 5
                      },
                      {
                        "bin_start": 0.2,
                        "bin_end": 0.30000000000000004,
                        "count": 9
                      },
                      {
                        "bin_start": 0.30000000000000004,
                        "bin_end": 0.4,
                        "count": 50
                      },
                      {
                        "bin_start": 0.4,
                        "bin_end": 0.5,
                        "count": 8
                      },
                      {
                        "bin_start": 0.5,
                        "bin_end": 0.6000000000000001,
                        "count": 8
                      },
                      {
                        "bin_start": 0.6000000000000001,
                        "bin_end": 0.7000000000000001,
                        "count": 3
                      },
                      {
                        "bin_start": 0.7000000000000001,
                        "bin_end": 0.8,
                        "count": 0
                      },
                      {
                        "bin_start": 0.8,
                        "bin_end": 0.9,
                        "count": 0
                      },
                      {
                        "bin_start": 0.9,
                        "bin_end": 1,
                        "count": 3
                      }
                    ]
                  }
                },
                {
                  "name": "stress_target_covidistress",
                  "dtype": "float64",
                  "stats": {
                    "unique_count": 76,
                    "nan_count": 0,
                    "min": "0.375",
                    "max": "0.625",
                    "histogram": [
                      {
                        "bin_start": 0.375,
                        "bin_end": 0.4,
                        "count": 1
                      },
                      {
                        "bin_start": 0.4,
                        "bin_end": 0.425,
                        "count": 4
                      },
                      {
                        "bin_start": 0.425,
                        "bin_end": 0.45,
                        "count": 6
                      },
                      {
                        "bin_start": 0.45,
                        "bin_end": 0.475,
                        "count": 17
                      },
                      {
                        "bin_start": 0.475,
                        "bin_end": 0.5,
                        "count": 36
                      },
                      {
                        "bin_start": 0.5,
                        "bin_end": 0.525,
                        "count": 11
                      },
                      {
                        "bin_start": 0.525,
                        "bin_end": 0.55,
                        "count": 6
                      },
                      {
                        "bin_start": 0.55,
                        "bin_end": 0.575,
                        "count": 4
                      },
                      {
                        "bin_start": 0.575,
                        "bin_end": 0.6,
                        "count": 1
                      },
                      {
                        "bin_start": 0.6,
                        "bin_end": 0.625,
                        "count": 3
                      }
                    ]
                  }
                },
                {
                  "name": "support",
                  "dtype": "int64",
                  "stats": {
                    "unique_count": 47,
                    "nan_count": 0,
                    "min": "1",
                    "max": "2263",
                    "histogram": [
                      {
                        "bin_start": 1,
                        "bin_end": 227.2,
                        "count": 77
                      },
                      {
                        "bin_start": 227.2,
                        "bin_end": 453.4,
                        "count": 6
                      },
                      {
                        "bin_start": 453.4,
                        "bin_end": 679.5999999999999,
                        "count": 3
                      },
                      {
                        "bin_start": 679.5999999999999,
                        "bin_end": 905.8,
                        "count": 1
                      },
                      {
                        "bin_start": 905.8,
                        "bin_end": 1132,
                        "count": 1
                      },
                      {
                        "bin_start": 1132,
                        "bin_end": 1358.1999999999998,
                        "count": 0
                      },
                      {
                        "bin_start": 1358.1999999999998,
                        "bin_end": 1584.3999999999999,
                        "count": 0
                      },
                      {
                        "bin_start": 1584.3999999999999,
                        "bin_end": 1810.6,
                        "count": 0
                      },
                      {
                        "bin_start": 1810.6,
                        "bin_end": 2036.8,
                        "count": 0
                      },
                      {
                        "bin_start": 2036.8,
                        "bin_end": 2263,
                        "count": 1
                      }
                    ]
                  }
                },
                {
                  "name": "_deepnote_index_column",
                  "dtype": "object"
                }
              ],
              "rows_top": [
                {
                  "loneliness_target_covidistress": 0.34183840366372265,
                  "stress_target_covidistress": 0.47917075564278744,
                  "support": 1019,
                  "_deepnote_index_column": "('Auvergne-Rhône-Alpes', Timestamp('2020-04-06 00:00:00'))"
                },
                {
                  "loneliness_target_covidistress": 0.3488247863247865,
                  "stress_target_covidistress": 0.4923076923076922,
                  "support": 156,
                  "_deepnote_index_column": "('Auvergne-Rhône-Alpes', Timestamp('2020-04-13 00:00:00'))"
                },
                {
                  "loneliness_target_covidistress": 0.4281609195402299,
                  "stress_target_covidistress": 0.5008620689655173,
                  "support": 29,
                  "_deepnote_index_column": "('Auvergne-Rhône-Alpes', Timestamp('2020-04-20 00:00:00'))"
                },
                {
                  "loneliness_target_covidistress": 0.5208333333333334,
                  "stress_target_covidistress": 0.56875,
                  "support": 4,
                  "_deepnote_index_column": "('Auvergne-Rhône-Alpes', Timestamp('2020-04-27 00:00:00'))"
                },
                {
                  "loneliness_target_covidistress": 0.43749999999999994,
                  "stress_target_covidistress": 0.5104166666666666,
                  "support": 12,
                  "_deepnote_index_column": "('Auvergne-Rhône-Alpes', Timestamp('2020-05-04 00:00:00'))"
                },
                {
                  "loneliness_target_covidistress": 0.346875,
                  "stress_target_covidistress": 0.4753125000000001,
                  "support": 80,
                  "_deepnote_index_column": "('Auvergne-Rhône-Alpes', Timestamp('2020-05-11 00:00:00'))"
                },
                {
                  "loneliness_target_covidistress": 0.5277777777777778,
                  "stress_target_covidistress": 0.5,
                  "support": 3,
                  "_deepnote_index_column": "('Auvergne-Rhône-Alpes', Timestamp('2020-05-18 00:00:00'))"
                },
                {
                  "loneliness_target_covidistress": 0.5277777777777778,
                  "stress_target_covidistress": 0.4916666666666667,
                  "support": 3,
                  "_deepnote_index_column": "('Auvergne-Rhône-Alpes', Timestamp('2020-05-25 00:00:00'))"
                },
                {
                  "loneliness_target_covidistress": 0.38790560471976415,
                  "stress_target_covidistress": 0.46991150442477897,
                  "support": 226,
                  "_deepnote_index_column": "('Bourgogne-Franche-Comté', Timestamp('2020-04-06 00:00:00'))"
                },
                {
                  "loneliness_target_covidistress": 0.33333333333333337,
                  "stress_target_covidistress": 0.4847222222222221,
                  "support": 36,
                  "_deepnote_index_column": "('Bourgogne-Franche-Comté', Timestamp('2020-04-13 00:00:00'))"
                },
                {
                  "loneliness_target_covidistress": 0.25,
                  "stress_target_covidistress": 0.5,
                  "support": 2,
                  "_deepnote_index_column": "('Bourgogne-Franche-Comté', Timestamp('2020-04-20 00:00:00'))"
                },
                {
                  "loneliness_target_covidistress": 0.45833333333333337,
                  "stress_target_covidistress": 0.47500000000000003,
                  "support": 2,
                  "_deepnote_index_column": "('Bourgogne-Franche-Comté', Timestamp('2020-04-27 00:00:00'))"
                },
                {
                  "loneliness_target_covidistress": 1,
                  "stress_target_covidistress": 0.625,
                  "support": 1,
                  "_deepnote_index_column": "('Bourgogne-Franche-Comté', Timestamp('2020-05-04 00:00:00'))"
                },
                {
                  "loneliness_target_covidistress": 0.357843137254902,
                  "stress_target_covidistress": 0.475,
                  "support": 17,
                  "_deepnote_index_column": "('Bourgogne-Franche-Comté', Timestamp('2020-05-11 00:00:00'))"
                },
                {
                  "loneliness_target_covidistress": 0.3418246445497629,
                  "stress_target_covidistress": 0.4785545023696682,
                  "support": 422,
                  "_deepnote_index_column": "('Bretagne', Timestamp('2020-04-06 00:00:00'))"
                },
                {
                  "loneliness_target_covidistress": 0.31045751633986934,
                  "stress_target_covidistress": 0.4887254901960785,
                  "support": 51,
                  "_deepnote_index_column": "('Bretagne', Timestamp('2020-04-13 00:00:00'))"
                },
                {
                  "loneliness_target_covidistress": 0.34523809523809523,
                  "stress_target_covidistress": 0.5250000000000001,
                  "support": 7,
                  "_deepnote_index_column": "('Bretagne', Timestamp('2020-04-20 00:00:00'))"
                },
                {
                  "loneliness_target_covidistress": 0.10714285714285712,
                  "stress_target_covidistress": 0.4642857142857143,
                  "support": 7,
                  "_deepnote_index_column": "('Bretagne', Timestamp('2020-04-27 00:00:00'))"
                },
                {
                  "loneliness_target_covidistress": 0.47916666666666663,
                  "stress_target_covidistress": 0.43437499999999996,
                  "support": 8,
                  "_deepnote_index_column": "('Bretagne', Timestamp('2020-05-04 00:00:00'))"
                },
                {
                  "loneliness_target_covidistress": 0.37862318840579706,
                  "stress_target_covidistress": 0.49347826086956526,
                  "support": 46,
                  "_deepnote_index_column": "('Bretagne', Timestamp('2020-05-11 00:00:00'))"
                },
                {
                  "loneliness_target_covidistress": 0.16666666666666666,
                  "stress_target_covidistress": 0.4375,
                  "support": 2,
                  "_deepnote_index_column": "('Bretagne', Timestamp('2020-05-18 00:00:00'))"
                },
                {
                  "loneliness_target_covidistress": 0.25,
                  "stress_target_covidistress": 0.375,
                  "support": 1,
                  "_deepnote_index_column": "('Bretagne', Timestamp('2020-05-25 00:00:00'))"
                },
                {
                  "loneliness_target_covidistress": 0.3302213001383126,
                  "stress_target_covidistress": 0.474066390041494,
                  "support": 241,
                  "_deepnote_index_column": "('Centre-Val de Loire', Timestamp('2020-04-06 00:00:00'))"
                },
                {
                  "loneliness_target_covidistress": 0.35802469135802467,
                  "stress_target_covidistress": 0.4648148148148149,
                  "support": 27,
                  "_deepnote_index_column": "('Centre-Val de Loire', Timestamp('2020-04-13 00:00:00'))"
                },
                {
                  "loneliness_target_covidistress": 0.35,
                  "stress_target_covidistress": 0.5050000000000001,
                  "support": 5,
                  "_deepnote_index_column": "('Centre-Val de Loire', Timestamp('2020-04-20 00:00:00'))"
                },
                {
                  "loneliness_target_covidistress": 0.6666666666666666,
                  "stress_target_covidistress": 0.4,
                  "support": 1,
                  "_deepnote_index_column": "('Centre-Val de Loire', Timestamp('2020-04-27 00:00:00'))"
                },
                {
                  "loneliness_target_covidistress": 0.3846153846153847,
                  "stress_target_covidistress": 0.42115384615384627,
                  "support": 13,
                  "_deepnote_index_column": "('Centre-Val de Loire', Timestamp('2020-05-11 00:00:00'))"
                },
                {
                  "loneliness_target_covidistress": 0.34135802469135834,
                  "stress_target_covidistress": 0.4860185185185188,
                  "support": 540,
                  "_deepnote_index_column": "('Grand-Est', Timestamp('2020-04-06 00:00:00'))"
                },
                {
                  "loneliness_target_covidistress": 0.31,
                  "stress_target_covidistress": 0.49349999999999994,
                  "support": 50,
                  "_deepnote_index_column": "('Grand-Est', Timestamp('2020-04-13 00:00:00'))"
                },
                {
                  "loneliness_target_covidistress": 0.37719298245614036,
                  "stress_target_covidistress": 0.5052631578947369,
                  "support": 19,
                  "_deepnote_index_column": "('Grand-Est', Timestamp('2020-04-20 00:00:00'))"
                },
                {
                  "loneliness_target_covidistress": 0.3611111111111111,
                  "stress_target_covidistress": 0.4833333333333334,
                  "support": 6,
                  "_deepnote_index_column": "('Grand-Est', Timestamp('2020-04-27 00:00:00'))"
                },
                {
                  "loneliness_target_covidistress": 0.25000000000000006,
                  "stress_target_covidistress": 0.47500000000000003,
                  "support": 6,
                  "_deepnote_index_column": "('Grand-Est', Timestamp('2020-05-04 00:00:00'))"
                },
                {
                  "loneliness_target_covidistress": 0.2906504065040651,
                  "stress_target_covidistress": 0.4707317073170732,
                  "support": 41,
                  "_deepnote_index_column": "('Grand-Est', Timestamp('2020-05-11 00:00:00'))"
                },
                {
                  "loneliness_target_covidistress": 0.26666666666666666,
                  "stress_target_covidistress": 0.41500000000000004,
                  "support": 5,
                  "_deepnote_index_column": "('Grand-Est', Timestamp('2020-05-18 00:00:00'))"
                },
                {
                  "loneliness_target_covidistress": 0.3333333333333333,
                  "stress_target_covidistress": 0.45,
                  "support": 1,
                  "_deepnote_index_column": "('Grand-Est', Timestamp('2020-05-25 00:00:00'))"
                },
                {
                  "loneliness_target_covidistress": 0.3616938616938618,
                  "stress_target_covidistress": 0.4910256410256416,
                  "support": 429,
                  "_deepnote_index_column": "('Hauts-de-France', Timestamp('2020-04-06 00:00:00'))"
                },
                {
                  "loneliness_target_covidistress": 0.35138888888888886,
                  "stress_target_covidistress": 0.4924999999999999,
                  "support": 60,
                  "_deepnote_index_column": "('Hauts-de-France', Timestamp('2020-04-13 00:00:00'))"
                },
                {
                  "loneliness_target_covidistress": 0.3819444444444444,
                  "stress_target_covidistress": 0.48125,
                  "support": 12,
                  "_deepnote_index_column": "('Hauts-de-France', Timestamp('2020-04-20 00:00:00'))"
                },
                {
                  "loneliness_target_covidistress": 0.22916666666666666,
                  "stress_target_covidistress": 0.525,
                  "support": 4,
                  "_deepnote_index_column": "('Hauts-de-France', Timestamp('2020-04-27 00:00:00'))"
                },
                {
                  "loneliness_target_covidistress": 0.08333333333333333,
                  "stress_target_covidistress": 0.475,
                  "support": 1,
                  "_deepnote_index_column": "('Hauts-de-France', Timestamp('2020-05-04 00:00:00'))"
                },
                {
                  "loneliness_target_covidistress": 0.3397435897435897,
                  "stress_target_covidistress": 0.47500000000000003,
                  "support": 26,
                  "_deepnote_index_column": "('Hauts-de-France', Timestamp('2020-05-11 00:00:00'))"
                },
                {
                  "loneliness_target_covidistress": 0.4166666666666667,
                  "stress_target_covidistress": 0.5,
                  "support": 1,
                  "_deepnote_index_column": "('Hauts-de-France', Timestamp('2020-05-18 00:00:00'))"
                },
                {
                  "loneliness_target_covidistress": 0.3193277310924368,
                  "stress_target_covidistress": 0.4692226890756302,
                  "support": 238,
                  "_deepnote_index_column": "('Normandie', Timestamp('2020-04-06 00:00:00'))"
                },
                {
                  "loneliness_target_covidistress": 0.3720238095238095,
                  "stress_target_covidistress": 0.44821428571428573,
                  "support": 28,
                  "_deepnote_index_column": "('Normandie', Timestamp('2020-04-13 00:00:00'))"
                },
                {
                  "loneliness_target_covidistress": 0.5833333333333334,
                  "stress_target_covidistress": 0.4625,
                  "support": 4,
                  "_deepnote_index_column": "('Normandie', Timestamp('2020-04-20 00:00:00'))"
                },
                {
                  "loneliness_target_covidistress": 0.16666666666666666,
                  "stress_target_covidistress": 0.6,
                  "support": 1,
                  "_deepnote_index_column": "('Normandie', Timestamp('2020-04-27 00:00:00'))"
                },
                {
                  "loneliness_target_covidistress": 0.3072916666666667,
                  "stress_target_covidistress": 0.471875,
                  "support": 16,
                  "_deepnote_index_column": "('Normandie', Timestamp('2020-05-11 00:00:00'))"
                },
                {
                  "loneliness_target_covidistress": 0.6666666666666666,
                  "stress_target_covidistress": 0.525,
                  "support": 2,
                  "_deepnote_index_column": "('Normandie', Timestamp('2020-05-18 00:00:00'))"
                },
                {
                  "loneliness_target_covidistress": 0.35257548845470693,
                  "stress_target_covidistress": 0.4872557726465368,
                  "support": 563,
                  "_deepnote_index_column": "('Nouvelle-Aquitaine', Timestamp('2020-04-06 00:00:00'))"
                },
                {
                  "loneliness_target_covidistress": 0.3461538461538462,
                  "stress_target_covidistress": 0.4846153846153846,
                  "support": 65,
                  "_deepnote_index_column": "('Nouvelle-Aquitaine', Timestamp('2020-04-13 00:00:00'))"
                },
                {
                  "loneliness_target_covidistress": 0.20833333333333334,
                  "stress_target_covidistress": 0.46249999999999997,
                  "support": 4,
                  "_deepnote_index_column": "('Nouvelle-Aquitaine', Timestamp('2020-04-20 00:00:00'))"
                },
                {
                  "loneliness_target_covidistress": 0.3333333333333333,
                  "stress_target_covidistress": 0.5375000000000001,
                  "support": 2,
                  "_deepnote_index_column": "('Nouvelle-Aquitaine', Timestamp('2020-04-27 00:00:00'))"
                },
                {
                  "loneliness_target_covidistress": 0.16666666666666666,
                  "stress_target_covidistress": 0.4875,
                  "support": 2,
                  "_deepnote_index_column": "('Nouvelle-Aquitaine', Timestamp('2020-05-04 00:00:00'))"
                },
                {
                  "loneliness_target_covidistress": 0.3074712643678162,
                  "stress_target_covidistress": 0.48448275862068957,
                  "support": 29,
                  "_deepnote_index_column": "('Nouvelle-Aquitaine', Timestamp('2020-05-11 00:00:00'))"
                },
                {
                  "loneliness_target_covidistress": 0.4166666666666667,
                  "stress_target_covidistress": 0.5875,
                  "support": 2,
                  "_deepnote_index_column": "('Nouvelle-Aquitaine', Timestamp('2020-05-18 00:00:00'))"
                },
                {
                  "loneliness_target_covidistress": 0.9166666666666666,
                  "stress_target_covidistress": 0.55,
                  "support": 1,
                  "_deepnote_index_column": "('Nouvelle-Aquitaine', Timestamp('2020-05-25 00:00:00'))"
                },
                {
                  "loneliness_target_covidistress": 0.35328979196903754,
                  "stress_target_covidistress": 0.48080551523947773,
                  "support": 689,
                  "_deepnote_index_column": "('Occitanie', Timestamp('2020-04-06 00:00:00'))"
                },
                {
                  "loneliness_target_covidistress": 0.3746498599439776,
                  "stress_target_covidistress": 0.49201680672268916,
                  "support": 119,
                  "_deepnote_index_column": "('Occitanie', Timestamp('2020-04-13 00:00:00'))"
                },
                {
                  "loneliness_target_covidistress": 0.3557692307692308,
                  "stress_target_covidistress": 0.4913461538461539,
                  "support": 26,
                  "_deepnote_index_column": "('Occitanie', Timestamp('2020-04-20 00:00:00'))"
                },
                {
                  "loneliness_target_covidistress": 0.4583333333333333,
                  "stress_target_covidistress": 0.4875,
                  "support": 6,
                  "_deepnote_index_column": "('Occitanie', Timestamp('2020-04-27 00:00:00'))"
                },
                {
                  "loneliness_target_covidistress": 0.08333333333333333,
                  "stress_target_covidistress": 0.5,
                  "support": 1,
                  "_deepnote_index_column": "('Occitanie', Timestamp('2020-05-04 00:00:00'))"
                },
                {
                  "loneliness_target_covidistress": 0.3199404761904762,
                  "stress_target_covidistress": 0.4924107142857142,
                  "support": 56,
                  "_deepnote_index_column": "('Occitanie', Timestamp('2020-05-11 00:00:00'))"
                },
                {
                  "loneliness_target_covidistress": 0.5833333333333334,
                  "stress_target_covidistress": 0.4,
                  "support": 1,
                  "_deepnote_index_column": "('Occitanie', Timestamp('2020-05-25 00:00:00'))"
                },
                {
                  "loneliness_target_covidistress": 0,
                  "stress_target_covidistress": 0.425,
                  "support": 1,
                  "_deepnote_index_column": "('Occitanie', Timestamp('2020-06-01 00:00:00'))"
                },
                {
                  "loneliness_target_covidistress": 0.3408764367816096,
                  "stress_target_covidistress": 0.48103448275862054,
                  "support": 464,
                  "_deepnote_index_column": "('Pays de la Loire', Timestamp('2020-04-06 00:00:00'))"
                },
                {
                  "loneliness_target_covidistress": 0.3444444444444444,
                  "stress_target_covidistress": 0.5066666666666667,
                  "support": 60,
                  "_deepnote_index_column": "('Pays de la Loire', Timestamp('2020-04-13 00:00:00'))"
                },
                {
                  "loneliness_target_covidistress": 0.29166666666666663,
                  "stress_target_covidistress": 0.45937500000000003,
                  "support": 8,
                  "_deepnote_index_column": "('Pays de la Loire', Timestamp('2020-04-20 00:00:00'))"
                },
                {
                  "loneliness_target_covidistress": 0.5492424242424242,
                  "stress_target_covidistress": 0.521590909090909,
                  "support": 22,
                  "_deepnote_index_column": "('Pays de la Loire', Timestamp('2020-04-27 00:00:00'))"
                },
                {
                  "loneliness_target_covidistress": 0.5972222222222222,
                  "stress_target_covidistress": 0.5291666666666667,
                  "support": 6,
                  "_deepnote_index_column": "('Pays de la Loire', Timestamp('2020-05-04 00:00:00'))"
                },
                {
                  "loneliness_target_covidistress": 0.3134920634920635,
                  "stress_target_covidistress": 0.46607142857142864,
                  "support": 42,
                  "_deepnote_index_column": "('Pays de la Loire', Timestamp('2020-05-11 00:00:00'))"
                },
                {
                  "loneliness_target_covidistress": 0.25,
                  "stress_target_covidistress": 0.4666666666666666,
                  "support": 3,
                  "_deepnote_index_column": "('Pays de la Loire', Timestamp('2020-05-18 00:00:00'))"
                },
                {
                  "loneliness_target_covidistress": 0.32989482200647247,
                  "stress_target_covidistress": 0.48167475728155346,
                  "support": 412,
                  "_deepnote_index_column": "(\"Provence-Alpes-Côte d'Azur\", Timestamp('2020-04-06 00:00:00'))"
                },
                {
                  "loneliness_target_covidistress": 0.35382513661202186,
                  "stress_target_covidistress": 0.49918032786885247,
                  "support": 61,
                  "_deepnote_index_column": "(\"Provence-Alpes-Côte d'Azur\", Timestamp('2020-04-13 00:00:00'))"
                },
                {
                  "loneliness_target_covidistress": 0.3333333333333333,
                  "stress_target_covidistress": 0.47083333333333327,
                  "support": 6,
                  "_deepnote_index_column": "(\"Provence-Alpes-Côte d'Azur\", Timestamp('2020-04-20 00:00:00'))"
                },
                {
                  "loneliness_target_covidistress": 0.6111111111111112,
                  "stress_target_covidistress": 0.5416666666666666,
                  "support": 3,
                  "_deepnote_index_column": "(\"Provence-Alpes-Côte d'Azur\", Timestamp('2020-04-27 00:00:00'))"
                },
                {
                  "loneliness_target_covidistress": 0.4666666666666667,
                  "stress_target_covidistress": 0.5599999999999999,
                  "support": 5,
                  "_deepnote_index_column": "(\"Provence-Alpes-Côte d'Azur\", Timestamp('2020-05-04 00:00:00'))"
                },
                {
                  "loneliness_target_covidistress": 0.3333333333333333,
                  "stress_target_covidistress": 0.44907407407407407,
                  "support": 27,
                  "_deepnote_index_column": "(\"Provence-Alpes-Côte d'Azur\", Timestamp('2020-05-11 00:00:00'))"
                },
                {
                  "loneliness_target_covidistress": 0.9166666666666666,
                  "stress_target_covidistress": 0.6,
                  "support": 1,
                  "_deepnote_index_column": "(\"Provence-Alpes-Côte d'Azur\", Timestamp('2020-05-25 00:00:00'))"
                },
                {
                  "loneliness_target_covidistress": 0.3333333333333333,
                  "stress_target_covidistress": 0.475,
                  "support": 1,
                  "_deepnote_index_column": "(\"Provence-Alpes-Côte d'Azur\", Timestamp('2020-06-01 00:00:00'))"
                },
                {
                  "loneliness_target_covidistress": 0.3333333333333333,
                  "stress_target_covidistress": 0.45,
                  "support": 2,
                  "_deepnote_index_column": "('Île-de-France', Timestamp('2020-03-30 00:00:00'))"
                },
                {
                  "loneliness_target_covidistress": 0.3571954632493742,
                  "stress_target_covidistress": 0.4879584622182942,
                  "support": 2263,
                  "_deepnote_index_column": "('Île-de-France', Timestamp('2020-04-06 00:00:00'))"
                },
                {
                  "loneliness_target_covidistress": 0.38133097762073004,
                  "stress_target_covidistress": 0.48674911660777376,
                  "support": 283,
                  "_deepnote_index_column": "('Île-de-France', Timestamp('2020-04-13 00:00:00'))"
                },
                {
                  "loneliness_target_covidistress": 0.37301587301587297,
                  "stress_target_covidistress": 0.499404761904762,
                  "support": 42,
                  "_deepnote_index_column": "('Île-de-France', Timestamp('2020-04-20 00:00:00'))"
                },
                {
                  "loneliness_target_covidistress": 0.356060606060606,
                  "stress_target_covidistress": 0.4522727272727273,
                  "support": 11,
                  "_deepnote_index_column": "('Île-de-France', Timestamp('2020-04-27 00:00:00'))"
                },
                {
                  "loneliness_target_covidistress": 0.3333333333333333,
                  "stress_target_covidistress": 0.49375,
                  "support": 16,
                  "_deepnote_index_column": "('Île-de-France', Timestamp('2020-05-04 00:00:00'))"
                },
                {
                  "loneliness_target_covidistress": 0.36500000000000005,
                  "stress_target_covidistress": 0.47083333333333355,
                  "support": 150,
                  "_deepnote_index_column": "('Île-de-France', Timestamp('2020-05-11 00:00:00'))"
                },
                {
                  "loneliness_target_covidistress": 0.32407407407407407,
                  "stress_target_covidistress": 0.5249999999999999,
                  "support": 9,
                  "_deepnote_index_column": "('Île-de-France', Timestamp('2020-05-18 00:00:00'))"
                },
                {
                  "loneliness_target_covidistress": 0.19444444444444442,
                  "stress_target_covidistress": 0.5583333333333333,
                  "support": 3,
                  "_deepnote_index_column": "('Île-de-France', Timestamp('2020-05-25 00:00:00'))"
                },
                {
                  "loneliness_target_covidistress": 0.5833333333333334,
                  "stress_target_covidistress": 0.425,
                  "support": 1,
                  "_deepnote_index_column": "('Île-de-France', Timestamp('2020-06-01 00:00:00'))"
                }
              ],
              "rows_bottom": null
            },
            "text/plain": "                                 loneliness_target_covidistress  \\\nregion               date                                         \nAuvergne-Rhône-Alpes 2020-04-06                        0.341838   \n                     2020-04-13                        0.348825   \n                     2020-04-20                        0.428161   \n                     2020-04-27                        0.520833   \n                     2020-05-04                        0.437500   \n...                                                         ...   \nÎle-de-France        2020-05-04                        0.333333   \n                     2020-05-11                        0.365000   \n                     2020-05-18                        0.324074   \n                     2020-05-25                        0.194444   \n                     2020-06-01                        0.583333   \n\n                                 stress_target_covidistress  support  \nregion               date                                             \nAuvergne-Rhône-Alpes 2020-04-06                    0.479171     1019  \n                     2020-04-13                    0.492308      156  \n                     2020-04-20                    0.500862       29  \n                     2020-04-27                    0.568750        4  \n                     2020-05-04                    0.510417       12  \n...                                                     ...      ...  \nÎle-de-France        2020-05-04                    0.493750       16  \n                     2020-05-11                    0.470833      150  \n                     2020-05-18                    0.525000        9  \n                     2020-05-25                    0.558333        3  \n                     2020-06-01                    0.425000        1  \n\n[89 rows x 3 columns]",
            "text/html": "<div>\n<style scoped>\n    .dataframe tbody tr th:only-of-type {\n        vertical-align: middle;\n    }\n\n    .dataframe tbody tr th {\n        vertical-align: top;\n    }\n\n    .dataframe thead th {\n        text-align: right;\n    }\n</style>\n<table border=\"1\" class=\"dataframe\">\n  <thead>\n    <tr style=\"text-align: right;\">\n      <th></th>\n      <th></th>\n      <th>loneliness_target_covidistress</th>\n      <th>stress_target_covidistress</th>\n      <th>support</th>\n    </tr>\n    <tr>\n      <th>region</th>\n      <th>date</th>\n      <th></th>\n      <th></th>\n      <th></th>\n    </tr>\n  </thead>\n  <tbody>\n    <tr>\n      <th rowspan=\"5\" valign=\"top\">Auvergne-Rhône-Alpes</th>\n      <th>2020-04-06</th>\n      <td>0.341838</td>\n      <td>0.479171</td>\n      <td>1019</td>\n    </tr>\n    <tr>\n      <th>2020-04-13</th>\n      <td>0.348825</td>\n      <td>0.492308</td>\n      <td>156</td>\n    </tr>\n    <tr>\n      <th>2020-04-20</th>\n      <td>0.428161</td>\n      <td>0.500862</td>\n      <td>29</td>\n    </tr>\n    <tr>\n      <th>2020-04-27</th>\n      <td>0.520833</td>\n      <td>0.568750</td>\n      <td>4</td>\n    </tr>\n    <tr>\n      <th>2020-05-04</th>\n      <td>0.437500</td>\n      <td>0.510417</td>\n      <td>12</td>\n    </tr>\n    <tr>\n      <th>...</th>\n      <th>...</th>\n      <td>...</td>\n      <td>...</td>\n      <td>...</td>\n    </tr>\n    <tr>\n      <th rowspan=\"5\" valign=\"top\">Île-de-France</th>\n      <th>2020-05-04</th>\n      <td>0.333333</td>\n      <td>0.493750</td>\n      <td>16</td>\n    </tr>\n    <tr>\n      <th>2020-05-11</th>\n      <td>0.365000</td>\n      <td>0.470833</td>\n      <td>150</td>\n    </tr>\n    <tr>\n      <th>2020-05-18</th>\n      <td>0.324074</td>\n      <td>0.525000</td>\n      <td>9</td>\n    </tr>\n    <tr>\n      <th>2020-05-25</th>\n      <td>0.194444</td>\n      <td>0.558333</td>\n      <td>3</td>\n    </tr>\n    <tr>\n      <th>2020-06-01</th>\n      <td>0.583333</td>\n      <td>0.425000</td>\n      <td>1</td>\n    </tr>\n  </tbody>\n</table>\n<p>89 rows × 3 columns</p>\n</div>"
          },
          "metadata": {}
        }
      ],
      "execution_count": 53
    },
    {
      "cell_type": "code",
      "source": "df_global_fr_final_gr[\"support\"][df_global_fr_final_gr.support > 10].count()",
      "metadata": {
        "tags": [],
        "cell_id": "00034-bad20e3f-1f13-48ec-a8c0-5dff649a7416",
        "deepnote_to_be_reexecuted": false,
        "source_hash": "38566b3c",
        "execution_millis": 9,
        "execution_start": 1619257109177,
        "deepnote_cell_type": "code"
      },
      "outputs": [
        {
          "output_type": "execute_result",
          "execution_count": 55,
          "data": {
            "text/plain": "45"
          },
          "metadata": {}
        }
      ],
      "execution_count": 55
    },
    {
      "cell_type": "code",
      "source": "df_global_fr_final_gr.to_csv(\"COVIDiSTRESS_region_date_FINAL.csv\")",
      "metadata": {
        "tags": [],
        "cell_id": "00034-cb49a5f1-cabb-43b6-b8bd-f30ca767e9b6",
        "deepnote_to_be_reexecuted": false,
        "source_hash": "eb55a8fc",
        "execution_start": 1619256729841,
        "execution_millis": 1,
        "deepnote_cell_type": "code"
      },
      "outputs": [],
      "execution_count": 48
    },
    {
      "cell_type": "markdown",
      "source": "<a style='text-decoration:none;line-height:16px;display:flex;color:#5B5B62;padding:10px;justify-content:end;' href='https://deepnote.com?utm_source=created-in-deepnote-cell&projectId=ee440d56-15d8-47e2-9125-c7817d63a1b6' target=\"_blank\">\n<img alt='Created in deepnote.com' style='display:inline;max-height:16px;margin:0px;margin-right:7.5px;' src='data:image/svg+xml;base64,PD94bWwgdmVyc2lvbj0iMS4wIiBlbmNvZGluZz0iVVRGLTgiPz4KPHN2ZyB3aWR0aD0iODBweCIgaGVpZ2h0PSI4MHB4IiB2aWV3Qm94PSIwIDAgODAgODAiIHZlcnNpb249IjEuMSIgeG1sbnM9Imh0dHA6Ly93d3cudzMub3JnLzIwMDAvc3ZnIiB4bWxuczp4bGluaz0iaHR0cDovL3d3dy53My5vcmcvMTk5OS94bGluayI+CiAgICA8IS0tIEdlbmVyYXRvcjogU2tldGNoIDU0LjEgKDc2NDkwKSAtIGh0dHBzOi8vc2tldGNoYXBwLmNvbSAtLT4KICAgIDx0aXRsZT5Hcm91cCAzPC90aXRsZT4KICAgIDxkZXNjPkNyZWF0ZWQgd2l0aCBTa2V0Y2guPC9kZXNjPgogICAgPGcgaWQ9IkxhbmRpbmciIHN0cm9rZT0ibm9uZSIgc3Ryb2tlLXdpZHRoPSIxIiBmaWxsPSJub25lIiBmaWxsLXJ1bGU9ImV2ZW5vZGQiPgogICAgICAgIDxnIGlkPSJBcnRib2FyZCIgdHJhbnNmb3JtPSJ0cmFuc2xhdGUoLTEyMzUuMDAwMDAwLCAtNzkuMDAwMDAwKSI+CiAgICAgICAgICAgIDxnIGlkPSJHcm91cC0zIiB0cmFuc2Zvcm09InRyYW5zbGF0ZSgxMjM1LjAwMDAwMCwgNzkuMDAwMDAwKSI+CiAgICAgICAgICAgICAgICA8cG9seWdvbiBpZD0iUGF0aC0yMCIgZmlsbD0iIzAyNjVCNCIgcG9pbnRzPSIyLjM3NjIzNzYyIDgwIDM4LjA0NzY2NjcgODAgNTcuODIxNzgyMiA3My44MDU3NTkyIDU3LjgyMTc4MjIgMzIuNzU5MjczOSAzOS4xNDAyMjc4IDMxLjY4MzE2ODMiPjwvcG9seWdvbj4KICAgICAgICAgICAgICAgIDxwYXRoIGQ9Ik0zNS4wMDc3MTgsODAgQzQyLjkwNjIwMDcsNzYuNDU0OTM1OCA0Ny41NjQ5MTY3LDcxLjU0MjI2NzEgNDguOTgzODY2LDY1LjI2MTk5MzkgQzUxLjExMjI4OTksNTUuODQxNTg0MiA0MS42NzcxNzk1LDQ5LjIxMjIyODQgMjUuNjIzOTg0Niw0OS4yMTIyMjg0IEMyNS40ODQ5Mjg5LDQ5LjEyNjg0NDggMjkuODI2MTI5Niw0My4yODM4MjQ4IDM4LjY0NzU4NjksMzEuNjgzMTY4MyBMNzIuODcxMjg3MSwzMi41NTQ0MjUgTDY1LjI4MDk3Myw2Ny42NzYzNDIxIEw1MS4xMTIyODk5LDc3LjM3NjE0NCBMMzUuMDA3NzE4LDgwIFoiIGlkPSJQYXRoLTIyIiBmaWxsPSIjMDAyODY4Ij48L3BhdGg+CiAgICAgICAgICAgICAgICA8cGF0aCBkPSJNMCwzNy43MzA0NDA1IEwyNy4xMTQ1MzcsMC4yNTcxMTE0MzYgQzYyLjM3MTUxMjMsLTEuOTkwNzE3MDEgODAsMTAuNTAwMzkyNyA4MCwzNy43MzA0NDA1IEM4MCw2NC45NjA0ODgyIDY0Ljc3NjUwMzgsNzkuMDUwMzQxNCAzNC4zMjk1MTEzLDgwIEM0Ny4wNTUzNDg5LDc3LjU2NzA4MDggNTMuNDE4MjY3Nyw3MC4zMTM2MTAzIDUzLjQxODI2NzcsNTguMjM5NTg4NSBDNTMuNDE4MjY3Nyw0MC4xMjg1NTU3IDM2LjMwMzk1NDQsMzcuNzMwNDQwNSAyNS4yMjc0MTcsMzcuNzMwNDQwNSBDMTcuODQzMDU4NiwzNy43MzA0NDA1IDkuNDMzOTE5NjYsMzcuNzMwNDQwNSAwLDM3LjczMDQ0MDUgWiIgaWQ9IlBhdGgtMTkiIGZpbGw9IiMzNzkzRUYiPjwvcGF0aD4KICAgICAgICAgICAgPC9nPgogICAgICAgIDwvZz4KICAgIDwvZz4KPC9zdmc+' > </img>\nCreated in <span style='font-weight:600;margin-left:4px;'>Deepnote</span></a>",
      "metadata": {
        "tags": [],
        "created_in_deepnote_cell": true,
        "deepnote_cell_type": "markdown"
      }
    }
  ],
  "nbformat": 4,
  "nbformat_minor": 2,
  "metadata": {
    "orig_nbformat": 2,
    "deepnote": {
      "is_reactive": false
    },
    "deepnote_notebook_id": "223ef938-b615-4690-b176-ccd4ee4c6a50",
    "deepnote_execution_queue": []
  }
}